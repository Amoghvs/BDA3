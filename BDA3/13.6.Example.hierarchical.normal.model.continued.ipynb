{
 "cells": [
  {
   "cell_type": "code",
   "execution_count": 1,
   "metadata": {
    "collapsed": true
   },
   "outputs": [],
   "source": [
    "%matplotlib inline\n",
    "import numpy as np\n",
    "import scipy as sp\n",
    "from scipy import stats\n",
    "import matplotlib.pyplot as plt\n",
    "import sklearn\n",
    "import pandas as pd\n",
    "from pandas import DataFrame, Series\n",
    "from numpy import nan as NA"
   ]
  },
  {
   "cell_type": "code",
   "execution_count": 2,
   "metadata": {
    "collapsed": false
   },
   "outputs": [],
   "source": [
    "data=DataFrame([[62,60,63,59],[63,67,71,64,65,66],[68,66,71,67,68,68],[56,62,60,61,63,64,63,59]]).T\n",
    "Parameter=[u\"$\\theta_1$\",u\"$\\theta2$\",u\"$\\theta_3$\",u\"$\\theta_4$\",u\"$\\mu$\",u\"$\\sigma$\",u\"$\\tau$\"]"
   ]
  },
  {
   "cell_type": "code",
   "execution_count": 3,
   "metadata": {
    "collapsed": false
   },
   "outputs": [],
   "source": [
    "Crude_initial_parameter_estimates=[np.mean(data[0]),np.mean(data[1]),np.mean(data[2]),np.mean(data[3]),\n",
    "                                   np.mean(np.mean(data)),np.sqrt(np.mean(np.var(data,ddof=1))),np.sqrt(np.var(np.mean(data),ddof=1))]"
   ]
  },
  {
   "cell_type": "code",
   "execution_count": 4,
   "metadata": {
    "collapsed": false
   },
   "outputs": [
    {
     "data": {
      "text/plain": [
       "[61.0, 66.0, 68.0, 61.0, 64.0, 2.2907682221514789, 3.5590260840104371]"
      ]
     },
     "execution_count": 4,
     "metadata": {},
     "output_type": "execute_result"
    }
   ],
   "source": [
    "Crude_initial_parameter_estimates"
   ]
  },
  {
   "cell_type": "code",
   "execution_count": 52,
   "metadata": {
    "collapsed": false
   },
   "outputs": [],
   "source": [
    "def log_p(y_ij,theta_j,mu,sigma,tau):\n",
    "    J=len(y_ij.T)\n",
    "    n=0\n",
    "    for i in range(J):\n",
    "        n=n+len(y_ij.ix[:,i].dropna())\n",
    "    return -n*np.log(sigma)-(J-1)*np.log(tau)-1./(2*tau**2)*np.sum((theta_j-mu)**2)-1./(2*sigma**2)*np.sum(np.sum((y_ij-theta_j)**2))\n",
    "\n",
    "def theta_j_hat(y_ij,mu,sigma,tau):\n",
    "    n_j=[]\n",
    "    for i in range(len(y_ij.T)):\n",
    "        n_j.append(len(y_ij.ix[:,i].dropna()))\n",
    "    n_j=np.array(n_j)\n",
    "    return 1.*(sigma**2*mu+tau**2*n_j*np.mean(y_ij))/(sigma**2+n_j*tau**2)\n",
    "\n",
    "def V_theta_j(y_ij,sigma,tau):\n",
    "    n_j=[]\n",
    "    for i in range(len(y_ij.T)):\n",
    "        n_j.append(len(y_ij.ix[:,i].dropna()))\n",
    "    n_j=np.array(n_j)\n",
    "    return 1.*(tau**2*sigma**2)/(sigma**2+n_j*tau**2)\n",
    "\n",
    "def E_log_p(y_ij,theta_j,mu,sigma,tau):\n",
    "    J=len(y_ij.T)\n",
    "    n=0\n",
    "    for i in range(J):\n",
    "        n=n+len(y_ij.ix[:,i].dropna())\n",
    "    theta_j_hat=1.*(sigma**2*mu+tau**2*n*np.mean(y_ij))/(sigma**2+n*tau**2)\n",
    "    V_theta_j=1.*(tau**2*sigma**2)/(sigma**2+n*tau**2)\n",
    "    return -n*np.log(sigma)-(J-1)*np.log(tau)-1./(2*tau**2)*((theta_j_hat-mu)**2+V_theta_j)-1./(2*sigma**2)*((theta_j_hat-mu)**2+V_theta_j)\n",
    "\n",
    "\n",
    "def EM(y_ij,ite):\n",
    "    J=len(y_ij.T)\n",
    "    n=0\n",
    "    for i in range(J):\n",
    "        n=n+len(y_ij.ix[:,i].dropna())\n",
    "    mu=[0]\n",
    "    sigma=[1]\n",
    "    tau=[1]\n",
    "    theta_j=[]\n",
    "    log_posterior_dens=[]\n",
    "    for i in range(ite):\n",
    "        mu_new=1.*np.sum(theta_j_hat(y_ij,mu[i],sigma[i],tau[i]))/J\n",
    "        sigma_new=np.sqrt(1.*np.sum(np.sum((y_ij-theta_j_hat(y_ij,mu[i],sigma[i],tau[i]))**2+V_theta_j(y_ij,sigma[i],tau[i])))/n)\n",
    "        tau_new=np.sqrt(1.*np.sum((theta_j_hat(y_ij,mu[i],sigma[i],tau[i])-mu_new)**2+V_theta_j(y_ij,sigma[i],tau[i]))/(J-1))\n",
    "        log_posterior_dens.append(log_p(y_ij,theta_j_hat(y_ij,mu_new,sigma_new,tau_new),mu_new,sigma_new,tau_new))\n",
    "        mu.append(mu_new)\n",
    "        sigma.append(sigma_new)\n",
    "        tau.append(tau_new)\n",
    "        theta_j.append(theta_j_hat(y_ij,mu_new,sigma_new,tau_new))\n",
    "    return np.array([theta_j,mu,sigma,tau,log_posterior_dens])\n",
    "        \n",
    "        \n",
    "        "
   ]
  },
  {
   "cell_type": "code",
   "execution_count": 90,
   "metadata": {
    "collapsed": false
   },
   "outputs": [],
   "source": [
    "result=EM(data,100)"
   ]
  },
  {
   "cell_type": "code",
   "execution_count": 92,
   "metadata": {
    "collapsed": false
   },
   "outputs": [
    {
     "data": {
      "text/plain": [
       "[<matplotlib.lines.Line2D at 0x198dbc50>]"
      ]
     },
     "execution_count": 92,
     "metadata": {},
     "output_type": "execute_result"
    },
    {
     "data": {
      "image/png": "[encoded data removed]",
      "text/plain": [
       "<matplotlib.figure.Figure at 0x18ec01d0>"
      ]
     },
     "metadata": {},
     "output_type": "display_data"
    }
   ],
   "source": [
    "plt.subplot(411)\n",
    "plt.plot(result[1])\n",
    "\n",
    "plt.subplot(412)\n",
    "plt.plot(result[2])\n",
    "\n",
    "plt.subplot(413)\n",
    "plt.plot(result[3])\n",
    "\n",
    "plt.subplot(414)\n",
    "plt.plot(result[4])"
   ]
  },
  {
   "cell_type": "code",
   "execution_count": 93,
   "metadata": {
    "collapsed": true
   },
   "outputs": [],
   "source": [
    "First_estimate=[result[0][0][0],result[0][0][1],result[0][0][2],result[0][0][3],result[1][1],result[2][1],result[3][1]]\n",
    "Second_estimate=[result[0][1][0],result[0][1][1],result[0][1][2],result[0][1][3],result[1][2],result[2][2],result[3][2]]\n",
    "Third_estimate=[result[0][2][0],result[0][2][1],result[0][2][2],result[0][2][3],result[1][3],result[2][3],result[3][3]]\n",
    "One_hundred_estimate=[result[0][99][0],result[0][99][1],result[0][99][2],result[0][99][3],result[1][100],result[2][100],result[3][100]]"
   ]
  },
  {
   "cell_type": "code",
   "execution_count": 96,
   "metadata": {
    "collapsed": false
   },
   "outputs": [],
   "source": [
    "Table13_1=DataFrame([Crude_initial_parameter_estimates,First_estimate,Second_estimate,Third_estimate,One_hundred_estimate],\n",
    "                    index=[\"Crude estimate\",\"First iteration\",\"Second iteration\",\"Third iteration\",\"One hundred iteration\"],\n",
    "                   columns=[u\"$\\theta_1$\",u\"$\\theta_2$\",u\"$\\theta_3$\",u\"$\\theta_4$\",u\"$\\mu$\",u\"$\\sigma$\",u\"$\\tau$\"]).T"
   ]
  },
  {
   "cell_type": "code",
   "execution_count": 97,
   "metadata": {
    "collapsed": false
   },
   "outputs": [
    {
     "data": {
      "text/html": [
       "<div style=\"max-height:1000px;max-width:1500px;overflow:auto;\">\n",
       "<table border=\"1\" class=\"dataframe\">\n",
       "  <thead>\n",
       "    <tr style=\"text-align: right;\">\n",
       "      <th></th>\n",
       "      <th>Crude estimate</th>\n",
       "      <th>First iteration</th>\n",
       "      <th>Second iteration</th>\n",
       "      <th>Third iteration</th>\n",
       "      <th>One hundred iteration</th>\n",
       "    </tr>\n",
       "  </thead>\n",
       "  <tbody>\n",
       "    <tr>\n",
       "      <th>$\\theta_1$</th>\n",
       "      <td> 61.000000</td>\n",
       "      <td> 57.291497</td>\n",
       "      <td> 60.452293</td>\n",
       "      <td> 61.317058</td>\n",
       "      <td> 61.312442</td>\n",
       "    </tr>\n",
       "    <tr>\n",
       "      <th>$\\theta_2$</th>\n",
       "      <td> 66.000000</td>\n",
       "      <td> 60.615325</td>\n",
       "      <td> 64.198856</td>\n",
       "      <td> 65.578453</td>\n",
       "      <td> 65.857633</td>\n",
       "    </tr>\n",
       "    <tr>\n",
       "      <th>$\\theta_3$</th>\n",
       "      <td> 68.000000</td>\n",
       "      <td> 61.681309</td>\n",
       "      <td> 65.644688</td>\n",
       "      <td> 67.319818</td>\n",
       "      <td> 67.714385</td>\n",
       "    </tr>\n",
       "    <tr>\n",
       "      <th>$\\theta_4$</th>\n",
       "      <td> 61.000000</td>\n",
       "      <td> 58.410437</td>\n",
       "      <td> 60.665000</td>\n",
       "      <td> 61.174418</td>\n",
       "      <td> 61.164766</td>\n",
       "    </tr>\n",
       "    <tr>\n",
       "      <th>$\\mu$</th>\n",
       "      <td> 64.000000</td>\n",
       "      <td> 54.469841</td>\n",
       "      <td> 59.499642</td>\n",
       "      <td> 62.740209</td>\n",
       "      <td> 64.012306</td>\n",
       "    </tr>\n",
       "    <tr>\n",
       "      <th>$\\sigma$</th>\n",
       "      <td>  2.290768</td>\n",
       "      <td>  9.525976</td>\n",
       "      <td>  5.862606</td>\n",
       "      <td>  3.323278</td>\n",
       "      <td>  2.361529</td>\n",
       "    </tr>\n",
       "    <tr>\n",
       "      <th>$\\tau$</th>\n",
       "      <td>  3.559026</td>\n",
       "      <td>  4.154628</td>\n",
       "      <td>  3.865925</td>\n",
       "      <td>  3.520406</td>\n",
       "      <td>  3.470962</td>\n",
       "    </tr>\n",
       "  </tbody>\n",
       "</table>\n",
       "</div>"
      ],
      "text/plain": [
       "            Crude estimate  First iteration  Second iteration  \\\n",
       "$\\theta_1$       61.000000        57.291497         60.452293   \n",
       "$\\theta_2$       66.000000        60.615325         64.198856   \n",
       "$\\theta_3$       68.000000        61.681309         65.644688   \n",
       "$\\theta_4$       61.000000        58.410437         60.665000   \n",
       "$\\mu$            64.000000        54.469841         59.499642   \n",
       "$\\sigma$          2.290768         9.525976          5.862606   \n",
       "$\\tau$            3.559026         4.154628          3.865925   \n",
       "\n",
       "            Third iteration  One hundred iteration  \n",
       "$\\theta_1$        61.317058              61.312442  \n",
       "$\\theta_2$        65.578453              65.857633  \n",
       "$\\theta_3$        67.319818              67.714385  \n",
       "$\\theta_4$        61.174418              61.164766  \n",
       "$\\mu$             62.740209              64.012306  \n",
       "$\\sigma$           3.323278               2.361529  \n",
       "$\\tau$             3.520406               3.470962  "
      ]
     },
     "execution_count": 97,
     "metadata": {},
     "output_type": "execute_result"
    }
   ],
   "source": [
    "Table13_1"
   ]
  },
  {
   "cell_type": "code",
   "execution_count": 99,
   "metadata": {
    "collapsed": false
   },
   "outputs": [
    {
     "data": {
      "text/plain": [
       "[<matplotlib.lines.Line2D at 0x19ca5748>]"
      ]
     },
     "execution_count": 99,
     "metadata": {},
     "output_type": "execute_result"
    },
    {
     "data": {
      "image/png": "[encoded data removed]",
      "text/plain": [
       "<matplotlib.figure.Figure at 0x18ec0f28>"
      ]
     },
     "metadata": {},
     "output_type": "display_data"
    }
   ],
   "source": [
    "plt.plot(result[4])"
   ]
  },
  {
   "cell_type": "code",
   "execution_count": null,
   "metadata": {
    "collapsed": true
   },
   "outputs": [],
   "source": []
  }
 ],
 "metadata": {
  "kernelspec": {
   "display_name": "Python 2",
   "language": "python",
   "name": "python2"
  },
  "language_info": {
   "codemirror_mode": {
    "name": "ipython",
    "version": 2
   },
   "file_extension": ".py",
   "mimetype": "text/x-python",
   "name": "python",
   "nbconvert_exporter": "python",
   "pygments_lexer": "ipython2",
   "version": "2.7.9"
  }
 },
 "nbformat": 4,
 "nbformat_minor": 0
}
