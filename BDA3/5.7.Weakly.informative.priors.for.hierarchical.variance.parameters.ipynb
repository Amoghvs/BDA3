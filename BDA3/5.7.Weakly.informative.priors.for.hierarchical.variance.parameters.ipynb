{
 "metadata": {
  "name": "",
  "signature": "sha256:0ff3e6e40ee3738eb8700ff92d0e1ee5b23fe94463341a6ab16e624839eb3d44"
 },
 "nbformat": 3,
 "nbformat_minor": 0,
 "worksheets": [
  {
   "cells": [
    {
     "cell_type": "code",
     "collapsed": false,
     "input": [
      "%matplotlib inline\n",
      "import numpy as np\n",
      "import scipy as sp\n",
      "from scipy import stats\n",
      "import matplotlib.pyplot as plt\n",
      "import sklearn\n",
      "import pandas as pd\n",
      "from pandas import DataFrame, Series\n",
      "from numpy import nan as NA"
     ],
     "language": "python",
     "metadata": {},
     "outputs": [],
     "prompt_number": 1
    },
    {
     "cell_type": "code",
     "collapsed": false,
     "input": [
      "data=DataFrame([[\"A\",\"B\",\"C\",\"D\",\"E\",\"F\",\"G\",\"H\"],[28,8,-3,7,-1,1,18,12],[15,10,16,11,9,11,10,18]],index=[\"School\",\"Estimated treatment effect, y_j\",\"Standard error of effect estimate, sigma_j\"]).T"
     ],
     "language": "python",
     "metadata": {},
     "outputs": [],
     "prompt_number": 25
    },
    {
     "cell_type": "code",
     "collapsed": false,
     "input": [
      "y=data.ix[:,1]\n",
      "sigma=data.ix[:,2]"
     ],
     "language": "python",
     "metadata": {},
     "outputs": [],
     "prompt_number": 27
    },
    {
     "cell_type": "code",
     "collapsed": false,
     "input": [
      "def mu_hat(y,sigma,tau):\n",
      "    J=len(y)\n",
      "    value1=0.0\n",
      "    value2=0.0\n",
      "    for j in range(J):\n",
      "        value1=value1+1./(sigma[j]**2+tau**2)*y[j]\n",
      "        value2=value2+1./(sigma[j]**2+tau**2)\n",
      "    return value1/value2\n",
      "        \n",
      "def V_mu(sigma,tau):\n",
      "    J=len(sigma)\n",
      "    value=0.0\n",
      "    for j in range(J):\n",
      "        value=value+1./(sigma[j]**2+tau**2)\n",
      "    return 1./value\n",
      "\n",
      "def p_of_tau_1(y,sigma,tau):\n",
      "    J=len(y)\n",
      "    value=1.0\n",
      "    for j in range(J):\n",
      "        value=value*np.power(sigma[j]**2+tau**2,-0.5)*np.exp(-((y[j]-mu_hat(y,sigma,tau))**2)/(2*(sigma[j]**2+tau**2)))\n",
      "    return np.sqrt(V_mu(sigma,tau))*value\n",
      "\n",
      "def p_of_tau_2(y,sigma,tau):\n",
      "    J=len(y)\n",
      "    value=1.0\n",
      "    for j in range(J):\n",
      "        value=value*np.power(sigma[j]**2+tau**2,-0.5)*np.exp(-((y[j]-mu_hat(y,sigma,tau))**2)/(2*(sigma[j]**2+tau**2)))\n",
      "    return stats.invgamma.pdf(tau,1,scale=1)*np.sqrt(V_mu(sigma,tau))*value\n",
      "\n",
      "def p_of_tau_3(y,sigma,tau):\n",
      "    J=len(y)\n",
      "    value=1.0\n",
      "    for j in range(J):\n",
      "        value=value*np.power(sigma[j]**2+tau**2,-0.5)*np.exp(-((y[j]-mu_hat(y,sigma,tau))**2)/(2*(sigma[j]**2+tau**2)))\n",
      "    return stats.invgamma.pdf(tau,0.001,scale=0.001)*np.sqrt(V_mu(sigma,tau))*value\n",
      "\n",
      "def MH_1(y,sigma,N):\n",
      "    mcmc=[]\n",
      "    para2=np.random.uniform()\n",
      "    for n in range(N):\n",
      "        para1=para2+np.random.uniform(-10,50)\n",
      "        u=np.random.uniform()\n",
      "        ratio=p_of_tau_1(y,sigma,para1)/p_of_tau_1(y,sigma,para2)\n",
      "        if ratio>1:\n",
      "            mcmc.append(para1)\n",
      "        elif ratio>u:\n",
      "            mcmc.append(para1)\n",
      "    return np.array(mcmc)[np.array(mcmc)>=0]\n",
      "\n",
      "def MH_2(y,sigma,N):\n",
      "    mcmc=[]\n",
      "    para2=np.random.uniform()\n",
      "    for n in range(N):\n",
      "        para1=para2+np.random.uniform(-10,50)\n",
      "        u=np.random.uniform()\n",
      "        ratio=p_of_tau_2(y,sigma,para1)/p_of_tau_2(y,sigma,para2)\n",
      "        if ratio>1:\n",
      "            mcmc.append(para1)\n",
      "        elif ratio>u:\n",
      "            mcmc.append(para1)\n",
      "    return np.array(mcmc)[np.array(mcmc)>=0]\n",
      "\n",
      "def MH_3(y,sigma,N):\n",
      "    mcmc=[]\n",
      "    para2=np.random.uniform()\n",
      "    for n in range(N):\n",
      "        para1=para2+np.random.uniform(-10,50)\n",
      "        u=np.random.uniform()\n",
      "        ratio=p_of_tau_3(y,sigma,para1)/p_of_tau_3(y,sigma,para2)\n",
      "        if ratio>1:\n",
      "            mcmc.append(para1)\n",
      "        elif ratio>u:\n",
      "            mcmc.append(para1)\n",
      "    return np.array(mcmc)[np.array(mcmc)>=0]\n",
      "            "
     ],
     "language": "python",
     "metadata": {},
     "outputs": [],
     "prompt_number": 36
    },
    {
     "cell_type": "code",
     "collapsed": false,
     "input": [
      "tau_1=MH_1(y,sigma,10000)"
     ],
     "language": "python",
     "metadata": {},
     "outputs": [],
     "prompt_number": 32
    },
    {
     "cell_type": "code",
     "collapsed": false,
     "input": [
      "tau_2=MH_2(y,sigma,10000)"
     ],
     "language": "python",
     "metadata": {},
     "outputs": [],
     "prompt_number": 37
    },
    {
     "cell_type": "code",
     "collapsed": false,
     "input": [
      "tau_3=MH_3(y,sigma,10000)"
     ],
     "language": "python",
     "metadata": {},
     "outputs": [],
     "prompt_number": 45
    },
    {
     "cell_type": "code",
     "collapsed": false,
     "input": [
      "# Figure5.9  the leftmost histgram\n",
      "plt.xlabel(\"tau\")\n",
      "plt.hist(tau_1,bins=25)\n",
      "ax = plt.twinx()\n",
      "ax.plot(np.arange(0,100),np.ones(100)/100,color=\"r\")\n",
      "plt.xlim([0,30])"
     ],
     "language": "python",
     "metadata": {},
     "outputs": [
      {
       "metadata": {},
       "output_type": "pyout",
       "prompt_number": 56,
       "text": [
        "(0, 30)"
       ]
      },
      {
       "metadata": {},
       "output_type": "display_data",
       "png": "[encoded data removed]",
       "text": [
        "<matplotlib.figure.Figure at 0x11125390>"
       ]
      }
     ],
     "prompt_number": 56
    },
    {
     "cell_type": "code",
     "collapsed": false,
     "input": [
      "# Figure5.9  the middle histgram\n",
      "plt.xlabel(\"tau\")\n",
      "plt.hist(tau_2,bins=25)\n",
      "ax = plt.twinx()\n",
      "ax.plot(np.arange(0,30),stats.invgamma.pdf(np.arange(0,30),1,scale=1),color=\"r\")"
     ],
     "language": "python",
     "metadata": {},
     "outputs": [
      {
       "metadata": {},
       "output_type": "pyout",
       "prompt_number": 44,
       "text": [
        "[<matplotlib.lines.Line2D at 0xed6a6b0>]"
       ]
      },
      {
       "metadata": {},
       "output_type": "display_data",
       "png": "[encoded data removed]",
       "text": [
        "<matplotlib.figure.Figure at 0x1062f3f0>"
       ]
      }
     ],
     "prompt_number": 44
    },
    {
     "cell_type": "code",
     "collapsed": false,
     "input": [
      "# Figure5.9  the rightmost histgram\n",
      "plt.xlabel(\"tau\")\n",
      "plt.hist(tau_3,bins=25)\n",
      "ax = plt.twinx()\n",
      "ax.plot(np.arange(0,30),stats.invgamma.pdf(np.arange(0,30),0.001,scale=0.001),color=\"r\")\n",
      "plt.ylim([0,0.003])"
     ],
     "language": "python",
     "metadata": {},
     "outputs": [
      {
       "metadata": {},
       "output_type": "pyout",
       "prompt_number": 52,
       "text": [
        "(0, 0.003)"
       ]
      },
      {
       "metadata": {},
       "output_type": "display_data",
       "png": "[encoded data removed]",
       "text": [
        "<matplotlib.figure.Figure at 0x10d48fd0>"
       ]
      }
     ],
     "prompt_number": 52
    },
    {
     "cell_type": "code",
     "collapsed": false,
     "input": [
      "def p_of_tau_5(y,sigma,tau):\n",
      "    J=len(y)\n",
      "    value=1.0\n",
      "    for j in range(J):\n",
      "        value=value*np.power(sigma[j]**2+tau**2,-0.5)*np.exp(-((y[j]-mu_hat(y,sigma,tau))**2)/(2*(sigma[j]**2+tau**2)))\n",
      "    return stats.cauchy.pdf(tau,scale=25)*np.sqrt(V_mu(sigma,tau))*value\n",
      "\n",
      "\n",
      "def MH_4(y,sigma,N):\n",
      "    mcmc=[]\n",
      "    para2=np.random.uniform()\n",
      "    for n in range(N):\n",
      "        para1=para2+np.random.uniform(-10,200)\n",
      "        u=np.random.uniform()\n",
      "        ratio=p_of_tau_1(y,sigma,para1)/p_of_tau_1(y,sigma,para2)\n",
      "        if ratio>1:\n",
      "            mcmc.append(para1)\n",
      "        elif ratio>u:\n",
      "            mcmc.append(para1)\n",
      "    return np.array(mcmc)[np.array(mcmc)>=0]\n",
      "\n",
      "\n",
      "def MH_5(y,sigma,N):\n",
      "    mcmc=[]\n",
      "    para2=np.random.uniform()\n",
      "    for n in range(N):\n",
      "        para1=para2+np.random.uniform(-10,200)\n",
      "        u=np.random.uniform()\n",
      "        ratio=p_of_tau_5(y,sigma,para1)/p_of_tau_5(y,sigma,para2)\n",
      "        if ratio>1:\n",
      "            mcmc.append(para1)\n",
      "        elif ratio>u:\n",
      "            mcmc.append(para1)\n",
      "    return np.array(mcmc)[np.array(mcmc)>=0]"
     ],
     "language": "python",
     "metadata": {},
     "outputs": [],
     "prompt_number": 87
    },
    {
     "cell_type": "code",
     "collapsed": false,
     "input": [
      "tau_4=MH_4(y[0:3],sigma[0:3],10000)"
     ],
     "language": "python",
     "metadata": {},
     "outputs": [],
     "prompt_number": 71
    },
    {
     "cell_type": "code",
     "collapsed": false,
     "input": [
      "tau_5=MH_5(y[0:3],sigma[0:3],10000)"
     ],
     "language": "python",
     "metadata": {},
     "outputs": [],
     "prompt_number": 88
    },
    {
     "cell_type": "code",
     "collapsed": false,
     "input": [
      "# Figure5.10 the left histgram\n",
      "plt.xlabel(\"tau\")\n",
      "plt.hist(tau_4,bins=25)\n",
      "ax = plt.twinx()\n",
      "ax.plot(np.arange(0,200),np.ones(200)/200,color=\"r\")\n",
      "plt.ylim([0,0.02])"
     ],
     "language": "python",
     "metadata": {},
     "outputs": [
      {
       "metadata": {},
       "output_type": "pyout",
       "prompt_number": 89,
       "text": [
        "(0, 0.02)"
       ]
      },
      {
       "metadata": {},
       "output_type": "display_data",
       "png": "[encoded data removed]",
       "text": [
        "<matplotlib.figure.Figure at 0x120b6230>"
       ]
      }
     ],
     "prompt_number": 89
    },
    {
     "cell_type": "code",
     "collapsed": false,
     "input": [
      "# Figure5.10 the right histgram\n",
      "plt.xlabel(\"tau\")\n",
      "plt.hist(tau_5,bins=25)\n",
      "ax = plt.twinx()\n",
      "ax.plot(np.arange(0,200),stats.cauchy.pdf(np.arange(0,200),scale=25),color=\"r\")\n",
      "plt.ylim([0,0.021])"
     ],
     "language": "python",
     "metadata": {},
     "outputs": [
      {
       "metadata": {},
       "output_type": "pyout",
       "prompt_number": 91,
       "text": [
        "(0, 0.021)"
       ]
      },
      {
       "metadata": {},
       "output_type": "display_data",
       "png": "[encoded data removed]",
       "text": [
        "<matplotlib.figure.Figure at 0x120a2230>"
       ]
      }
     ],
     "prompt_number": 91
    },
    {
     "cell_type": "code",
     "collapsed": false,
     "input": [],
     "language": "python",
     "metadata": {},
     "outputs": []
    }
   ],
   "metadata": {}
  }
 ]
}