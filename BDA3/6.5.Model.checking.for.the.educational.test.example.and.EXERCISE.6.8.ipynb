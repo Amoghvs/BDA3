{
 "metadata": {
  "name": "",
  "signature": "sha256:6983f889a19f2b8a44f093d47f8b71df0e4925a3531e3f870e8ae90537d3b2c6"
 },
 "nbformat": 3,
 "nbformat_minor": 0,
 "worksheets": [
  {
   "cells": [
    {
     "cell_type": "code",
     "collapsed": false,
     "input": [
      "%matplotlib inline\n",
      "import numpy as np\n",
      "import scipy as sp\n",
      "from scipy import stats\n",
      "import matplotlib.pyplot as plt\n",
      "import sklearn\n",
      "import pandas as pd\n",
      "from pandas import DataFrame, Series\n",
      "from numpy import nan as NA"
     ],
     "language": "python",
     "metadata": {},
     "outputs": [],
     "prompt_number": 1
    },
    {
     "cell_type": "code",
     "collapsed": false,
     "input": [
      "data=DataFrame([[\"A\",\"B\",\"C\",\"D\",\"E\",\"F\",\"G\",\"H\"],[28,8,-3,7,-1,1,18,12],[15,10,16,11,9,11,10,18]],index=[\"School\",\"Estimated treatment effect, y_j\",\"Standard error of effect estimate, sigma_j\"]).T\n",
      "print data"
     ],
     "language": "python",
     "metadata": {},
     "outputs": [
      {
       "output_type": "stream",
       "stream": "stdout",
       "text": [
        "  School Estimated treatment effect, y_j  \\\n",
        "0      A                              28   \n",
        "1      B                               8   \n",
        "2      C                              -3   \n",
        "3      D                               7   \n",
        "4      E                              -1   \n",
        "5      F                               1   \n",
        "6      G                              18   \n",
        "7      H                              12   \n",
        "\n",
        "  Standard error of effect estimate, sigma_j  \n",
        "0                                         15  \n",
        "1                                         10  \n",
        "2                                         16  \n",
        "3                                         11  \n",
        "4                                          9  \n",
        "5                                         11  \n",
        "6                                         10  \n",
        "7                                         18  \n"
       ]
      }
     ],
     "prompt_number": 2
    },
    {
     "cell_type": "code",
     "collapsed": false,
     "input": [
      "def mu_hat(y,sigma,tau):\n",
      "    J=len(y)\n",
      "    value1=0.0\n",
      "    value2=0.0\n",
      "    for j in range(J):\n",
      "        value1=value1+1./(sigma[j]**2+tau**2)*y[j]\n",
      "        value2=value2+1./(sigma[j]**2+tau**2)\n",
      "    return value1/value2\n",
      "        \n",
      "def V_mu(sigma,tau):\n",
      "    J=len(sigma)\n",
      "    value=0.0\n",
      "    for j in range(J):\n",
      "        value=value+1./(sigma[j]**2+tau**2)\n",
      "    return 1./value\n",
      "\n",
      "def p_of_tau(y,sigma,tau):\n",
      "    J=len(y)\n",
      "    value=1.0\n",
      "    for j in range(J):\n",
      "        value=value*np.power(sigma[j]**2+tau**2,-0.5)*np.exp(-((y[j]-mu_hat(y,sigma,tau))**2)/(2*(sigma[j]**2+tau**2)))\n",
      "    return np.sqrt(V_mu(sigma,tau))*value\n",
      "\n",
      "def MH(y,sigma,N):\n",
      "    mcmc=[]\n",
      "    para2=np.random.uniform()\n",
      "    for n in range(N):\n",
      "        para1=para2+np.random.uniform(-10,50)\n",
      "        u=np.random.uniform()\n",
      "        ratio=p_of_tau(y,sigma,para1)/p_of_tau(y,sigma,para2)\n",
      "        if ratio>1:\n",
      "            mcmc.append(para1)\n",
      "        elif ratio>u:\n",
      "            mcmc.append(para1)\n",
      "    return np.array(mcmc)[np.array(mcmc)>=0]\n",
      "            "
     ],
     "language": "python",
     "metadata": {},
     "outputs": [],
     "prompt_number": 3
    },
    {
     "cell_type": "code",
     "collapsed": false,
     "input": [
      "y=data.ix[:,1]\n",
      "sigma=data.ix[:,2]\n",
      "tau=MH(y,sigma,10000)"
     ],
     "language": "python",
     "metadata": {},
     "outputs": [],
     "prompt_number": 4
    },
    {
     "cell_type": "code",
     "collapsed": false,
     "input": [
      "plt.plot(tau)"
     ],
     "language": "python",
     "metadata": {},
     "outputs": [
      {
       "metadata": {},
       "output_type": "pyout",
       "prompt_number": 5,
       "text": [
        "[<matplotlib.lines.Line2D at 0xc70f7b0>]"
       ]
      },
      {
       "metadata": {},
       "output_type": "display_data",
       "png": "[encoded data removed]",
       "text": [
        "<matplotlib.figure.Figure at 0xc641fb0>"
       ]
      }
     ],
     "prompt_number": 5
    },
    {
     "cell_type": "code",
     "collapsed": false,
     "input": [
      "plt.hist(tau,bins=50)"
     ],
     "language": "python",
     "metadata": {},
     "outputs": [
      {
       "metadata": {},
       "output_type": "pyout",
       "prompt_number": 6,
       "text": [
        "(array([ 135.,  157.,  133.,  159.,  128.,  129.,  110.,   82.,   79.,\n",
        "          73.,   69.,   65.,   50.,   43.,   36.,   26.,   24.,   23.,\n",
        "          21.,   11.,   11.,    9.,   10.,    9.,   10.,    7.,    4.,\n",
        "           4.,    2.,    0.,    1.,    2.,    0.,    2.,    0.,    1.,\n",
        "           0.,    1.,    0.,    0.,    0.,    0.,    0.,    0.,    0.,\n",
        "           0.,    0.,    1.,    0.,    1.]),\n",
        " array([  7.04194413e-03,   8.81798168e-01,   1.75655439e+00,\n",
        "          2.63131062e+00,   3.50606684e+00,   4.38082306e+00,\n",
        "          5.25557929e+00,   6.13033551e+00,   7.00509174e+00,\n",
        "          7.87984796e+00,   8.75460419e+00,   9.62936041e+00,\n",
        "          1.05041166e+01,   1.13788729e+01,   1.22536291e+01,\n",
        "          1.31283853e+01,   1.40031415e+01,   1.48778978e+01,\n",
        "          1.57526540e+01,   1.66274102e+01,   1.75021664e+01,\n",
        "          1.83769227e+01,   1.92516789e+01,   2.01264351e+01,\n",
        "          2.10011913e+01,   2.18759475e+01,   2.27507038e+01,\n",
        "          2.36254600e+01,   2.45002162e+01,   2.53749724e+01,\n",
        "          2.62497287e+01,   2.71244849e+01,   2.79992411e+01,\n",
        "          2.88739973e+01,   2.97487536e+01,   3.06235098e+01,\n",
        "          3.14982660e+01,   3.23730222e+01,   3.32477785e+01,\n",
        "          3.41225347e+01,   3.49972909e+01,   3.58720471e+01,\n",
        "          3.67468034e+01,   3.76215596e+01,   3.84963158e+01,\n",
        "          3.93710720e+01,   4.02458283e+01,   4.11205845e+01,\n",
        "          4.19953407e+01,   4.28700969e+01,   4.37448532e+01]),\n",
        " <a list of 50 Patch objects>)"
       ]
      },
      {
       "metadata": {},
       "output_type": "display_data",
       "png": "[encoded data removed]",
       "text": [
        "<matplotlib.figure.Figure at 0xc9d83b0>"
       ]
      }
     ],
     "prompt_number": 6
    },
    {
     "cell_type": "code",
     "collapsed": false,
     "input": [
      "rang = np.arange(0,30,0.01)\n",
      "dens=p_of_tau(y,sigma,rang)\n",
      "plt.plot(rang,dens)"
     ],
     "language": "python",
     "metadata": {},
     "outputs": [
      {
       "metadata": {},
       "output_type": "pyout",
       "prompt_number": 7,
       "text": [
        "[<matplotlib.lines.Line2D at 0xc80ef50>]"
       ]
      },
      {
       "metadata": {},
       "output_type": "display_data",
       "png": "[encoded data removed]",
       "text": [
        "<matplotlib.figure.Figure at 0xc74c910>"
       ]
      }
     ],
     "prompt_number": 7
    },
    {
     "cell_type": "code",
     "collapsed": false,
     "input": [
      "mu=np.random.normal(mu_hat(y,sigma,tau),np.sqrt(V_mu(sigma,tau)))"
     ],
     "language": "python",
     "metadata": {},
     "outputs": [],
     "prompt_number": 8
    },
    {
     "cell_type": "code",
     "collapsed": false,
     "input": [
      "def theta_j_hat(y,sigma,mu,tau):\n",
      "    return (tau**2*y+sigma**2*mu)/(tau**2+sigma**2)\n",
      "\n",
      "def V_j(sigma,tau):\n",
      "    J=len(sigma)\n",
      "    value=[]\n",
      "    for j in range(J):\n",
      "        value.append(sigma[j]**2*tau**2/(sigma[j]**2+tau**2))\n",
      "    return value\n",
      "\n",
      "def theta_j_vs_tau(y,sigma,mu,tau):\n",
      "    value1=[]\n",
      "    for k in range(len(mu)):\n",
      "        value2=[]\n",
      "        for i in range(len(tau)):\n",
      "            value2.append(theta_j_hat(y,sigma,mu[k],tau[i]))\n",
      "        value1.append(value2)\n",
      "    return DataFrame(value1)\n",
      "        "
     ],
     "language": "python",
     "metadata": {},
     "outputs": [],
     "prompt_number": 51
    },
    {
     "cell_type": "code",
     "collapsed": false,
     "input": [
      "def sampling_theta_j(y,sigma,mu,tau):\n",
      "    theta_j_sim=[]\n",
      "    for j in range(len(data)):\n",
      "        value=[]\n",
      "        for i in range(len(tau)):\n",
      "            value.append(np.random.normal(theta_j_hat(y[j],sigma[j],mu,tau)[i],np.sqrt(V_j(sigma,tau)[j][i])))\n",
      "        theta_j_sim.append(value)\n",
      "    return theta_j_sim"
     ],
     "language": "python",
     "metadata": {},
     "outputs": [],
     "prompt_number": 59
    },
    {
     "cell_type": "code",
     "collapsed": false,
     "input": [
      "T_rep_max=[]\n",
      "T_rep_min=[]\n",
      "T_rep_ave=[]\n",
      "T_rep_std=[]\n",
      "theta_j_sim=sampling_theta_j(y,sigma,mu[-1000:],tau[-1000:])\n",
      "for i in range(len(mu[-1000:])):\n",
      "    theta=[]\n",
      "    y_rep=[]\n",
      "    for j in range(len(theta_j_sim)):\n",
      "        theta.append(theta_j_sim[j][i])\n",
      "    for j in range(len(theta_j_sim)):\n",
      "        y_rep.append(np.random.normal(theta[j],sigma[j]))\n",
      "    T_rep_max.append(np.max(y_rep))\n",
      "    T_rep_min.append(np.min(y_rep))\n",
      "    T_rep_ave.append(np.mean(y_rep))\n",
      "    T_rep_std.append(np.std(y_rep))"
     ],
     "language": "python",
     "metadata": {},
     "outputs": [],
     "prompt_number": 64
    },
    {
     "cell_type": "code",
     "collapsed": false,
     "input": [
      "plt.hist(T_rep_max,bins=30)\n",
      "plt.plot([np.max(y),np.max(y)],[0,200],color=\"r\")\n",
      "p_value_max=1.*len(np.array(T_rep_max)[np.array(T_rep_max)>np.max(y)])/(len(T_rep_max))\n",
      "print p_value_max"
     ],
     "language": "python",
     "metadata": {},
     "outputs": [
      {
       "output_type": "stream",
       "stream": "stdout",
       "text": [
        "0.459\n"
       ]
      },
      {
       "metadata": {},
       "output_type": "display_data",
       "png": "[encoded data removed]",
       "text": [
        "<matplotlib.figure.Figure at 0x184de4d0>"
       ]
      }
     ],
     "prompt_number": 67
    },
    {
     "cell_type": "code",
     "collapsed": false,
     "input": [
      "plt.hist(T_rep_min,bins=30)\n",
      "plt.plot([np.min(y),np.min(y)],[0,200],color=\"r\")\n",
      "p_value_min=1.*len(np.array(T_rep_min)[np.array(T_rep_min)>np.min(y)])/(len(T_rep_min))\n",
      "print p_value_min"
     ],
     "language": "python",
     "metadata": {},
     "outputs": [
      {
       "output_type": "stream",
       "stream": "stdout",
       "text": [
        "0.153\n"
       ]
      },
      {
       "metadata": {},
       "output_type": "display_data",
       "png": "[encoded data removed]",
       "text": [
        "<matplotlib.figure.Figure at 0x12e749d0>"
       ]
      }
     ],
     "prompt_number": 69
    },
    {
     "cell_type": "code",
     "collapsed": false,
     "input": [
      "plt.hist(T_rep_ave,bins=30)\n",
      "plt.plot([np.mean(y),np.mean(y)],[0,200],color=\"r\")\n",
      "p_value_ave=1.*len(np.array(T_rep_ave)[np.array(T_rep_ave)>np.mean(y)])/(len(T_rep_ave))\n",
      "print p_value_ave"
     ],
     "language": "python",
     "metadata": {},
     "outputs": [
      {
       "output_type": "stream",
       "stream": "stdout",
       "text": [
        "0.413\n"
       ]
      },
      {
       "metadata": {},
       "output_type": "display_data",
       "png": "[encoded data removed]",
       "text": [
        "<matplotlib.figure.Figure at 0x18fd5b70>"
       ]
      }
     ],
     "prompt_number": 70
    },
    {
     "cell_type": "code",
     "collapsed": false,
     "input": [
      "plt.hist(T_rep_std,bins=30)\n",
      "plt.plot([np.std(y),np.std(y)],[0,200],color=\"r\")\n",
      "p_value_std=1.*len(np.array(T_rep_std)[np.array(T_rep_std)>np.std(y)])/(len(T_rep_std))\n",
      "print p_value_std"
     ],
     "language": "python",
     "metadata": {},
     "outputs": [
      {
       "output_type": "stream",
       "stream": "stdout",
       "text": [
        "0.806\n"
       ]
      },
      {
       "metadata": {},
       "output_type": "display_data",
       "png": "[encoded data removed]",
       "text": [
        "<matplotlib.figure.Figure at 0x12b8ea10>"
       ]
      }
     ],
     "prompt_number": 72
    },
    {
     "cell_type": "code",
     "collapsed": false,
     "input": [
      "#EXERCISE 6.8\n",
      "T_rep_max_ex=[]\n",
      "T_rep_min_ex=[]\n",
      "T_rep_ave_ex=[]\n",
      "T_rep_std_ex=[]\n",
      "for i in range(1000):\n",
      "    y_rep_ex=[]\n",
      "    theta_j_sim_ex=sampling_theta_j(y,sigma,mu[-200:],tau[-200:])\n",
      "    for j in range(len(theta_j_sim)):\n",
      "        y_rep_ex.extend(np.random.normal(theta_j_sim_ex[j],sigma[j]))\n",
      "    T_rep_max_ex.append(np.max(y_rep_ex))\n",
      "    T_rep_min_ex.append(np.min(y_rep_ex))\n",
      "    T_rep_ave_ex.append(np.mean(y_rep_ex))\n",
      "    T_rep_std_ex.append(np.std(y_rep_ex))"
     ],
     "language": "python",
     "metadata": {},
     "outputs": [],
     "prompt_number": 78
    },
    {
     "cell_type": "code",
     "collapsed": false,
     "input": [
      "plt.hist(T_rep_max_ex,bins=30)\n",
      "plt.plot([np.max(y),np.max(y)],[0,200],color=\"r\")\n",
      "p_value_max_ex=1.*len(np.array(T_rep_max_ex)[np.array(T_rep_max_ex)>np.max(y)])/(len(T_rep_max_ex))\n",
      "print p_value_max_ex"
     ],
     "language": "python",
     "metadata": {},
     "outputs": [
      {
       "output_type": "stream",
       "stream": "stdout",
       "text": [
        "1.0\n"
       ]
      },
      {
       "metadata": {},
       "output_type": "display_data",
       "png": "[encoded data removed]",
       "text": [
        "<matplotlib.figure.Figure at 0x12f9b090>"
       ]
      }
     ],
     "prompt_number": 79
    },
    {
     "cell_type": "code",
     "collapsed": false,
     "input": [
      "plt.hist(T_rep_min_ex,bins=30)\n",
      "plt.plot([np.min(y),np.min(y)],[0,200],color=\"r\")\n",
      "p_value_min_ex=1.*len(np.array(T_rep_min_ex)[np.array(T_rep_min_ex)>np.min(y)])/(len(T_rep_min_ex))\n",
      "print p_value_min_ex"
     ],
     "language": "python",
     "metadata": {},
     "outputs": [
      {
       "output_type": "stream",
       "stream": "stdout",
       "text": [
        "0.0\n"
       ]
      },
      {
       "metadata": {},
       "output_type": "display_data",
       "png": "[encoded data removed]",
       "text": [
        "<matplotlib.figure.Figure at 0x1aae05f0>"
       ]
      }
     ],
     "prompt_number": 80
    },
    {
     "cell_type": "code",
     "collapsed": false,
     "input": [
      "plt.hist(T_rep_ave_ex,bins=30)\n",
      "plt.plot([np.mean(y),np.mean(y)],[0,200],color=\"r\")\n",
      "p_value_ave_ex=1.*len(np.array(T_rep_ave_ex)[np.array(T_rep_ave_ex)>np.mean(y)])/(len(T_rep_ave_ex))\n",
      "print p_value_ave_ex"
     ],
     "language": "python",
     "metadata": {},
     "outputs": [
      {
       "output_type": "stream",
       "stream": "stdout",
       "text": [
        "0.0\n"
       ]
      },
      {
       "metadata": {},
       "output_type": "display_data",
       "png": "[encoded data removed]",
       "text": [
        "<matplotlib.figure.Figure at 0x184bc510>"
       ]
      }
     ],
     "prompt_number": 81
    },
    {
     "cell_type": "code",
     "collapsed": false,
     "input": [
      "plt.hist(T_rep_std_ex,bins=30)\n",
      "plt.plot([np.std(y),np.std(y)],[0,200],color=\"r\")\n",
      "p_value_std_ex=1.*len(np.array(T_rep_std_ex)[np.array(T_rep_std_ex)>np.std(y)])/(len(T_rep_std_ex))\n",
      "print p_value_std_ex"
     ],
     "language": "python",
     "metadata": {},
     "outputs": [
      {
       "output_type": "stream",
       "stream": "stdout",
       "text": [
        "1.0\n"
       ]
      },
      {
       "metadata": {},
       "output_type": "display_data",
       "png": "[encoded data removed]",
       "text": [
        "<matplotlib.figure.Figure at 0x12e9a0b0>"
       ]
      }
     ],
     "prompt_number": 82
    },
    {
     "cell_type": "code",
     "collapsed": false,
     "input": [],
     "language": "python",
     "metadata": {},
     "outputs": []
    }
   ],
   "metadata": {}
  }
 ]
}