{
 "cells": [
  {
   "cell_type": "code",
   "execution_count": 1,
   "metadata": {
    "collapsed": false
   },
   "outputs": [],
   "source": [
    "%matplotlib inline\n",
    "import numpy as np\n",
    "import scipy as sp\n",
    "from scipy import stats\n",
    "import matplotlib.pyplot as plt\n",
    "import sklearn\n",
    "import pandas as pd\n",
    "from pandas import DataFrame, Series\n",
    "from numpy import nan as NA"
   ]
  },
  {
   "cell_type": "code",
   "execution_count": 3,
   "metadata": {
    "collapsed": true
   },
   "outputs": [],
   "source": [
    "def summ(x):\n",
    "    percentile=np.percentile(x,[2.5,25,50,75,97.5]).tolist()\n",
    "    summ=[np.mean(x),np.std(x)]\n",
    "    summ.extend(percentile)\n",
    "    summ=DataFrame(summ,index=[\"mean\",\"sd\",\"2.5%\",\"25%\",\"50%\",\"75%\",\"97.5%\"],columns=[\"info\"]).T\n",
    "    return summ\n"
   ]
  },
  {
   "cell_type": "markdown",
   "metadata": {},
   "source": [
    "(a)We soluve bellow equation.\n",
    "\n",
    "the precise we want $(sd)=\\frac{\\hat{\\sigma_{\\theta}}}{\\sqrt{S}}$\n",
    "\n",
    "Now,\n",
    "\n",
    "$0.1\\sigma_{\\theta}=\\frac{\\hat{\\sigma_{\\theta}}}{\\sqrt{S}}\\iff S=100$\n",
    "\n",
    "\n",
    "When I assume $\\theta \\sim N(0,1)$"
   ]
  },
  {
   "cell_type": "code",
   "execution_count": 13,
   "metadata": {
    "collapsed": false
   },
   "outputs": [
    {
     "name": "stdout",
     "output_type": "stream",
     "text": [
      "          mean        sd      2.5%       25%       50%      75%    97.5%\n",
      "info -1.944876  0.109941 -2.177766 -2.014164 -1.937699 -1.87116 -1.73734\n"
     ]
    }
   ],
   "source": [
    "theta=[]\n",
    "for i in range(1000):\n",
    "    theta.append(np.percentile(np.random.normal(size=600),2.5))\n",
    "print summ(theta)"
   ]
  },
  {
   "cell_type": "markdown",
   "metadata": {},
   "source": [
    "not much"
   ]
  },
  {
   "cell_type": "code",
   "execution_count": null,
   "metadata": {
    "collapsed": true
   },
   "outputs": [],
   "source": []
  }
 ],
 "metadata": {
  "kernelspec": {
   "display_name": "Python 2",
   "language": "python",
   "name": "python2"
  },
  "language_info": {
   "codemirror_mode": {
    "name": "ipython",
    "version": 2
   },
   "file_extension": ".py",
   "mimetype": "text/x-python",
   "name": "python",
   "nbconvert_exporter": "python",
   "pygments_lexer": "ipython2",
   "version": "2.7.9"
  }
 },
 "nbformat": 4,
 "nbformat_minor": 0
}
