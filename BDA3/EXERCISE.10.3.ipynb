{
 "cells": [
  {
   "cell_type": "code",
   "execution_count": 1,
   "metadata": {
    "collapsed": true
   },
   "outputs": [],
   "source": [
    "%matplotlib inline\n",
    "import numpy as np\n",
    "import scipy as sp\n",
    "from scipy import stats\n",
    "import matplotlib.pyplot as plt\n",
    "import sklearn\n",
    "import pandas as pd\n",
    "from pandas import DataFrame, Series\n",
    "from numpy import nan as NA"
   ]
  },
  {
   "cell_type": "code",
   "execution_count": 3,
   "metadata": {
    "collapsed": true
   },
   "outputs": [],
   "source": [
    "def summ(x):\n",
    "    percentile=np.percentile(x,[2.5,25,50,75,97.5]).tolist()\n",
    "    summ=[np.mean(x),np.std(x)]\n",
    "    summ.extend(percentile)\n",
    "    summ=DataFrame(summ,index=[\"mean\",\"sd\",\"2.5%\",\"25%\",\"50%\",\"75%\",\"97.5%\"],columns=[\"info\"]).T\n",
    "    return summ"
   ]
  },
  {
   "cell_type": "code",
   "execution_count": 4,
   "metadata": {
    "collapsed": true
   },
   "outputs": [],
   "source": [
    "p1=np.random.beta(7,5,size=1000)\n",
    "p2=np.random.beta(11,11,size=1000)\n",
    "\n",
    "p1_minus_p2=np.array(p1-p2)"
   ]
  },
  {
   "cell_type": "code",
   "execution_count": 5,
   "metadata": {
    "collapsed": false
   },
   "outputs": [
    {
     "data": {
      "text/html": [
       "<div style=\"max-height:1000px;max-width:1500px;overflow:auto;\">\n",
       "<table border=\"1\" class=\"dataframe\">\n",
       "  <thead>\n",
       "    <tr style=\"text-align: right;\">\n",
       "      <th></th>\n",
       "      <th>mean</th>\n",
       "      <th>sd</th>\n",
       "      <th>2.5%</th>\n",
       "      <th>25%</th>\n",
       "      <th>50%</th>\n",
       "      <th>75%</th>\n",
       "      <th>97.5%</th>\n",
       "    </tr>\n",
       "  </thead>\n",
       "  <tbody>\n",
       "    <tr>\n",
       "      <th>info</th>\n",
       "      <td> 0.087342</td>\n",
       "      <td> 0.166814</td>\n",
       "      <td>-0.246094</td>\n",
       "      <td>-0.029395</td>\n",
       "      <td> 0.094107</td>\n",
       "      <td> 0.199635</td>\n",
       "      <td> 0.392224</td>\n",
       "    </tr>\n",
       "  </tbody>\n",
       "</table>\n",
       "</div>"
      ],
      "text/plain": [
       "          mean        sd      2.5%       25%       50%       75%     97.5%\n",
       "info  0.087342  0.166814 -0.246094 -0.029395  0.094107  0.199635  0.392224"
      ]
     },
     "execution_count": 5,
     "metadata": {},
     "output_type": "execute_result"
    }
   ],
   "source": [
    "summ(p1_minus_p2)"
   ]
  },
  {
   "cell_type": "code",
   "execution_count": 10,
   "metadata": {
    "collapsed": false
   },
   "outputs": [
    {
     "name": "stdout",
     "output_type": "stream",
     "text": [
      "the probability of that p1 > p2:  0.693\n"
     ]
    }
   ],
   "source": [
    "print \"the probability of that p1 > p2: \",\n",
    "print 1.*len(p1_minus_p2[p1_minus_p2>0])/len(p1_minus_p2)"
   ]
  },
  {
   "cell_type": "code",
   "execution_count": 7,
   "metadata": {
    "collapsed": false
   },
   "outputs": [
    {
     "data": {
      "text/plain": [
       "(array([   5.,   14.,   56.,  130.,  167.,  211.,  212.,  148.,   50.,    7.]),\n",
       " array([ 0.15428841,  0.23339734,  0.31250627,  0.3916152 ,  0.47072412,\n",
       "         0.54983305,  0.62894198,  0.70805091,  0.78715984,  0.86626877,\n",
       "         0.9453777 ]),\n",
       " <a list of 10 Patch objects>)"
      ]
     },
     "execution_count": 7,
     "metadata": {},
     "output_type": "execute_result"
    },
    {
     "name": "stdout",
     "output_type": "stream",
     "text": [
      "\n"
     ]
    },
    {
     "data": {
      "image/png": "[encoded data removed]",
      "text/plain": [
       "<matplotlib.figure.Figure at 0x16652940>"
      ]
     },
     "metadata": {},
     "output_type": "display_data"
    }
   ],
   "source": [
    "plt.hist(p1)"
   ]
  },
  {
   "cell_type": "markdown",
   "metadata": {},
   "source": [
    "The answer of (b) is as follows.\n",
    "\n",
    "$p(\\theta)=p_{p_1}(\\theta)\\{\\theta:-1\\leq \\theta < 0\\}\\int_{-\\theta}^{1}p_{p_2}(p_2)dp_2+p_{p_1}(\\theta)\\{\\theta:0\\leq \\theta \\leq 1\\}\\int_{0}^{1-\\theta}p_{p_2}(p_2)dp_2$\n",
    "\n",
    "Hence, $\\frac{\\int_{0}^{1-\\theta}p_{p_2}(p_2)dp_2}{\\int_{-\\theta}^{1}p_{p_2}(p_2)dp_2+\\int_{0}^{1-\\theta}p_{p_2}(p_2)dp_2}$"
   ]
  },
  {
   "cell_type": "code",
   "execution_count": null,
   "metadata": {
    "collapsed": true
   },
   "outputs": [],
   "source": []
  }
 ],
 "metadata": {
  "kernelspec": {
   "display_name": "Python 2",
   "language": "python",
   "name": "python2"
  },
  "language_info": {
   "codemirror_mode": {
    "name": "ipython",
    "version": 2
   },
   "file_extension": ".py",
   "mimetype": "text/x-python",
   "name": "python",
   "nbconvert_exporter": "python",
   "pygments_lexer": "ipython2",
   "version": "2.7.9"
  }
 },
 "nbformat": 4,
 "nbformat_minor": 0
}
