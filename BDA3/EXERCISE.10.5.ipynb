{
 "cells": [
  {
   "cell_type": "code",
   "execution_count": 2,
   "metadata": {
    "collapsed": false
   },
   "outputs": [
    {
     "name": "stdout",
     "output_type": "stream",
     "text": [
      "Couldn't import dot_parser, loading of dot files will not be possible.\n"
     ]
    }
   ],
   "source": [
    "%matplotlib inline\n",
    "import numpy as np\n",
    "import scipy as sp\n",
    "from scipy import stats\n",
    "import matplotlib.pyplot as plt\n",
    "import sklearn\n",
    "import pandas as pd\n",
    "from pandas import DataFrame, Series\n",
    "from numpy import nan as NA\n",
    "import pymc"
   ]
  },
  {
   "cell_type": "code",
   "execution_count": 83,
   "metadata": {
    "collapsed": true
   },
   "outputs": [],
   "source": [
    "def summ(x):\n",
    "    percentile=np.percentile(x,[2.5,25,50,75,97.5]).tolist()\n",
    "    summ=[np.mean(x),np.std(x)]\n",
    "    summ.extend(percentile)\n",
    "    summ=DataFrame(summ,index=[\"mean\",\"sd\",\"2.5%\",\"25%\",\"50%\",\"75%\",\"97.5%\"],columns=[\"info\"]).T\n",
    "    return summ"
   ]
  },
  {
   "cell_type": "code",
   "execution_count": 84,
   "metadata": {
    "collapsed": false
   },
   "outputs": [],
   "source": [
    "alpha_d=sp.stats.t.rvs(df=4,loc=0,scale=2,size=10)\n",
    "beta_d=sp.stats.t.rvs(df=4,loc=0,scale=1,size=10)\n",
    "x=np.random.uniform(size=10)\n",
    "theta_d=pymc.invlogit(alpha_d+beta_d*x)\n",
    "\n",
    "n=[]\n",
    "num=0\n",
    "while num<10:\n",
    "    n_cand=np.random.poisson(5)\n",
    "    if n_cand>0:\n",
    "        n.append(n_cand)\n",
    "        num+=1\n",
    "n=np.array(n)\n",
    "\n",
    "y=np.random.binomial(n,theta_d)"
   ]
  },
  {
   "cell_type": "code",
   "execution_count": 85,
   "metadata": {
    "collapsed": false
   },
   "outputs": [],
   "source": [
    "def p(alpha,beta,n,y,x):\n",
    "    val=1.0\n",
    "    for j in range(len(n)):\n",
    "        val=val*np.power(np.exp(alpha+x[j]*beta)/(np.exp(alpha+x[j]*beta)+1),y[j])*np.power(1/(np.exp(alpha+x[j]*beta)+1),n[j]-y[j])\n",
    "    val=val*sp.stats.t.pdf(alpha,df=4,loc=0,scale=2)\n",
    "    val=val*sp.stats.t.pdf(beta,df=4,loc=0,scale=1)\n",
    "    return val"
   ]
  },
  {
   "cell_type": "code",
   "execution_count": 86,
   "metadata": {
    "collapsed": true
   },
   "outputs": [],
   "source": [
    "ratio=[]\n",
    "for i in range(20000):\n",
    "    alpha_beta_cand=sp.stats.multivariate_normal.rvs([0,0],[[4,0],[0,1]])\n",
    "    ratio.append(p(alpha_beta_cand[0],alpha_beta_cand[1],n,y,x)/sp.stats.multivariate_normal.pdf(alpha_beta_cand,[0,0],[[4,0],[0,1]]))"
   ]
  },
  {
   "cell_type": "code",
   "execution_count": 87,
   "metadata": {
    "collapsed": false
   },
   "outputs": [],
   "source": [
    "M=np.max(ratio)*1.1"
   ]
  },
  {
   "cell_type": "code",
   "execution_count": 88,
   "metadata": {
    "collapsed": false
   },
   "outputs": [],
   "source": [
    "num=0\n",
    "alpha=[]\n",
    "beta=[]\n",
    "r=[]\n",
    "while num<1000:\n",
    "    alpha_beta_cand=sp.stats.multivariate_normal.rvs([0,0],[[4,0],[0,1]])\n",
    "    ratios=(p(alpha_beta_cand[0],alpha_beta_cand[1],n,y,x)/sp.stats.multivariate_normal.pdf(alpha_beta_cand,[0,0],[[4,0],[0,1]]))/M\n",
    "    r.append(ratios)\n",
    "    if ratios>np.random.uniform():\n",
    "        alpha.append(alpha_beta_cand[0])\n",
    "        beta.append(alpha_beta_cand[1])\n",
    "        num+=1"
   ]
  },
  {
   "cell_type": "code",
   "execution_count": 89,
   "metadata": {
    "collapsed": false
   },
   "outputs": [
    {
     "data": {
      "text/plain": [
       "1.1009739441767934"
      ]
     },
     "execution_count": 89,
     "metadata": {},
     "output_type": "execute_result"
    }
   ],
   "source": [
    "np.max(r)"
   ]
  },
  {
   "cell_type": "code",
   "execution_count": 90,
   "metadata": {
    "collapsed": false
   },
   "outputs": [
    {
     "data": {
      "text/plain": [
       "(array([   3.,    8.,   37.,  105.,  178.,  255.,  219.,  138.,   53.,    4.]),\n",
       " array([-2.25591472, -1.97588366, -1.69585259, -1.41582153, -1.13579047,\n",
       "        -0.85575941, -0.57572835, -0.29569729, -0.01566622,  0.26436484,\n",
       "         0.5443959 ]),\n",
       " <a list of 10 Patch objects>)"
      ]
     },
     "execution_count": 90,
     "metadata": {},
     "output_type": "execute_result"
    },
    {
     "data": {
      "image/png": "[encoded data removed]",
      "text/plain": [
       "<matplotlib.figure.Figure at 0x10f065f0>"
      ]
     },
     "metadata": {},
     "output_type": "display_data"
    }
   ],
   "source": [
    "plt.hist(alpha)"
   ]
  },
  {
   "cell_type": "code",
   "execution_count": 91,
   "metadata": {
    "collapsed": false
   },
   "outputs": [
    {
     "data": {
      "text/plain": [
       "(array([  17.,   73.,  138.,  205.,  222.,  148.,  102.,   55.,   29.,   11.]),\n",
       " array([-1.06719861, -0.62228932, -0.17738004,  0.26752925,  0.71243854,\n",
       "         1.15734783,  1.60225712,  2.04716641,  2.49207569,  2.93698498,\n",
       "         3.38189427]),\n",
       " <a list of 10 Patch objects>)"
      ]
     },
     "execution_count": 91,
     "metadata": {},
     "output_type": "execute_result"
    },
    {
     "data": {
      "image/png": "[encoded data removed]",
      "text/plain": [
       "<matplotlib.figure.Figure at 0x112c7870>"
      ]
     },
     "metadata": {},
     "output_type": "display_data"
    }
   ],
   "source": [
    "plt.hist(beta)"
   ]
  },
  {
   "cell_type": "code",
   "execution_count": 92,
   "metadata": {
    "collapsed": false
   },
   "outputs": [
    {
     "name": "stdout",
     "output_type": "stream",
     "text": [
      "          mean      sd      2.5%       25%       50%       75%    97.5%\n",
      "info -0.676226  0.4363 -1.567474 -0.951952 -0.663404 -0.369219  0.14048\n",
      "         mean        sd      2.5%       25%       50%       75%     97.5%\n",
      "info  0.89782  0.826038 -0.543038  0.325278  0.833787  1.399957  2.678405\n"
     ]
    }
   ],
   "source": [
    "print summ(alpha)\n",
    "print summ(beta)"
   ]
  },
  {
   "cell_type": "code",
   "execution_count": 93,
   "metadata": {
    "collapsed": false
   },
   "outputs": [],
   "source": [
    "def IR(alpha,beta,n,x,y):\n",
    "    ir=[]\n",
    "    for i in range(len(alpha)):\n",
    "        ir.append(p(alpha[i],beta[i],n,y,x)/(sp.stats.t.pdf(alpha[i],df=4,loc=0,scale=2)*sp.stats.t.pdf(beta[i],df=4,loc=0,scale=1)))\n",
    "    return np.array(ir)\n",
    "\n",
    "def E(theta,w):\n",
    "    return np.mean(theta*w)/np.mean(w)"
   ]
  },
  {
   "cell_type": "code",
   "execution_count": 94,
   "metadata": {
    "collapsed": false
   },
   "outputs": [],
   "source": [
    "alpha=sp.stats.t.rvs(df=4,loc=0,scale=2,size=1000)\n",
    "beta=sp.stats.t.rvs(df=4,loc=0,scale=1,size=1000)\n",
    "\n",
    "w=IR(alpha,beta,n,x,y)\n",
    "\n",
    "E_of_alpha=E(alpha,w)\n",
    "E_of_beta=E(beta,w)"
   ]
  },
  {
   "cell_type": "code",
   "execution_count": 95,
   "metadata": {
    "collapsed": false
   },
   "outputs": [
    {
     "name": "stdout",
     "output_type": "stream",
     "text": [
      "-0.718559860967\n",
      "1.00125755914\n"
     ]
    }
   ],
   "source": [
    "print E_of_alpha\n",
    "print E_of_beta"
   ]
  },
  {
   "cell_type": "code",
   "execution_count": 97,
   "metadata": {
    "collapsed": true
   },
   "outputs": [],
   "source": [
    "S_eff=1./np.sum(np.square(w*len(w)/np.sum(w)))"
   ]
  },
  {
   "cell_type": "code",
   "execution_count": 98,
   "metadata": {
    "collapsed": false
   },
   "outputs": [
    {
     "name": "stdout",
     "output_type": "stream",
     "text": [
      "9.58082861896e-05\n"
     ]
    }
   ],
   "source": [
    "print S_eff"
   ]
  },
  {
   "cell_type": "code",
   "execution_count": null,
   "metadata": {
    "collapsed": true
   },
   "outputs": [],
   "source": []
  }
 ],
 "metadata": {
  "kernelspec": {
   "display_name": "Python 2",
   "language": "python",
   "name": "python2"
  },
  "language_info": {
   "codemirror_mode": {
    "name": "ipython",
    "version": 2
   },
   "file_extension": ".py",
   "mimetype": "text/x-python",
   "name": "python",
   "nbconvert_exporter": "python",
   "pygments_lexer": "ipython2",
   "version": "2.7.7"
  }
 },
 "nbformat": 4,
 "nbformat_minor": 0
}
