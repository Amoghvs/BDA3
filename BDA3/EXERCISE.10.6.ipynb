{
 "cells": [
  {
   "cell_type": "code",
   "execution_count": 1,
   "metadata": {
    "collapsed": false
   },
   "outputs": [],
   "source": [
    "%matplotlib inline\n",
    "import numpy as np\n",
    "import scipy as sp\n",
    "from scipy import stats\n",
    "import matplotlib.pyplot as plt\n",
    "import sklearn\n",
    "import pandas as pd\n",
    "from pandas import DataFrame, Series\n",
    "from numpy import nan as NA"
   ]
  },
  {
   "cell_type": "code",
   "execution_count": 35,
   "metadata": {
    "collapsed": false
   },
   "outputs": [],
   "source": [
    "def unnormalized_norm(x,mu=0.0,sigma=1.0):\n",
    "    return np.exp(-1./2*np.square(1.*(x-mu)/sigma))\n",
    "\n",
    "def importance_ratios(theta):\n",
    "    return unnormalized_norm(theta)/sp.stats.t.pdf(theta,3)"
   ]
  },
  {
   "cell_type": "code",
   "execution_count": 36,
   "metadata": {
    "collapsed": false
   },
   "outputs": [],
   "source": [
    "#(a)\n",
    "theta_cand=sp.stats.t.rvs(3,size=100)"
   ]
  },
  {
   "cell_type": "code",
   "execution_count": 37,
   "metadata": {
    "collapsed": false
   },
   "outputs": [],
   "source": [
    "IR=importance_ratios(theta_cand)"
   ]
  },
  {
   "cell_type": "code",
   "execution_count": 38,
   "metadata": {
    "collapsed": false
   },
   "outputs": [
    {
     "data": {
      "text/plain": [
       "(array([  1.,   0.,   0.,   0.,   0.,   0.,   0.,   0.,   1.,  98.]),\n",
       " array([-73.26121172, -65.82746548, -58.39371924, -50.959973  ,\n",
       "        -43.52622676, -36.09248052, -28.65873428, -21.22498804,\n",
       "        -13.7912418 ,  -6.35749556,   1.07625068]),\n",
       " <a list of 10 Patch objects>)"
      ]
     },
     "execution_count": 38,
     "metadata": {},
     "output_type": "execute_result"
    },
    {
     "data": {
      "image/png": "[encoded data removed]",
      "text/plain": [
       "<matplotlib.figure.Figure at 0x181eba90>"
      ]
     },
     "metadata": {},
     "output_type": "display_data"
    }
   ],
   "source": [
    "plt.hist(np.log(IR))"
   ]
  },
  {
   "cell_type": "code",
   "execution_count": 39,
   "metadata": {
    "collapsed": true
   },
   "outputs": [],
   "source": [
    "#(b)\n",
    "E_importance_sampling=np.sum(theta_cand*IR)/np.sum(IR)\n",
    "Var_importance_sampling=np.sum(np.square(theta_cand)*IR)/np.sum(IR)-np.square(E_importance_sampling)"
   ]
  },
  {
   "cell_type": "code",
   "execution_count": 40,
   "metadata": {
    "collapsed": false
   },
   "outputs": [
    {
     "name": "stdout",
     "output_type": "stream",
     "text": [
      "simulated E:  0.026953989004\n",
      "simulated Var:  1.09600015307\n"
     ]
    }
   ],
   "source": [
    "print \"simulated E: \",\n",
    "print E_importance_sampling\n",
    "print \"simulated Var: \",\n",
    "print Var_importance_sampling"
   ]
  },
  {
   "cell_type": "code",
   "execution_count": 42,
   "metadata": {
    "collapsed": false
   },
   "outputs": [
    {
     "data": {
      "text/plain": [
       "(array([  1.00000000e+00,   0.00000000e+00,   0.00000000e+00,\n",
       "          0.00000000e+00,   0.00000000e+00,   0.00000000e+00,\n",
       "          0.00000000e+00,   0.00000000e+00,   0.00000000e+00,\n",
       "          0.00000000e+00,   1.00000000e+00,   0.00000000e+00,\n",
       "          1.00000000e+00,   0.00000000e+00,   0.00000000e+00,\n",
       "          0.00000000e+00,   1.00000000e+00,   0.00000000e+00,\n",
       "          0.00000000e+00,   0.00000000e+00,   0.00000000e+00,\n",
       "          0.00000000e+00,   0.00000000e+00,   0.00000000e+00,\n",
       "          0.00000000e+00,   0.00000000e+00,   0.00000000e+00,\n",
       "          0.00000000e+00,   1.00000000e+00,   0.00000000e+00,\n",
       "          0.00000000e+00,   3.00000000e+00,   0.00000000e+00,\n",
       "          2.00000000e+00,   0.00000000e+00,   2.00000000e+00,\n",
       "          1.00000000e+00,   0.00000000e+00,   3.00000000e+00,\n",
       "          0.00000000e+00,   0.00000000e+00,   2.00000000e+00,\n",
       "          3.00000000e+00,   3.00000000e+00,   5.00000000e+00,\n",
       "          7.00000000e+00,   1.30000000e+01,   2.50000000e+01,\n",
       "          1.08000000e+02,   9.81800000e+03]),\n",
       " array([-312.80079556, -306.52325459, -300.24571362, -293.96817265,\n",
       "        -287.69063168, -281.41309071, -275.13554974, -268.85800877,\n",
       "        -262.58046779, -256.30292682, -250.02538585, -243.74784488,\n",
       "        -237.47030391, -231.19276294, -224.91522197, -218.637681  ,\n",
       "        -212.36014003, -206.08259905, -199.80505808, -193.52751711,\n",
       "        -187.24997614, -180.97243517, -174.6948942 , -168.41735323,\n",
       "        -162.13981226, -155.86227128, -149.58473031, -143.30718934,\n",
       "        -137.02964837, -130.7521074 , -124.47456643, -118.19702546,\n",
       "        -111.91948449, -105.64194352,  -99.36440254,  -93.08686157,\n",
       "         -86.8093206 ,  -80.53177963,  -74.25423866,  -67.97669769,\n",
       "         -61.69915672,  -55.42161575,  -49.14407478,  -42.8665338 ,\n",
       "         -36.58899283,  -30.31145186,  -24.03391089,  -17.75636992,\n",
       "         -11.47882895,   -5.20128798,    1.07625299]),\n",
       " <a list of 50 Patch objects>)"
      ]
     },
     "execution_count": 42,
     "metadata": {},
     "output_type": "execute_result"
    },
    {
     "data": {
      "image/png": "[encoded data removed]",
      "text/plain": [
       "<matplotlib.figure.Figure at 0x181eb940>"
      ]
     },
     "metadata": {},
     "output_type": "display_data"
    }
   ],
   "source": [
    "#(c)\n",
    "theta_cand_c=sp.stats.t.rvs(3,size=10000)\n",
    "IR_c=importance_ratios(theta_cand_c)\n",
    "\n",
    "plt.hist(np.log(IR_c),bins=50)"
   ]
  },
  {
   "cell_type": "code",
   "execution_count": 43,
   "metadata": {
    "collapsed": false
   },
   "outputs": [
    {
     "name": "stdout",
     "output_type": "stream",
     "text": [
      "simulated E:  0.00267690384569\n",
      "simulated Var:  1.00333624909\n"
     ]
    }
   ],
   "source": [
    "E_importance_sampling_c=np.sum(theta_cand_c*IR_c)/np.sum(IR_c)\n",
    "Var_importance_sampling_c=np.sum(np.square(theta_cand_c)*IR_c)/np.sum(IR_c)-np.square(E_importance_sampling_c)\n",
    "\n",
    "print \"simulated E: \",\n",
    "print E_importance_sampling_c\n",
    "print \"simulated Var: \",\n",
    "print Var_importance_sampling_c"
   ]
  },
  {
   "cell_type": "code",
   "execution_count": 45,
   "metadata": {
    "collapsed": true
   },
   "outputs": [],
   "source": [
    "#(d)\n",
    "def normalized_weight(theta):\n",
    "    S=len(theta)\n",
    "    return importance_ratios(theta)*S/np.sum(importance_ratios(theta))\n",
    "    \n",
    "def S_eff(theta):\n",
    "    return 1./np.sum(np.square(normalized_weight(theta)))"
   ]
  },
  {
   "cell_type": "code",
   "execution_count": 46,
   "metadata": {
    "collapsed": false
   },
   "outputs": [
    {
     "name": "stdout",
     "output_type": "stream",
     "text": [
      "9.23617200767e-05\n"
     ]
    }
   ],
   "source": [
    "print S_eff(theta_cand_c)"
   ]
  },
  {
   "cell_type": "code",
   "execution_count": null,
   "metadata": {
    "collapsed": true
   },
   "outputs": [],
   "source": []
  }
 ],
 "metadata": {
  "kernelspec": {
   "display_name": "Python 2",
   "language": "python",
   "name": "python2"
  },
  "language_info": {
   "codemirror_mode": {
    "name": "ipython",
    "version": 2
   },
   "file_extension": ".py",
   "mimetype": "text/x-python",
   "name": "python",
   "nbconvert_exporter": "python",
   "pygments_lexer": "ipython2",
   "version": "2.7.9"
  }
 },
 "nbformat": 4,
 "nbformat_minor": 0
}
