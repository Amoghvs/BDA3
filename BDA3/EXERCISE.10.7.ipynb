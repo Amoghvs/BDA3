{
 "cells": [
  {
   "cell_type": "code",
   "execution_count": 3,
   "metadata": {
    "collapsed": false
   },
   "outputs": [],
   "source": [
    "%matplotlib inline\n",
    "import numpy as np\n",
    "import scipy as sp\n",
    "from scipy import stats\n",
    "import matplotlib.pyplot as plt\n",
    "import sklearn\n",
    "import pandas as pd\n",
    "from pandas import DataFrame, Series\n",
    "from numpy import nan as NA"
   ]
  },
  {
   "cell_type": "code",
   "execution_count": 4,
   "metadata": {
    "collapsed": false
   },
   "outputs": [],
   "source": [
    "def importance_ratios(theta):\n",
    "    return sp.stats.t.pdf(theta,3)/sp.stats.norm.pdf(theta)"
   ]
  },
  {
   "cell_type": "code",
   "execution_count": 5,
   "metadata": {
    "collapsed": false
   },
   "outputs": [],
   "source": [
    "#(a)\n",
    "theta_cand=np.random.normal(size=100)"
   ]
  },
  {
   "cell_type": "code",
   "execution_count": 6,
   "metadata": {
    "collapsed": false
   },
   "outputs": [],
   "source": [
    "IR=importance_ratios(theta_cand)"
   ]
  },
  {
   "cell_type": "code",
   "execution_count": 7,
   "metadata": {
    "collapsed": false
   },
   "outputs": [
    {
     "data": {
      "text/plain": [
       "(array([ 49.,  35.,   2.,   4.,   0.,   3.,   2.,   2.,   2.,   1.]),\n",
       " array([-0.15731443, -0.1057323 , -0.05415017, -0.00256804,  0.04901409,\n",
       "         0.10059622,  0.15217835,  0.20376049,  0.25534262,  0.30692475,\n",
       "         0.35850688]),\n",
       " <a list of 10 Patch objects>)"
      ]
     },
     "execution_count": 7,
     "metadata": {},
     "output_type": "execute_result"
    },
    {
     "data": {
      "image/png": "[encoded data removed]",
      "text/plain": [
       "<matplotlib.figure.Figure at 0x3fd1c88>"
      ]
     },
     "metadata": {},
     "output_type": "display_data"
    }
   ],
   "source": [
    "plt.hist(np.log(IR))"
   ]
  },
  {
   "cell_type": "code",
   "execution_count": 8,
   "metadata": {
    "collapsed": true
   },
   "outputs": [],
   "source": [
    "#(b)\n",
    "E_importance_sampling=np.sum(theta_cand*IR)/np.sum(IR)\n",
    "Var_importance_sampling=np.sum(np.square(theta_cand)*IR)/np.sum(IR)-np.square(E_importance_sampling)"
   ]
  },
  {
   "cell_type": "code",
   "execution_count": 9,
   "metadata": {
    "collapsed": false
   },
   "outputs": [
    {
     "name": "stdout",
     "output_type": "stream",
     "text": [
      "simulated E:  0.110847122653\n",
      "simulated Var:  1.18520097711\n"
     ]
    }
   ],
   "source": [
    "print \"simulated E: \",\n",
    "print E_importance_sampling\n",
    "print \"simulated Var: \",\n",
    "print Var_importance_sampling"
   ]
  },
  {
   "cell_type": "code",
   "execution_count": 14,
   "metadata": {
    "collapsed": false
   },
   "outputs": [
    {
     "data": {
      "text/plain": [
       "(array([  9.49700000e+03,   2.95000000e+02,   1.18000000e+02,\n",
       "          4.80000000e+01,   1.50000000e+01,   1.10000000e+01,\n",
       "          3.00000000e+00,   8.00000000e+00,   4.00000000e+00,\n",
       "          1.00000000e+00]),\n",
       " array([-0.15731446,  0.21824795,  0.59381036,  0.96937277,  1.34493518,\n",
       "         1.72049759,  2.09605999,  2.4716224 ,  2.84718481,  3.22274722,\n",
       "         3.59830963]),\n",
       " <a list of 10 Patch objects>)"
      ]
     },
     "execution_count": 14,
     "metadata": {},
     "output_type": "execute_result"
    },
    {
     "data": {
      "image/png": "[encoded data removed]",
      "text/plain": [
       "<matplotlib.figure.Figure at 0x18280128>"
      ]
     },
     "metadata": {},
     "output_type": "display_data"
    }
   ],
   "source": [
    "#(c)\n",
    "theta_cand_c=np.random.normal(size=10000)\n",
    "IR_c=importance_ratios(theta_cand_c)\n",
    "\n",
    "plt.hist(np.log(IR_c))"
   ]
  },
  {
   "cell_type": "code",
   "execution_count": 11,
   "metadata": {
    "collapsed": false
   },
   "outputs": [
    {
     "name": "stdout",
     "output_type": "stream",
     "text": [
      "simulated E:  0.00917100098034\n",
      "simulated Var:  1.54452892837\n"
     ]
    }
   ],
   "source": [
    "E_importance_sampling_c=np.sum(theta_cand_c*IR_c)/np.sum(IR_c)\n",
    "Var_importance_sampling_c=np.sum(np.square(theta_cand_c)*IR_c)/np.sum(IR_c)-np.square(E_importance_sampling_c)\n",
    "\n",
    "print \"simulated E: \",\n",
    "print E_importance_sampling_c\n",
    "print \"simulated Var: \",\n",
    "print Var_importance_sampling_c"
   ]
  },
  {
   "cell_type": "code",
   "execution_count": 12,
   "metadata": {
    "collapsed": true
   },
   "outputs": [],
   "source": [
    "#(d)\n",
    "def normalized_weight(theta):\n",
    "    S=len(theta)\n",
    "    return importance_ratios(theta)*S/np.sum(importance_ratios(theta))\n",
    "    \n",
    "def S_eff(theta):\n",
    "    return 1./np.sum(np.square(normalized_weight(theta)))"
   ]
  },
  {
   "cell_type": "code",
   "execution_count": 13,
   "metadata": {
    "collapsed": false
   },
   "outputs": [
    {
     "name": "stdout",
     "output_type": "stream",
     "text": [
      "6.50862297522e-05\n"
     ]
    }
   ],
   "source": [
    "print S_eff(theta_cand_c)"
   ]
  },
  {
   "cell_type": "code",
   "execution_count": null,
   "metadata": {
    "collapsed": true
   },
   "outputs": [],
   "source": []
  }
 ],
 "metadata": {
  "kernelspec": {
   "display_name": "Python 2",
   "language": "python",
   "name": "python2"
  },
  "language_info": {
   "codemirror_mode": {
    "name": "ipython",
    "version": 2
   },
   "file_extension": ".py",
   "mimetype": "text/x-python",
   "name": "python",
   "nbconvert_exporter": "python",
   "pygments_lexer": "ipython2",
   "version": "2.7.9"
  }
 },
 "nbformat": 4,
 "nbformat_minor": 0
}
