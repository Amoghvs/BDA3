{
 "cells": [
  {
   "cell_type": "code",
   "execution_count": 1,
   "metadata": {
    "collapsed": true
   },
   "outputs": [],
   "source": [
    "%matplotlib inline\n",
    "import numpy as np\n",
    "import scipy as sp\n",
    "from scipy import stats\n",
    "import matplotlib.pyplot as plt\n",
    "import sklearn\n",
    "import pandas as pd\n",
    "from pandas import DataFrame, Series\n",
    "from numpy import nan as NA"
   ]
  },
  {
   "cell_type": "code",
   "execution_count": 78,
   "metadata": {
    "collapsed": true
   },
   "outputs": [],
   "source": [
    "def summ(x,label):\n",
    "    percentile=np.percentile(x,[2.5,25,50,75,97.5]).tolist()\n",
    "    summ=[np.mean(x),np.std(x)]\n",
    "    summ.extend(percentile)\n",
    "    summ=DataFrame(summ,index=[\"mean\",\"sd\",\"2.5%\",\"25%\",\"50%\",\"75%\",\"97.5%\"],columns=[label]).T\n",
    "    return summ"
   ]
  },
  {
   "cell_type": "code",
   "execution_count": 12,
   "metadata": {
    "collapsed": true
   },
   "outputs": [],
   "source": [
    "data=DataFrame([[83,92,92,46,67],[117,109,112,104,87],[101,93,92,86,67],[105,119,116,102,116],[79,97,103,79,92],[57,92,104,77,100]]).T\n",
    "data_pooled=np.array([83,92,92,46,67,117,109,112,104,87,101,93,92,86,67,105,119,116,102,116,79,97,103,79,92,57,92,104,77,100])"
   ]
  },
  {
   "cell_type": "code",
   "execution_count": 3,
   "metadata": {
    "collapsed": false
   },
   "outputs": [
    {
     "data": {
      "text/html": [
       "<div style=\"max-height:1000px;max-width:1500px;overflow:auto;\">\n",
       "<table border=\"1\" class=\"dataframe\">\n",
       "  <thead>\n",
       "    <tr style=\"text-align: right;\">\n",
       "      <th></th>\n",
       "      <th>0</th>\n",
       "      <th>1</th>\n",
       "      <th>2</th>\n",
       "      <th>3</th>\n",
       "      <th>4</th>\n",
       "      <th>5</th>\n",
       "    </tr>\n",
       "  </thead>\n",
       "  <tbody>\n",
       "    <tr>\n",
       "      <th>0</th>\n",
       "      <td> 83</td>\n",
       "      <td> 117</td>\n",
       "      <td> 101</td>\n",
       "      <td> 105</td>\n",
       "      <td>  79</td>\n",
       "      <td>  57</td>\n",
       "    </tr>\n",
       "    <tr>\n",
       "      <th>1</th>\n",
       "      <td> 92</td>\n",
       "      <td> 109</td>\n",
       "      <td>  93</td>\n",
       "      <td> 119</td>\n",
       "      <td>  97</td>\n",
       "      <td>  92</td>\n",
       "    </tr>\n",
       "    <tr>\n",
       "      <th>2</th>\n",
       "      <td> 92</td>\n",
       "      <td> 112</td>\n",
       "      <td>  92</td>\n",
       "      <td> 116</td>\n",
       "      <td> 103</td>\n",
       "      <td> 104</td>\n",
       "    </tr>\n",
       "    <tr>\n",
       "      <th>3</th>\n",
       "      <td> 46</td>\n",
       "      <td> 104</td>\n",
       "      <td>  86</td>\n",
       "      <td> 102</td>\n",
       "      <td>  79</td>\n",
       "      <td>  77</td>\n",
       "    </tr>\n",
       "    <tr>\n",
       "      <th>4</th>\n",
       "      <td> 67</td>\n",
       "      <td>  87</td>\n",
       "      <td>  67</td>\n",
       "      <td> 116</td>\n",
       "      <td>  92</td>\n",
       "      <td> 100</td>\n",
       "    </tr>\n",
       "  </tbody>\n",
       "</table>\n",
       "</div>"
      ],
      "text/plain": [
       "    0    1    2    3    4    5\n",
       "0  83  117  101  105   79   57\n",
       "1  92  109   93  119   97   92\n",
       "2  92  112   92  116  103  104\n",
       "3  46  104   86  102   79   77\n",
       "4  67   87   67  116   92  100"
      ]
     },
     "execution_count": 3,
     "metadata": {},
     "output_type": "execute_result"
    }
   ],
   "source": [
    "data"
   ]
  },
  {
   "cell_type": "code",
   "execution_count": 147,
   "metadata": {
    "collapsed": false
   },
   "outputs": [],
   "source": [
    "def gibbs_pooled(y,iteration,warm_up=0):\n",
    "    y_bar=np.mean(y)\n",
    "    n=len(y)\n",
    "    theta=[]\n",
    "    sigma2=[1.0]\n",
    "    for i in range(iteration):\n",
    "        theta.append(np.random.normal(y_bar,np.sqrt(sigma2[i]/n)))\n",
    "        sigma2.append((n+2)*np.mean(np.square(y-theta[i]))/sp.stats.chi2.rvs(df=n+2))\n",
    "    del sigma2[0]\n",
    "    return np.array([theta[warm_up:],sigma2[warm_up:]])\n",
    "\n",
    "def gibbs_hierarchical(data,iteration,warm_up=0):\n",
    "    y_bar=np.mean(data)\n",
    "    n=len(data.ix[:,0])\n",
    "    J=len(data.T)\n",
    "    \n",
    "    theta=[]\n",
    "    sigma2=[]\n",
    "    for j in range(J):\n",
    "        theta.append([])\n",
    "        sigma2.append([1.0])\n",
    "    mu=[0.0]\n",
    "    tau=[1.0]\n",
    "    \n",
    "    for i in range(iteration):\n",
    "        theta_temp=[]\n",
    "\n",
    "        for j in range(J):\n",
    "            theta_bar=1.*(sigma2[j][i]*mu[i]+tau[i]*n*y_bar[j])/(sigma2[j][i]+tau[i]*n)\n",
    "            V_thetaj=1.*(sigma2[j][i]*tau[i])/(sigma2[j][i]+tau[i]*n)\n",
    "            \n",
    "            theta[j].append(np.random.normal(theta_bar,np.sqrt(V_thetaj)))\n",
    "            \n",
    "            sigma2hat=1.*np.sum(np.sum(np.square(data.ix[:,j]-theta[j][i])))/n\n",
    "            \n",
    "            sigma2[j].append(n*sigma2hat/sp.stats.chi2.rvs(df=n))\n",
    "            \n",
    "            theta_temp.append(theta[j][i])\n",
    "            \n",
    "        theta_temp=np.array(theta_temp)\n",
    "        \n",
    "        tau2hat=1./(J-1)*np.sum(np.square(theta_temp-mu[i]))\n",
    "        muhat=np.mean(theta_temp)\n",
    "        \n",
    "        tau.append((J-1)*tau2hat/sp.stats.chi2.rvs(df=J-1))\n",
    "        mu.append(np.random.normal(muhat,np.sqrt(tau[i+1]/J)))\n",
    "        \n",
    "    for j in range(len(theta)):\n",
    "        theta[j]=theta[j][warm_up:]\n",
    "        del sigma2[j][0]\n",
    "        sigma2[j]=sigma2[j][warm_up:]\n",
    "\n",
    "    del tau[0]\n",
    "    del mu[0]\n",
    "    return np.array([theta,sigma2,mu[warm_up:],tau[warm_up:]])"
   ]
  },
  {
   "cell_type": "code",
   "execution_count": 145,
   "metadata": {
    "collapsed": false
   },
   "outputs": [],
   "source": [
    "#separate\n",
    "param_separate=[]\n",
    "for i in range(6):\n",
    "    param_separate.append(gibbs_pooled(data.ix[:,i],10000,5000))"
   ]
  },
  {
   "cell_type": "code",
   "execution_count": 114,
   "metadata": {
    "collapsed": true
   },
   "outputs": [],
   "source": [
    "y_separate=[]\n",
    "for i in range(6):\n",
    "    y_separate.append(np.random.normal(param_separate[i][0],np.sqrt(param_separate[i][1])))"
   ]
  },
  {
   "cell_type": "code",
   "execution_count": 112,
   "metadata": {
    "collapsed": false
   },
   "outputs": [
    {
     "name": "stdout",
     "output_type": "stream",
     "text": [
      "                mean         sd       2.5%        25%        50%        75%  \\\n",
      "machine 1  75.838042  10.829184  53.291326  69.799924  75.950388  82.233074   \n",
      "\n",
      "               97.5%  \n",
      "machine 1  97.496065  \n",
      "                 mean        sd       2.5%         25%         50%  \\\n",
      "machine 2  105.873775  6.145678  93.810592  102.164889  105.815277   \n",
      "\n",
      "                  75%       97.5%  \n",
      "machine 2  109.504099  118.110069  \n",
      "                mean        sd       2.5%        25%        50%        75%  \\\n",
      "machine 3  87.725226  7.001522  73.696565  83.728019  87.697064  91.682617   \n",
      "\n",
      "                97.5%  \n",
      "machine 3  101.956275  \n",
      "                 mean        sd        2.5%         25%         50%  \\\n",
      "machine 4  111.430162  4.230966  102.713377  109.075081  111.502849   \n",
      "\n",
      "                  75%       97.5%  \n",
      "machine 4  113.892318  119.789203  \n",
      "                mean        sd       2.5%        25%        50%        75%  \\\n",
      "machine 5  89.999981  6.016149  77.920107  86.479808  90.030804  93.409752   \n",
      "\n",
      "                97.5%  \n",
      "machine 5  102.225172  \n",
      "                mean         sd       2.5%        25%       50%        75%  \\\n",
      "machine 6  86.141456  10.740288  64.973121  79.993546  86.11694  92.364673   \n",
      "\n",
      "                97.5%  \n",
      "machine 6  107.517717  \n"
     ]
    }
   ],
   "source": [
    "#(ⅰ)\n",
    "for i in range(6):\n",
    "    print summ(param_separate[i][0],\"machine {}\".format(i+1))"
   ]
  },
  {
   "cell_type": "code",
   "execution_count": 113,
   "metadata": {
    "collapsed": false
   },
   "outputs": [
    {
     "name": "stdout",
     "output_type": "stream",
     "text": [
      "                mean          sd        2.5%         25%         50%  \\\n",
      "machine 1  597.69313  825.283709  151.393785  284.207477  423.143115   \n",
      "\n",
      "                  75%        97.5%  \n",
      "machine 1  672.708739  2006.323938  \n",
      "                 mean         sd       2.5%        25%         50%  \\\n",
      "machine 2  198.163178  202.93319  51.806441  99.082689  146.997225   \n",
      "\n",
      "                  75%       97.5%  \n",
      "machine 2  224.675204  662.614429  \n",
      "                 mean          sd       2.5%         25%         50%  \\\n",
      "machine 3  254.382677  258.840952  64.287772  120.207765  180.951275   \n",
      "\n",
      "                  75%       97.5%  \n",
      "machine 3  292.664204  912.023947  \n",
      "                mean          sd       2.5%        25%        50%         75%  \\\n",
      "machine 4  90.085291  100.032921  22.957051  42.636881  63.810788  102.298671   \n",
      "\n",
      "                97.5%  \n",
      "machine 4  307.968434  \n",
      "                 mean          sd     2.5%        25%         50%         75%  \\\n",
      "machine 5  181.211786  180.087783  46.8423  84.990797  129.148179  209.208311   \n",
      "\n",
      "                97.5%  \n",
      "machine 5  640.920586  \n",
      "                 mean          sd        2.5%        25%         50%  \\\n",
      "machine 6  580.001109  726.391194  145.877823  273.83938  407.972625   \n",
      "\n",
      "                  75%        97.5%  \n",
      "machine 6  657.832224  1966.024866  \n"
     ]
    }
   ],
   "source": [
    "for i in range(6):\n",
    "    print summ(param_separate[i][1],\"machine {}\".format(i+1))"
   ]
  },
  {
   "cell_type": "code",
   "execution_count": 116,
   "metadata": {
    "collapsed": false
   },
   "outputs": [
    {
     "name": "stdout",
     "output_type": "stream",
     "text": [
      "                mean         sd       2.5%        25%       50%        75%  \\\n",
      "machine 1  75.461074  27.101027  21.171407  60.755577  75.55721  90.621452   \n",
      "\n",
      "                97.5%  \n",
      "machine 1  129.821124  \n",
      "                 mean         sd       2.5%        25%         50%  \\\n",
      "machine 2  106.086188  15.434096  76.473151  97.263752  106.016606   \n",
      "\n",
      "                  75%       97.5%  \n",
      "machine 2  114.767268  136.202817  \n",
      "                mean         sd       2.5%        25%        50%        75%  \\\n",
      "machine 3  87.890508  16.814975  53.822878  77.835366  88.074986  98.065835   \n",
      "\n",
      "                97.5%  \n",
      "machine 3  121.165659  \n",
      "                 mean         sd       2.5%         25%         50%  \\\n",
      "machine 4  111.351814  10.416624  90.463918  105.595447  111.310664   \n",
      "\n",
      "                  75%       97.5%  \n",
      "machine 4  117.351815  131.621314  \n",
      "                mean         sd       2.5%        25%        50%        75%  \\\n",
      "machine 5  90.215033  14.709505  60.875583  81.632234  90.189648  98.707157   \n",
      "\n",
      "                97.5%  \n",
      "machine 5  119.722543  \n",
      "                mean         sd       2.5%        25%        50%         75%  \\\n",
      "machine 6  86.326144  26.384491  36.716513  71.189969  86.274422  101.386629   \n",
      "\n",
      "                97.5%  \n",
      "machine 6  139.174686  \n"
     ]
    }
   ],
   "source": [
    "#(ⅱ)predictive values\n",
    "for i in range(6):\n",
    "    print summ(y_separate[i],\"machine {}\".format(i+1))"
   ]
  },
  {
   "cell_type": "code",
   "execution_count": 102,
   "metadata": {
    "collapsed": false
   },
   "outputs": [
    {
     "data": {
      "text/html": [
       "<div style=\"max-height:1000px;max-width:1500px;overflow:auto;\">\n",
       "<table border=\"1\" class=\"dataframe\">\n",
       "  <thead>\n",
       "    <tr style=\"text-align: right;\">\n",
       "      <th></th>\n",
       "      <th>mean</th>\n",
       "      <th>sd</th>\n",
       "      <th>2.5%</th>\n",
       "      <th>25%</th>\n",
       "      <th>50%</th>\n",
       "      <th>75%</th>\n",
       "      <th>97.5%</th>\n",
       "    </tr>\n",
       "  </thead>\n",
       "  <tbody>\n",
       "    <tr>\n",
       "      <th>$\\theta$</th>\n",
       "      <td> 92.904271</td>\n",
       "      <td> 3.39882</td>\n",
       "      <td> 86.231366</td>\n",
       "      <td> 90.646305</td>\n",
       "      <td> 92.864865</td>\n",
       "      <td> 95.155185</td>\n",
       "      <td> 99.701124</td>\n",
       "    </tr>\n",
       "  </tbody>\n",
       "</table>\n",
       "</div>"
      ],
      "text/plain": [
       "               mean       sd       2.5%        25%        50%        75%  \\\n",
       "$\\theta$  92.904271  3.39882  86.231366  90.646305  92.864865  95.155185   \n",
       "\n",
       "              97.5%  \n",
       "$\\theta$  99.701124  "
      ]
     },
     "execution_count": 102,
     "metadata": {},
     "output_type": "execute_result"
    }
   ],
   "source": [
    "#(ⅰ)\n",
    "summ(param_pooled[0],r\"$\\theta$\")"
   ]
  },
  {
   "cell_type": "code",
   "execution_count": 103,
   "metadata": {
    "collapsed": false
   },
   "outputs": [
    {
     "data": {
      "text/html": [
       "<div style=\"max-height:1000px;max-width:1500px;overflow:auto;\">\n",
       "<table border=\"1\" class=\"dataframe\">\n",
       "  <thead>\n",
       "    <tr style=\"text-align: right;\">\n",
       "      <th></th>\n",
       "      <th>mean</th>\n",
       "      <th>sd</th>\n",
       "      <th>2.5%</th>\n",
       "      <th>25%</th>\n",
       "      <th>50%</th>\n",
       "      <th>75%</th>\n",
       "      <th>97.5%</th>\n",
       "    </tr>\n",
       "  </thead>\n",
       "  <tbody>\n",
       "    <tr>\n",
       "      <th>$\\sigma^2$</th>\n",
       "      <td> 342.34128</td>\n",
       "      <td> 93.019706</td>\n",
       "      <td> 205.926029</td>\n",
       "      <td> 277.960902</td>\n",
       "      <td> 326.366492</td>\n",
       "      <td> 391.108043</td>\n",
       "      <td> 565.382077</td>\n",
       "    </tr>\n",
       "  </tbody>\n",
       "</table>\n",
       "</div>"
      ],
      "text/plain": [
       "                 mean         sd        2.5%         25%         50%  \\\n",
       "$\\sigma^2$  342.34128  93.019706  205.926029  277.960902  326.366492   \n",
       "\n",
       "                   75%       97.5%  \n",
       "$\\sigma^2$  391.108043  565.382077  "
      ]
     },
     "execution_count": 103,
     "metadata": {},
     "output_type": "execute_result"
    }
   ],
   "source": [
    "summ(param_pooled[1],r\"$\\sigma^2$\")"
   ]
  },
  {
   "cell_type": "code",
   "execution_count": 117,
   "metadata": {
    "collapsed": true
   },
   "outputs": [],
   "source": [
    "#(ⅱ)predictive values\n",
    "y_pooled=np.random.normal(param_pooled[0],np.sqrt(param_pooled[1]))"
   ]
  },
  {
   "cell_type": "code",
   "execution_count": 119,
   "metadata": {
    "collapsed": false,
    "scrolled": true
   },
   "outputs": [
    {
     "data": {
      "text/html": [
       "<div style=\"max-height:1000px;max-width:1500px;overflow:auto;\">\n",
       "<table border=\"1\" class=\"dataframe\">\n",
       "  <thead>\n",
       "    <tr style=\"text-align: right;\">\n",
       "      <th></th>\n",
       "      <th>mean</th>\n",
       "      <th>sd</th>\n",
       "      <th>2.5%</th>\n",
       "      <th>25%</th>\n",
       "      <th>50%</th>\n",
       "      <th>75%</th>\n",
       "      <th>97.5%</th>\n",
       "    </tr>\n",
       "  </thead>\n",
       "  <tbody>\n",
       "    <tr>\n",
       "      <th>$y_{rep}$</th>\n",
       "      <td> 93.572784</td>\n",
       "      <td> 19.04159</td>\n",
       "      <td> 56.531979</td>\n",
       "      <td> 81.015246</td>\n",
       "      <td> 93.657377</td>\n",
       "      <td> 106.174612</td>\n",
       "      <td> 131.113181</td>\n",
       "    </tr>\n",
       "  </tbody>\n",
       "</table>\n",
       "</div>"
      ],
      "text/plain": [
       "                mean        sd       2.5%        25%        50%         75%  \\\n",
       "$y_{rep}$  93.572784  19.04159  56.531979  81.015246  93.657377  106.174612   \n",
       "\n",
       "                97.5%  \n",
       "$y_{rep}$  131.113181  "
      ]
     },
     "execution_count": 119,
     "metadata": {},
     "output_type": "execute_result"
    }
   ],
   "source": [
    "summ(y_pooled,r\"$y_{rep}$\")"
   ]
  },
  {
   "cell_type": "code",
   "execution_count": 158,
   "metadata": {
    "collapsed": false
   },
   "outputs": [],
   "source": [
    "#hierarchical\n",
    "param_hierarchical=gibbs_hierarchical(data,50000,45000)"
   ]
  },
  {
   "cell_type": "code",
   "execution_count": 160,
   "metadata": {
    "collapsed": false
   },
   "outputs": [
    {
     "data": {
      "text/plain": [
       "[<matplotlib.lines.Line2D at 0x14579710>]"
      ]
     },
     "execution_count": 160,
     "metadata": {},
     "output_type": "execute_result"
    },
    {
     "data": {
      "image/png": "[encoded data removed]",
      "text/plain": [
       "<matplotlib.figure.Figure at 0x14247ab0>"
      ]
     },
     "metadata": {},
     "output_type": "display_data"
    }
   ],
   "source": [
    "plt.plot(param_hierarchical[2])"
   ]
  },
  {
   "cell_type": "code",
   "execution_count": 163,
   "metadata": {
    "collapsed": false
   },
   "outputs": [
    {
     "name": "stdout",
     "output_type": "stream",
     "text": [
      "                      mean         sd      2.5%        25%       50%  \\\n",
      "theta machine 1  83.684509  10.079869  64.84229  77.051745  83.27371   \n",
      "\n",
      "                       75%       97.5%  \n",
      "theta machine 1  90.098701  104.187274  \n",
      "                       mean        sd      2.5%        25%         50%  \\\n",
      "theta machine 2  103.347997  6.364662  89.78759  99.705919  103.693352   \n",
      "\n",
      "                        75%       97.5%  \n",
      "theta machine 2  107.328747  115.082546  \n",
      "                      mean        sd       2.5%        25%        50%  \\\n",
      "theta machine 3  89.567532  6.695989  77.056644  85.536418  89.400156   \n",
      "\n",
      "                      75%       97.5%  \n",
      "theta machine 3  93.19106  103.882829  \n",
      "                       mean        sd       2.5%         25%         50%  \\\n",
      "theta machine 4  108.978217  5.815864  92.729896  106.583248  109.941758   \n",
      "\n",
      "                        75%       97.5%  \n",
      "theta machine 4  112.513867  117.804769  \n",
      "                      mean        sd       2.5%        25%        50%  \\\n",
      "theta machine 5  90.885149  5.674972  79.536112  87.555986  90.781792   \n",
      "\n",
      "                       75%       97.5%  \n",
      "theta machine 5  94.117021  102.585367  \n",
      "                      mean        sd       2.5%        25%        50%  \\\n",
      "theta machine 6  89.249414  8.806351  72.286426  83.818417  89.254387   \n",
      "\n",
      "                       75%       97.5%  \n",
      "theta machine 6  94.388972  107.445238  \n"
     ]
    }
   ],
   "source": [
    "for i in range(6):\n",
    "    print summ(param_hierarchical[0][i],r\"theta machine {}\".format(i+1))"
   ]
  },
  {
   "cell_type": "code",
   "execution_count": 164,
   "metadata": {
    "collapsed": false
   },
   "outputs": [
    {
     "name": "stdout",
     "output_type": "stream",
     "text": [
      "                       mean           sd        2.5%         25%        50%  \\\n",
      "sigma2 machine 1  799.25262  1335.078315  142.692514  315.008772  503.54895   \n",
      "\n",
      "                         75%        97.5%  \n",
      "sigma2 machine 1  871.566109  3091.739096  \n",
      "                       mean          sd       2.5%        25%         50%  \\\n",
      "sigma2 machine 2  253.45997  399.001905  48.060098  99.860417  160.402053   \n",
      "\n",
      "                         75%        97.5%  \n",
      "sigma2 machine 2  275.871884  1023.429346  \n",
      "                        mean          sd       2.5%         25%         50%  \\\n",
      "sigma2 machine 3  293.534344  384.266636  59.097892  117.278753  185.065405   \n",
      "\n",
      "                         75%        97.5%  \n",
      "sigma2 machine 3  319.507217  1180.076274  \n",
      "                        mean          sd     2.5%        25%       50%  \\\n",
      "sigma2 machine 4  145.907726  258.666826  21.5281  44.787296  75.23268   \n",
      "\n",
      "                         75%       97.5%  \n",
      "sigma2 machine 4  143.186797  730.920183  \n",
      "                        mean          sd       2.5%        25%         50%  \\\n",
      "sigma2 machine 5  209.861296  299.649178  40.587468  84.649385  132.067539   \n",
      "\n",
      "                         75%       97.5%  \n",
      "sigma2 machine 5  229.901816  832.564037  \n",
      "                        mean          sd        2.5%         25%         50%  \\\n",
      "sigma2 machine 6  662.803891  959.399854  132.098732  267.480942  417.835571   \n",
      "\n",
      "                         75%        97.5%  \n",
      "sigma2 machine 6  721.899009  2617.415715  \n"
     ]
    }
   ],
   "source": [
    "for i in range(6):\n",
    "    print summ(param_hierarchical[1][i],r\"sigma2 machine {}\".format(i+1))"
   ]
  },
  {
   "cell_type": "code",
   "execution_count": 168,
   "metadata": {
    "collapsed": false
   },
   "outputs": [
    {
     "data": {
      "text/html": [
       "<div style=\"max-height:1000px;max-width:1500px;overflow:auto;\">\n",
       "<table border=\"1\" class=\"dataframe\">\n",
       "  <thead>\n",
       "    <tr style=\"text-align: right;\">\n",
       "      <th></th>\n",
       "      <th>mean</th>\n",
       "      <th>sd</th>\n",
       "      <th>2.5%</th>\n",
       "      <th>25%</th>\n",
       "      <th>50%</th>\n",
       "      <th>75%</th>\n",
       "      <th>97.5%</th>\n",
       "    </tr>\n",
       "  </thead>\n",
       "  <tbody>\n",
       "    <tr>\n",
       "      <th>mu machine</th>\n",
       "      <td> 94.259383</td>\n",
       "      <td> 8.033347</td>\n",
       "      <td> 77.565799</td>\n",
       "      <td> 90.052143</td>\n",
       "      <td> 94.435405</td>\n",
       "      <td> 98.663693</td>\n",
       "      <td> 109.904038</td>\n",
       "    </tr>\n",
       "  </tbody>\n",
       "</table>\n",
       "</div>"
      ],
      "text/plain": [
       "                 mean        sd       2.5%        25%        50%        75%  \\\n",
       "mu machine  94.259383  8.033347  77.565799  90.052143  94.435405  98.663693   \n",
       "\n",
       "                 97.5%  \n",
       "mu machine  109.904038  "
      ]
     },
     "execution_count": 168,
     "metadata": {},
     "output_type": "execute_result"
    }
   ],
   "source": [
    "summ(param_hierarchical[2],r\"mu machine\")"
   ]
  },
  {
   "cell_type": "code",
   "execution_count": 170,
   "metadata": {
    "collapsed": false
   },
   "outputs": [
    {
     "data": {
      "text/html": [
       "<div style=\"max-height:1000px;max-width:1500px;overflow:auto;\">\n",
       "<table border=\"1\" class=\"dataframe\">\n",
       "  <thead>\n",
       "    <tr style=\"text-align: right;\">\n",
       "      <th></th>\n",
       "      <th>mean</th>\n",
       "      <th>sd</th>\n",
       "      <th>2.5%</th>\n",
       "      <th>25%</th>\n",
       "      <th>50%</th>\n",
       "      <th>75%</th>\n",
       "      <th>97.5%</th>\n",
       "    </tr>\n",
       "  </thead>\n",
       "  <tbody>\n",
       "    <tr>\n",
       "      <th>tau machine</th>\n",
       "      <td> 338.822078</td>\n",
       "      <td> 601.033076</td>\n",
       "      <td> 12.75176</td>\n",
       "      <td> 97.83808</td>\n",
       "      <td> 188.288102</td>\n",
       "      <td> 358.903542</td>\n",
       "      <td> 1611.180822</td>\n",
       "    </tr>\n",
       "  </tbody>\n",
       "</table>\n",
       "</div>"
      ],
      "text/plain": [
       "                   mean          sd      2.5%       25%         50%  \\\n",
       "tau machine  338.822078  601.033076  12.75176  97.83808  188.288102   \n",
       "\n",
       "                    75%        97.5%  \n",
       "tau machine  358.903542  1611.180822  "
      ]
     },
     "execution_count": 170,
     "metadata": {},
     "output_type": "execute_result"
    }
   ],
   "source": [
    "summ(param_hierarchical[3],r\"tau machine\")"
   ]
  },
  {
   "cell_type": "code",
   "execution_count": 171,
   "metadata": {
    "collapsed": true
   },
   "outputs": [],
   "source": [
    "y_hierarchical=np.random.normal(param_hierarchical[0],np.sqrt(param_hierarchical[1]))"
   ]
  },
  {
   "cell_type": "code",
   "execution_count": 173,
   "metadata": {
    "collapsed": false
   },
   "outputs": [
    {
     "data": {
      "text/html": [
       "<div style=\"max-height:1000px;max-width:1500px;overflow:auto;\">\n",
       "<table border=\"1\" class=\"dataframe\">\n",
       "  <thead>\n",
       "    <tr style=\"text-align: right;\">\n",
       "      <th></th>\n",
       "      <th>mean</th>\n",
       "      <th>sd</th>\n",
       "      <th>2.5%</th>\n",
       "      <th>25%</th>\n",
       "      <th>50%</th>\n",
       "      <th>75%</th>\n",
       "      <th>97.5%</th>\n",
       "    </tr>\n",
       "  </thead>\n",
       "  <tbody>\n",
       "    <tr>\n",
       "      <th>y_rep</th>\n",
       "      <td> 94.288655</td>\n",
       "      <td> 22.854768</td>\n",
       "      <td> 46.367155</td>\n",
       "      <td> 81.663435</td>\n",
       "      <td> 95.404618</td>\n",
       "      <td> 108.430616</td>\n",
       "      <td> 135.407229</td>\n",
       "    </tr>\n",
       "  </tbody>\n",
       "</table>\n",
       "</div>"
      ],
      "text/plain": [
       "            mean         sd       2.5%        25%        50%         75%  \\\n",
       "y_rep  94.288655  22.854768  46.367155  81.663435  95.404618  108.430616   \n",
       "\n",
       "            97.5%  \n",
       "y_rep  135.407229  "
      ]
     },
     "execution_count": 173,
     "metadata": {},
     "output_type": "execute_result"
    }
   ],
   "source": [
    "summ(y_hierarchical,\"y_rep\")"
   ]
  },
  {
   "cell_type": "code",
   "execution_count": 174,
   "metadata": {
    "collapsed": true
   },
   "outputs": [],
   "source": [
    "theta_seventh=np.random.normal(param_hierarchical[2],np.sqrt(param_hierarchical[3]))"
   ]
  },
  {
   "cell_type": "code",
   "execution_count": 176,
   "metadata": {
    "collapsed": false
   },
   "outputs": [
    {
     "data": {
      "text/html": [
       "<div style=\"max-height:1000px;max-width:1500px;overflow:auto;\">\n",
       "<table border=\"1\" class=\"dataframe\">\n",
       "  <thead>\n",
       "    <tr style=\"text-align: right;\">\n",
       "      <th></th>\n",
       "      <th>mean</th>\n",
       "      <th>sd</th>\n",
       "      <th>2.5%</th>\n",
       "      <th>25%</th>\n",
       "      <th>50%</th>\n",
       "      <th>75%</th>\n",
       "      <th>97.5%</th>\n",
       "    </tr>\n",
       "  </thead>\n",
       "  <tbody>\n",
       "    <tr>\n",
       "      <th>theta_seventh</th>\n",
       "      <td> 93.894341</td>\n",
       "      <td> 19.620229</td>\n",
       "      <td> 52.512931</td>\n",
       "      <td> 84.577826</td>\n",
       "      <td> 94.139345</td>\n",
       "      <td> 103.879933</td>\n",
       "      <td> 131.480552</td>\n",
       "    </tr>\n",
       "  </tbody>\n",
       "</table>\n",
       "</div>"
      ],
      "text/plain": [
       "                    mean         sd       2.5%        25%        50%  \\\n",
       "theta_seventh  93.894341  19.620229  52.512931  84.577826  94.139345   \n",
       "\n",
       "                      75%       97.5%  \n",
       "theta_seventh  103.879933  131.480552  "
      ]
     },
     "execution_count": 176,
     "metadata": {},
     "output_type": "execute_result"
    }
   ],
   "source": [
    "summ(theta_seventh,\"theta_seventh\")"
   ]
  },
  {
   "cell_type": "code",
   "execution_count": null,
   "metadata": {
    "collapsed": true
   },
   "outputs": [],
   "source": []
  }
 ],
 "metadata": {
  "kernelspec": {
   "display_name": "Python 2",
   "language": "python",
   "name": "python2"
  },
  "language_info": {
   "codemirror_mode": {
    "name": "ipython",
    "version": 2
   },
   "file_extension": ".py",
   "mimetype": "text/x-python",
   "name": "python",
   "nbconvert_exporter": "python",
   "pygments_lexer": "ipython2",
   "version": "2.7.7"
  }
 },
 "nbformat": 4,
 "nbformat_minor": 0
}
