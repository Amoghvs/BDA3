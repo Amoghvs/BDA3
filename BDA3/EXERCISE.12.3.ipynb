{
 "cells": [
  {
   "cell_type": "code",
   "execution_count": 28,
   "metadata": {
    "collapsed": false
   },
   "outputs": [],
   "source": [
    "%matplotlib inline\n",
    "import numpy as np\n",
    "import scipy as sp\n",
    "from scipy import stats\n",
    "import matplotlib.pyplot as plt\n",
    "import sklearn\n",
    "import pandas as pd\n",
    "from pandas import DataFrame, Series\n",
    "from numpy import nan as NA\n",
    "import math"
   ]
  },
  {
   "cell_type": "code",
   "execution_count": 2,
   "metadata": {
    "collapsed": false
   },
   "outputs": [
    {
     "name": "stdout",
     "output_type": "stream",
     "text": [
      "   Dose  Number of animals  Number of deaths\n",
      "0 -0.86                  5                 0\n",
      "1 -0.30                  5                 1\n",
      "2 -0.05                  5                 3\n",
      "3  0.73                  5                 5\n"
     ]
    }
   ],
   "source": [
    "data=DataFrame(np.array([[-0.86,-0.30,-0.05,0.73],[5,5,5,5],[0,1,3,5]]),index=[\"Dose\",\"Number of animals\",\"Number of deaths\"]).T\n",
    "print data"
   ]
  },
  {
   "cell_type": "code",
   "execution_count": 5,
   "metadata": {
    "collapsed": true
   },
   "outputs": [],
   "source": [
    "n=data.ix[:,1]\n",
    "y=data.ix[:,2]\n",
    "x=data.ix[:,0]"
   ]
  },
  {
   "cell_type": "code",
   "execution_count": 207,
   "metadata": {
    "collapsed": false
   },
   "outputs": [],
   "source": [
    "def invlogit(alpha,beta,x):\n",
    "    invlogit=np.exp(alpha+beta*x)/(1+np.exp(alpha+beta*x))\n",
    "    return invlogit\n",
    "\n",
    "def log_p_th(th,n,y,x):\n",
    "    alpha=th[0]\n",
    "    beta=th[1]\n",
    "    return alpha*np.sum(y)+beta*np.sum(y*x)-np.sum(n*np.log(1+np.exp(alpha+beta*x)))\n",
    "    \n",
    "def gradient_th(th,n,y,x):\n",
    "    alpha=th[0]\n",
    "    beta=th[1]\n",
    "    d_alpha=np.sum(y)-np.sum(n*invlogit(alpha,beta,x))\n",
    "    d_beta=np.sum(y*x)-np.sum(n*x*invlogit(alpha,beta,x))\n",
    "    return np.array([d_alpha,d_beta])\n",
    "\n",
    "def gradient_numerical_th(th,n,y,x):\n",
    "    alpha=th[0]\n",
    "    beta=th[1]\n",
    "    e=0.0001\n",
    "    hi_alpha=alpha+e\n",
    "    hi_beta=beta+e\n",
    "    lo_alpha=alpha-e\n",
    "    lo_beta=alpha-e\n",
    "    diff_alpha=1.*(log_p(hi_alpha,beta,n,y,x)-log_p(lo_alpha,beta,n,y,x))/2*e\n",
    "    diff_beta=1.*(log_p(alpha,hi_beta,n,y,x)-log_p(alpha,lo_beta,n,y,x))/2*e\n",
    "    return np.array([diff_alpha,diff_beta])\n",
    "    \n",
    "def hmc_iteration(th,n,y,x,epsilon,L,M):\n",
    "    count=0\n",
    "    M_inv=1./M\n",
    "    d=len(th)\n",
    "    phi=np.random.normal(0,np.sqrt(M),size=d)\n",
    "    th_old=th\n",
    "    log_p_old=log_p_th(th,n,y,x)-0.5*np.sum(M_inv*phi**2)\n",
    "    phi=phi+0.5*epsilon*gradient_th(th,n,y,x)\n",
    "    \n",
    "    for l in range(L):\n",
    "        th=th+epsilon*M_inv*phi\n",
    "        if l==L:\n",
    "            phi=phi+0.5*epsilon*gradient_th(th,n,y,x)\n",
    "        else:\n",
    "            phi=phi+0.5*epsilon*gradient_th(th,n,y,x)\n",
    "        \n",
    "    phi=-phi\n",
    "    log_p_star=log_p_th(th,n,y,x)-0.5*sum(M_inv*phi**2)\n",
    "    r=np.exp(log_p_star-log_p_old)\n",
    "    \n",
    "    if math.isnan(r):\n",
    "        r=0.0\n",
    "    \n",
    "    p_jump=np.min([r,1])\n",
    "    if p_jump>np.random.uniform():\n",
    "        th_new=th\n",
    "        count+=1\n",
    "    else:\n",
    "        th_new=th_old\n",
    "        \n",
    "    return np.array([th_new.tolist(),p_jump,count])\n",
    "\n",
    "\n",
    "def hmc_run(starting_values,iter,epsilon_0,L_0,M):\n",
    "    count=0\n",
    "    chains=len(starting_values)\n",
    "    d=len(starting_values[0])\n",
    "    warmup=int(0.5*iter)\n",
    "    \n",
    "    p_jump=[]\n",
    "    sims=[]\n",
    "        \n",
    "    for j in range(chains):\n",
    "        p_jump.append([])\n",
    "        sims.append([])\n",
    "        for k in range(d):\n",
    "            sims[j].append([])\n",
    "        \n",
    "        th=starting_values[j,:]\n",
    "        for t in range(iter):\n",
    "            epsilon=np.random.uniform(0,2*epsilon_0)\n",
    "            L=int(np.ceil(2*L_0*np.random.uniform()))\n",
    "            temp=hmc_iteration(th,n,y,x,epsilon,L,M)\n",
    "            \n",
    "            if temp[2]==1:\n",
    "                count+=1\n",
    "                \n",
    "            p_jump[j].append(temp[1])\n",
    "            for k in range(d):\n",
    "                sims[j][k].append(temp[0][k])\n",
    "           \n",
    "    sim_value=[]\n",
    "    for k in range(d):\n",
    "        sim_value.append([])\n",
    "    for j in range(chains):\n",
    "        for k in range(d):\n",
    "            sim_value[k].extend(sims[j][k][warmup:])\n",
    "            \n",
    "    return np.array([sim_value,p_jump,1.*count/(chains*iter)])\n",
    "            \n",
    "            \n",
    "    \n",
    "def posterior(alpha,beta,y,n,x):\n",
    "    posterior_dens=[]\n",
    "    for i in range(len(alpha)):\n",
    "        grid=[]\n",
    "        for j in range(len(beta)):\n",
    "            A=1.0\n",
    "            for k in range(len(x)):\n",
    "                A=A*np.power(invlogit(alpha[i],beta[j],x[k]),y[k])*np.power(1-invlogit(alpha[i],beta[j],x[k]),n[k]-y[k])\n",
    "            grid.append(A)\n",
    "        posterior_dens.append(grid)\n",
    "    return posterior_dens\n",
    "    \n",
    "def summ(x):\n",
    "    percentile=np.percentile(x,[2.5,25,50,75,97.5]).tolist()\n",
    "    summ=[np.mean(x),np.std(x)]\n",
    "    summ.extend(percentile)\n",
    "    summ=DataFrame(summ,index=[\"mean\",\"sd\",\"2.5%\",\"25%\",\"50%\",\"75%\",\"97.5%\"],columns=[\"info\"]).T\n",
    "    return summ"
   ]
  },
  {
   "cell_type": "code",
   "execution_count": 218,
   "metadata": {
    "collapsed": false
   },
   "outputs": [],
   "source": [
    "mass_vector=np.array([1./10**2,1./10**2])\n",
    "\n",
    "m=1\n",
    "d=2\n",
    "\n",
    "starting_values=[]\n",
    "for i in range(m):\n",
    "    starting_values.append([])\n",
    "    for j in range(d):\n",
    "        starting_values[i].append(np.random.uniform(0,15))\n",
    "starting_values=np.array(starting_values)"
   ]
  },
  {
   "cell_type": "code",
   "execution_count": 221,
   "metadata": {
    "collapsed": false,
    "scrolled": true
   },
   "outputs": [],
   "source": [
    "mc1=hmc_run(starting_values,iter=500,epsilon_0=0.1,L_0=10,M=mass_vector)"
   ]
  },
  {
   "cell_type": "code",
   "execution_count": 222,
   "metadata": {
    "collapsed": false
   },
   "outputs": [
    {
     "data": {
      "text/plain": [
       "0.698"
      ]
     },
     "execution_count": 222,
     "metadata": {},
     "output_type": "execute_result"
    }
   ],
   "source": [
    "mc1[2]"
   ]
  },
  {
   "cell_type": "code",
   "execution_count": 223,
   "metadata": {
    "collapsed": false
   },
   "outputs": [
    {
     "data": {
      "text/html": [
       "<div style=\"max-height:1000px;max-width:1500px;overflow:auto;\">\n",
       "<table border=\"1\" class=\"dataframe\">\n",
       "  <thead>\n",
       "    <tr style=\"text-align: right;\">\n",
       "      <th></th>\n",
       "      <th>mean</th>\n",
       "      <th>sd</th>\n",
       "      <th>2.5%</th>\n",
       "      <th>25%</th>\n",
       "      <th>50%</th>\n",
       "      <th>75%</th>\n",
       "      <th>97.5%</th>\n",
       "    </tr>\n",
       "  </thead>\n",
       "  <tbody>\n",
       "    <tr>\n",
       "      <th>info</th>\n",
       "      <td> 3.642846</td>\n",
       "      <td> 3.644611</td>\n",
       "      <td>-4.283678</td>\n",
       "      <td> 1.175734</td>\n",
       "      <td> 5.743363</td>\n",
       "      <td> 6.169697</td>\n",
       "      <td> 8.160806</td>\n",
       "    </tr>\n",
       "  </tbody>\n",
       "</table>\n",
       "</div>"
      ],
      "text/plain": [
       "          mean        sd      2.5%       25%       50%       75%     97.5%\n",
       "info  3.642846  3.644611 -4.283678  1.175734  5.743363  6.169697  8.160806"
      ]
     },
     "execution_count": 223,
     "metadata": {},
     "output_type": "execute_result"
    }
   ],
   "source": [
    "summ(mc1[0][0])"
   ]
  },
  {
   "cell_type": "code",
   "execution_count": 224,
   "metadata": {
    "collapsed": false
   },
   "outputs": [
    {
     "data": {
      "text/plain": [
       "<matplotlib.collections.PathCollection at 0x1c032e80>"
      ]
     },
     "execution_count": 224,
     "metadata": {},
     "output_type": "execute_result"
    },
    {
     "data": {
      "image/png": "[encoded data removed]",
      "text/plain": [
       "<matplotlib.figure.Figure at 0x1bd27cc0>"
      ]
     },
     "metadata": {},
     "output_type": "display_data"
    }
   ],
   "source": [
    "plt.scatter(mc1[0][0],mc1[0][1])"
   ]
  },
  {
   "cell_type": "code",
   "execution_count": null,
   "metadata": {
    "collapsed": true
   },
   "outputs": [],
   "source": []
  }
 ],
 "metadata": {
  "kernelspec": {
   "display_name": "Python 2",
   "language": "python",
   "name": "python2"
  },
  "language_info": {
   "codemirror_mode": {
    "name": "ipython",
    "version": 2
   },
   "file_extension": ".py",
   "mimetype": "text/x-python",
   "name": "python",
   "nbconvert_exporter": "python",
   "pygments_lexer": "ipython2",
   "version": "2.7.9"
  }
 },
 "nbformat": 4,
 "nbformat_minor": 0
}
