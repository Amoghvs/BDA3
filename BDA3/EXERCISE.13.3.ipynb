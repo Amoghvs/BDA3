{
 "cells": [
  {
   "cell_type": "code",
   "execution_count": 1,
   "metadata": {
    "collapsed": true
   },
   "outputs": [],
   "source": [
    "%matplotlib inline\n",
    "import numpy as np\n",
    "import scipy as sp\n",
    "from scipy import stats\n",
    "import matplotlib.pyplot as plt\n",
    "import sklearn\n",
    "import pandas as pd\n",
    "from pandas import DataFrame, Series\n",
    "from numpy import nan as NA"
   ]
  },
  {
   "cell_type": "code",
   "execution_count": 37,
   "metadata": {
    "collapsed": false
   },
   "outputs": [],
   "source": [
    "def logit(x,alpha,beta):\n",
    "    return np.exp(alpha+beta*x)/(1+np.exp(alpha+beta*x))\n",
    "\n",
    "J=10\n",
    "\n",
    "alpha_data=0+2*sp.stats.t.rvs(df=4)\n",
    "beta_data=0+1*sp.stats.t.rvs(df=4)\n",
    "\n",
    "n_j=[]\n",
    "j=0\n",
    "while j<J:\n",
    "    n_j_tenp=np.random.poisson(5)\n",
    "    if n_j_tenp>0:\n",
    "        n_j.append(n_j_tenp)\n",
    "        j+=1\n",
    "        \n",
    "x_j=[]\n",
    "y_j=[]\n",
    "for j in range(J):\n",
    "    x_j.append(np.random.uniform())\n",
    "    y_j.append(np.random.binomial(n=n_j[j],p=logit(x_j[j],alpha_data,beta_data)))"
   ]
  },
  {
   "cell_type": "code",
   "execution_count": 38,
   "metadata": {
    "collapsed": false
   },
   "outputs": [],
   "source": [
    "def posterior(x,alpha,beta):\n",
    "    return np.prod(logit(x,alpha,beta))"
   ]
  },
  {
   "cell_type": "code",
   "execution_count": 108,
   "metadata": {
    "collapsed": false
   },
   "outputs": [],
   "source": [
    "ratio=[]\n",
    "for i in range(1000):\n",
    "    candidate=np.random.multivariate_normal([0,0],[[4,0],[0,1]])\n",
    "    ratio.append(posterior(x_j,candidate[0],candidate[1])/sp.stats.multivariate_normal.pdf(candidate,[0,0],[[4,0],[0,1]]))"
   ]
  },
  {
   "cell_type": "code",
   "execution_count": 109,
   "metadata": {
    "collapsed": false
   },
   "outputs": [],
   "source": [
    "maximum=np.max(ratio)"
   ]
  },
  {
   "cell_type": "code",
   "execution_count": 114,
   "metadata": {
    "collapsed": true
   },
   "outputs": [],
   "source": [
    "ratio=[]\n",
    "for i in range(1000):\n",
    "    candidate=np.random.multivariate_normal([0,0],[[4,0],[0,1]])\n",
    "    ratio.append(posterior(x_j,candidate[0],candidate[1])/sp.stats.multivariate_normal.pdf(candidate,[0,0],[[4,0],[0,1]])/maximum)"
   ]
  },
  {
   "cell_type": "code",
   "execution_count": 115,
   "metadata": {
    "collapsed": false
   },
   "outputs": [
    {
     "data": {
      "text/plain": [
       "0.62058664075827852"
      ]
     },
     "execution_count": 115,
     "metadata": {},
     "output_type": "execute_result"
    }
   ],
   "source": [
    "max(ratio)"
   ]
  },
  {
   "cell_type": "code",
   "execution_count": null,
   "metadata": {
    "collapsed": false
   },
   "outputs": [],
   "source": [
    "num=0\n",
    "alpha_beta=[]\n",
    "while num<1000:\n",
    "    candidate=np.random.multivariate_normal([0,0],[[4,0],[0,1]])\n",
    "    if posterior(x_j,candidate[0],candidate[1])/sp.stats.multivariate_normal.pdf(candidate,[0,0],[[4,0],[0,1]])/maximum>np.random.uniform:\n",
    "        alpha_beta.append(candidate)\n",
    "        num+=1"
   ]
  },
  {
   "cell_type": "code",
   "execution_count": null,
   "metadata": {
    "collapsed": true
   },
   "outputs": [],
   "source": []
  }
 ],
 "metadata": {
  "kernelspec": {
   "display_name": "Python 2",
   "language": "python",
   "name": "python2"
  },
  "language_info": {
   "codemirror_mode": {
    "name": "ipython",
    "version": 2
   },
   "file_extension": ".py",
   "mimetype": "text/x-python",
   "name": "python",
   "nbconvert_exporter": "python",
   "pygments_lexer": "ipython2",
   "version": "2.7.9"
  }
 },
 "nbformat": 4,
 "nbformat_minor": 0
}
