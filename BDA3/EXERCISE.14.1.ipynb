{
 "cells": [
  {
   "cell_type": "code",
   "execution_count": 1,
   "metadata": {
    "collapsed": false
   },
   "outputs": [],
   "source": [
    "%matplotlib inline\n",
    "import numpy as np\n",
    "import scipy as sp\n",
    "from scipy import stats\n",
    "import matplotlib.pyplot as plt\n",
    "import sklearn\n",
    "import pandas as pd\n",
    "from pandas import DataFrame, Series\n",
    "from numpy import nan as NA"
   ]
  },
  {
   "cell_type": "code",
   "execution_count": 2,
   "metadata": {
    "collapsed": true
   },
   "outputs": [],
   "source": [
    "def summ(x):\n",
    "    percentile=np.percentile(x,[2.5,25,50,75,97.5]).tolist()\n",
    "    summ=[np.mean(x),np.std(x),np.min(x),np.max(x)]\n",
    "    summ.extend(percentile)\n",
    "    summ=DataFrame(summ,index=[\"mean\",\"sd\",\"min\",\"max\",\"2.5%\",\"25%\",\"50%\",\"75%\",\"97.5%\"],columns=[\"info\"]).T\n",
    "    return summ"
   ]
  },
  {
   "cell_type": "code",
   "execution_count": 3,
   "metadata": {
    "collapsed": false
   },
   "outputs": [],
   "source": [
    "data=DataFrame([[5.0,13.0,7.2,6.8,12.8,5.8,9.5,6.0,3.8,14.3,1.8,6.9,4.7,9.5],\n",
    "                [0.9,12.9,2.6,3.5,26.6,1.5,13.0,8.8,19.5,2.5,9.0,13.1,3.6,6.9],\n",
    "                [14.3,6.9,7.6,9.8,2.6,43.5,4.9,3.5,4.8,5.6,3.5,3.9,6.7]],\n",
    "                index=[\"Blue Earth\",\"Clay\",\"Goodhue\"]).T\n",
    "\n",
    "y=np.array([5.0,13.0,7.2,6.8,12.8,5.8,9.5,6.0,3.8,14.3,1.8,6.9,4.7,9.5,0.9,12.9,2.6,3.5,26.6,1.5,13.0,8.8,19.5,2.5,9.0,13.1,3.6,6.9,\n",
    "   14.3,6.9,7.6,9.8,2.6,43.5,4.9,3.5,4.8,5.6,3.5,3.9,6.7])\n",
    "\n",
    "indicator0=[1,1,1,1,1,1,1,1,1,1,1,1,1,1,1,1,1,1,1,1,1,1,1,1,1,1,1,1,1,1,1,1,1,1,1,1,1,1,1,1,1]\n",
    "indicator1=[1,1,1,1,1,1,1,1,1,1,1,1,1,1,0,0,0,0,0,0,0,0,0,0,0,0,0,0,0,0,0,0,0,0,0,0,0,0,0,0,0]\n",
    "indicator2=[0,0,0,0,0,0,0,0,0,0,0,0,0,0,1,1,1,1,1,1,1,1,1,1,1,1,1,1,0,0,0,0,0,0,0,0,0,0,0,0,0]\n",
    "indicator3=[0,0,0,0,0,0,0,0,0,0,0,0,0,0,0,0,0,0,0,0,0,0,0,0,0,0,0,0,1,1,1,1,1,1,1,1,1,1,1,1,1]\n",
    "indicator4=[0,0,0,0,0,1,0,0,0,1,0,0,0,0,1,0,0,1,0,0,0,0,0,1,0,0,0,1,0,1,0,1,0,0,0,0,0,0,0,0,0]\n",
    "\n",
    "X=DataFrame([indicator0,indicator1,indicator2,indicator3,indicator4]).T"
   ]
  },
  {
   "cell_type": "code",
   "execution_count": 4,
   "metadata": {
    "collapsed": false
   },
   "outputs": [],
   "source": [
    "beta_hat=np.dot(np.dot(np.linalg.inv(np.dot(X.T,X)),X.T),y)\n",
    "V_b=sp.linalg.inv(np.dot(X.T,X))"
   ]
  },
  {
   "cell_type": "code",
   "execution_count": 5,
   "metadata": {
    "collapsed": false
   },
   "outputs": [
    {
     "name": "stdout",
     "output_type": "stream",
     "text": [
      "[-1.24280702  6.78252193 -4.19963816  0.115625   -2.92719298]\n",
      "[[ -2.25179981e+14   2.25179981e+14   2.25179981e+14   2.25179981e+14\n",
      "   -2.45614035e-02]\n",
      " [  2.25179981e+14  -2.25179981e+14  -2.25179981e+14  -2.25179981e+14\n",
      "    1.75438596e-03]\n",
      " [  2.25179981e+14  -2.25179981e+14  -2.25179981e+14  -2.25179981e+14\n",
      "   -2.10526316e-02]\n",
      " [  2.25179981e+14  -2.25179981e+14  -2.25179981e+14  -2.25179981e+14\n",
      "    0.00000000e+00]\n",
      " [ -1.76754386e-02  -5.13157895e-03  -2.79385965e-02  -6.88596491e-03\n",
      "    1.59649123e-01]]\n"
     ]
    }
   ],
   "source": [
    "print beta_hat\n",
    "print V_b"
   ]
  },
  {
   "cell_type": "code",
   "execution_count": 15,
   "metadata": {
    "collapsed": false
   },
   "outputs": [],
   "source": [
    "df=len(y)-len(beta_hat)\n",
    "s2=1./df*np.dot((y-np.dot(X,beta_hat)).T,y-np.dot(X,beta_hat))\n",
    "sigma2=1.*df*s2/sp.stats.chi.rvs(df=df,size=1000)\n",
    "\n",
    "V_b_sigma2=[]\n",
    "beta=[]\n",
    "for i in range(len(sigma2)):\n",
    "    V_b_sigma2.append(V_b*sigma2[i])\n",
    "    beta.append(sp.stats.multivariate_normal.rvs(mean=beta_hat,cov=V_b_sigma2[i]))\n"
   ]
  },
  {
   "cell_type": "code",
   "execution_count": 16,
   "metadata": {
    "collapsed": false
   },
   "outputs": [
    {
     "data": {
      "text/plain": [
       "195.6110476447447"
      ]
     },
     "execution_count": 16,
     "metadata": {},
     "output_type": "execute_result"
    }
   ],
   "source": [
    "s2"
   ]
  },
  {
   "cell_type": "code",
   "execution_count": 17,
   "metadata": {
    "collapsed": false,
    "scrolled": true
   },
   "outputs": [],
   "source": [
    "beta=DataFrame(beta)"
   ]
  },
  {
   "cell_type": "code",
   "execution_count": 18,
   "metadata": {
    "collapsed": false
   },
   "outputs": [
    {
     "data": {
      "text/html": [
       "<div style=\"max-height:1000px;max-width:1500px;overflow:auto;\">\n",
       "<table border=\"1\" class=\"dataframe\">\n",
       "  <thead>\n",
       "    <tr style=\"text-align: right;\">\n",
       "      <th></th>\n",
       "      <th>mean</th>\n",
       "      <th>sd</th>\n",
       "      <th>min</th>\n",
       "      <th>max</th>\n",
       "      <th>2.5%</th>\n",
       "      <th>25%</th>\n",
       "      <th>50%</th>\n",
       "      <th>75%</th>\n",
       "      <th>97.5%</th>\n",
       "    </tr>\n",
       "  </thead>\n",
       "  <tbody>\n",
       "    <tr>\n",
       "      <th>info</th>\n",
       "      <td>-1.387388</td>\n",
       "      <td> 7.228593</td>\n",
       "      <td>-25.469881</td>\n",
       "      <td> 27.218204</td>\n",
       "      <td>-16.251448</td>\n",
       "      <td>-5.758028</td>\n",
       "      <td>-1.559257</td>\n",
       "      <td> 2.573603</td>\n",
       "      <td> 13.951039</td>\n",
       "    </tr>\n",
       "  </tbody>\n",
       "</table>\n",
       "</div>"
      ],
      "text/plain": [
       "          mean        sd        min        max       2.5%       25%       50%  \\\n",
       "info -1.387388  7.228593 -25.469881  27.218204 -16.251448 -5.758028 -1.559257   \n",
       "\n",
       "           75%      97.5%  \n",
       "info  2.573603  13.951039  "
      ]
     },
     "execution_count": 18,
     "metadata": {},
     "output_type": "execute_result"
    }
   ],
   "source": [
    "summ(beta.ix[:,0])"
   ]
  },
  {
   "cell_type": "code",
   "execution_count": 19,
   "metadata": {
    "collapsed": false
   },
   "outputs": [
    {
     "data": {
      "text/html": [
       "<div style=\"max-height:1000px;max-width:1500px;overflow:auto;\">\n",
       "<table border=\"1\" class=\"dataframe\">\n",
       "  <thead>\n",
       "    <tr style=\"text-align: right;\">\n",
       "      <th></th>\n",
       "      <th>mean</th>\n",
       "      <th>sd</th>\n",
       "      <th>min</th>\n",
       "      <th>max</th>\n",
       "      <th>2.5%</th>\n",
       "      <th>25%</th>\n",
       "      <th>50%</th>\n",
       "      <th>75%</th>\n",
       "      <th>97.5%</th>\n",
       "    </tr>\n",
       "  </thead>\n",
       "  <tbody>\n",
       "    <tr>\n",
       "      <th>info</th>\n",
       "      <td> 6.737296</td>\n",
       "      <td> 7.489275</td>\n",
       "      <td>-20.680875</td>\n",
       "      <td> 33.571309</td>\n",
       "      <td>-7.414044</td>\n",
       "      <td> 1.804573</td>\n",
       "      <td> 6.530049</td>\n",
       "      <td> 11.253121</td>\n",
       "      <td> 22.007334</td>\n",
       "    </tr>\n",
       "  </tbody>\n",
       "</table>\n",
       "</div>"
      ],
      "text/plain": [
       "          mean        sd        min        max      2.5%       25%       50%  \\\n",
       "info  6.737296  7.489275 -20.680875  33.571309 -7.414044  1.804573  6.530049   \n",
       "\n",
       "            75%      97.5%  \n",
       "info  11.253121  22.007334  "
      ]
     },
     "execution_count": 19,
     "metadata": {},
     "output_type": "execute_result"
    }
   ],
   "source": [
    "summ(beta.ix[:,1])"
   ]
  },
  {
   "cell_type": "code",
   "execution_count": 20,
   "metadata": {
    "collapsed": false
   },
   "outputs": [
    {
     "data": {
      "text/html": [
       "<div style=\"max-height:1000px;max-width:1500px;overflow:auto;\">\n",
       "<table border=\"1\" class=\"dataframe\">\n",
       "  <thead>\n",
       "    <tr style=\"text-align: right;\">\n",
       "      <th></th>\n",
       "      <th>mean</th>\n",
       "      <th>sd</th>\n",
       "      <th>min</th>\n",
       "      <th>max</th>\n",
       "      <th>2.5%</th>\n",
       "      <th>25%</th>\n",
       "      <th>50%</th>\n",
       "      <th>75%</th>\n",
       "      <th>97.5%</th>\n",
       "    </tr>\n",
       "  </thead>\n",
       "  <tbody>\n",
       "    <tr>\n",
       "      <th>info</th>\n",
       "      <td>-4.48973</td>\n",
       "      <td> 8.060993</td>\n",
       "      <td>-32.762275</td>\n",
       "      <td> 24.036784</td>\n",
       "      <td>-20.432007</td>\n",
       "      <td>-9.537258</td>\n",
       "      <td>-4.765101</td>\n",
       "      <td> 0.647787</td>\n",
       "      <td> 12.094815</td>\n",
       "    </tr>\n",
       "  </tbody>\n",
       "</table>\n",
       "</div>"
      ],
      "text/plain": [
       "         mean        sd        min        max       2.5%       25%       50%  \\\n",
       "info -4.48973  8.060993 -32.762275  24.036784 -20.432007 -9.537258 -4.765101   \n",
       "\n",
       "           75%      97.5%  \n",
       "info  0.647787  12.094815  "
      ]
     },
     "execution_count": 20,
     "metadata": {},
     "output_type": "execute_result"
    }
   ],
   "source": [
    "summ(beta.ix[:,2])"
   ]
  },
  {
   "cell_type": "code",
   "execution_count": 21,
   "metadata": {
    "collapsed": false
   },
   "outputs": [
    {
     "data": {
      "text/html": [
       "<div style=\"max-height:1000px;max-width:1500px;overflow:auto;\">\n",
       "<table border=\"1\" class=\"dataframe\">\n",
       "  <thead>\n",
       "    <tr style=\"text-align: right;\">\n",
       "      <th></th>\n",
       "      <th>mean</th>\n",
       "      <th>sd</th>\n",
       "      <th>min</th>\n",
       "      <th>max</th>\n",
       "      <th>2.5%</th>\n",
       "      <th>25%</th>\n",
       "      <th>50%</th>\n",
       "      <th>75%</th>\n",
       "      <th>97.5%</th>\n",
       "    </tr>\n",
       "  </thead>\n",
       "  <tbody>\n",
       "    <tr>\n",
       "      <th>info</th>\n",
       "      <td> 0.306362</td>\n",
       "      <td> 7.702237</td>\n",
       "      <td>-26.307524</td>\n",
       "      <td> 27.872852</td>\n",
       "      <td>-14.540469</td>\n",
       "      <td>-4.628121</td>\n",
       "      <td> 0.183034</td>\n",
       "      <td> 5.403453</td>\n",
       "      <td> 15.126765</td>\n",
       "    </tr>\n",
       "  </tbody>\n",
       "</table>\n",
       "</div>"
      ],
      "text/plain": [
       "          mean        sd        min        max       2.5%       25%       50%  \\\n",
       "info  0.306362  7.702237 -26.307524  27.872852 -14.540469 -4.628121  0.183034   \n",
       "\n",
       "           75%      97.5%  \n",
       "info  5.403453  15.126765  "
      ]
     },
     "execution_count": 21,
     "metadata": {},
     "output_type": "execute_result"
    }
   ],
   "source": [
    "summ(beta.ix[:,3])"
   ]
  },
  {
   "cell_type": "code",
   "execution_count": 22,
   "metadata": {
    "collapsed": false
   },
   "outputs": [
    {
     "data": {
      "text/html": [
       "<div style=\"max-height:1000px;max-width:1500px;overflow:auto;\">\n",
       "<table border=\"1\" class=\"dataframe\">\n",
       "  <thead>\n",
       "    <tr style=\"text-align: right;\">\n",
       "      <th></th>\n",
       "      <th>mean</th>\n",
       "      <th>sd</th>\n",
       "      <th>min</th>\n",
       "      <th>max</th>\n",
       "      <th>2.5%</th>\n",
       "      <th>25%</th>\n",
       "      <th>50%</th>\n",
       "      <th>75%</th>\n",
       "      <th>97.5%</th>\n",
       "    </tr>\n",
       "  </thead>\n",
       "  <tbody>\n",
       "    <tr>\n",
       "      <th>info</th>\n",
       "      <td>-3.388096</td>\n",
       "      <td> 13.452634</td>\n",
       "      <td>-42.214685</td>\n",
       "      <td> 45.602571</td>\n",
       "      <td>-30.816776</td>\n",
       "      <td>-12.141162</td>\n",
       "      <td>-3.505864</td>\n",
       "      <td> 5.73176</td>\n",
       "      <td> 23.924222</td>\n",
       "    </tr>\n",
       "  </tbody>\n",
       "</table>\n",
       "</div>"
      ],
      "text/plain": [
       "          mean         sd        min        max       2.5%        25%  \\\n",
       "info -3.388096  13.452634 -42.214685  45.602571 -30.816776 -12.141162   \n",
       "\n",
       "           50%      75%      97.5%  \n",
       "info -3.505864  5.73176  23.924222  "
      ]
     },
     "execution_count": 22,
     "metadata": {},
     "output_type": "execute_result"
    }
   ],
   "source": [
    "summ(beta.ix[:,4])"
   ]
  },
  {
   "cell_type": "code",
   "execution_count": null,
   "metadata": {
    "collapsed": false
   },
   "outputs": [],
   "source": []
  }
 ],
 "metadata": {
  "kernelspec": {
   "display_name": "Python 2",
   "language": "python",
   "name": "python2"
  },
  "language_info": {
   "codemirror_mode": {
    "name": "ipython",
    "version": 2
   },
   "file_extension": ".py",
   "mimetype": "text/x-python",
   "name": "python",
   "nbconvert_exporter": "python",
   "pygments_lexer": "ipython2",
   "version": "2.7.9"
  }
 },
 "nbformat": 4,
 "nbformat_minor": 0
}
