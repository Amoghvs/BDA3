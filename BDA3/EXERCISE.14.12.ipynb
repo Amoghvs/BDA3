{
 "cells": [
  {
   "cell_type": "code",
   "execution_count": 1,
   "metadata": {
    "collapsed": true
   },
   "outputs": [],
   "source": [
    "%matplotlib inline\n",
    "import numpy as np\n",
    "import scipy as sp\n",
    "from scipy import stats\n",
    "import matplotlib.pyplot as plt\n",
    "import sklearn\n",
    "import pandas as pd\n",
    "from pandas import DataFrame, Series\n",
    "from numpy import nan as NA"
   ]
  },
  {
   "cell_type": "code",
   "execution_count": 2,
   "metadata": {
    "collapsed": true
   },
   "outputs": [],
   "source": [
    "data=DataFrame([[31.2,24.0,19.8,18.2,9.6,6.5,3.2],\n",
    "                [10750,8805,7500,7662,5286,3724,24232],\n",
    "                [1113,982,908,842,626,430,281]]).T"
   ]
  },
  {
   "cell_type": "code",
   "execution_count": 3,
   "metadata": {
    "collapsed": false
   },
   "outputs": [],
   "source": [
    "y=np.log(data.ix[:,0])\n",
    "x=np.log(data.ix[:,2])"
   ]
  },
  {
   "cell_type": "code",
   "execution_count": 4,
   "metadata": {
    "collapsed": false
   },
   "outputs": [
    {
     "name": "stdout",
     "output_type": "stream",
     "text": [
      "      0      1     2\n",
      "0  31.2  10750  1113\n",
      "1  24.0   8805   982\n",
      "2  19.8   7500   908\n",
      "3  18.2   7662   842\n",
      "4   9.6   5286   626\n",
      "5   6.5   3724   430\n",
      "6   3.2  24232   281\n"
     ]
    }
   ],
   "source": [
    "print data"
   ]
  },
  {
   "cell_type": "code",
   "execution_count": 5,
   "metadata": {
    "collapsed": true
   },
   "outputs": [],
   "source": [
    "#This likelihood is made by integrating over u_i\n",
    "def likelihood(y,x,sigma,mu,tau,a,b):\n",
    "    return 1./(a**2+b*sigma**2+1./tau**2)*np.exp(-1./2*(a*y+sigma**2*a**2-(x*sigma**2+b*y-2.0*sigma**2*a*b+1.*mu/tau**2))**2/(sigma**2+b*sigma**2+1./tau**2))\n",
    "\n",
    "#I use noninformative prior for (a,b), that is uniform.\n",
    "def posterior_dens(y,x,sigma,mu,tau,a,b):\n",
    "    return np.prod(likelihood(y,x,sigma,mu,tau,a,b))\n",
    "    "
   ]
  },
  {
   "cell_type": "code",
   "execution_count": 17,
   "metadata": {
    "collapsed": false
   },
   "outputs": [],
   "source": [
    "def MH(y,x,sigma,mu,tau,ite):\n",
    "    a_old=10\n",
    "    b_old=0\n",
    "    a=[]\n",
    "    b=[]\n",
    "    acceptance=0\n",
    "    acceptance_rate=[]\n",
    "    for i in range(ite):\n",
    "        a_temp=a_old+np.random.normal(0,1)\n",
    "        b_temp=b_old+np.random.normal(0,1)\n",
    "        alpha=posterior_dens(y,x,sigma,mu,tau,a_temp,b_temp)/posterior_dens(y,x,sigma,mu,tau,a_old,b_old)\n",
    "        if alpha>np.random.uniform():\n",
    "            a.append(a_temp)\n",
    "            b.append(b_temp)\n",
    "            a_old=a_temp\n",
    "            b_old=b_temp\n",
    "            acceptance+=1\n",
    "            acceptance_rate.append(1.*acceptance/(i+1))\n",
    "        else:\n",
    "            a.append(a_old)\n",
    "            b.append(b_old)\n",
    "            acceptance_rate.append(1.*acceptance/(i+1))\n",
    "            \n",
    "    return np.array([a,b,acceptance_rate])"
   ]
  },
  {
   "cell_type": "code",
   "execution_count": 18,
   "metadata": {
    "collapsed": false
   },
   "outputs": [],
   "source": [
    "result=MH(y,x,np.mean(np.var(y)+np.var(x)),0,1,ite=1000)"
   ]
  },
  {
   "cell_type": "code",
   "execution_count": 19,
   "metadata": {
    "collapsed": false
   },
   "outputs": [
    {
     "data": {
      "text/plain": [
       "[<matplotlib.lines.Line2D at 0x18710160>]"
      ]
     },
     "execution_count": 19,
     "metadata": {},
     "output_type": "execute_result"
    },
    {
     "data": {
      "image/png": "[encoded data removed]",
      "text/plain": [
       "<matplotlib.figure.Figure at 0x18400278>"
      ]
     },
     "metadata": {},
     "output_type": "display_data"
    }
   ],
   "source": [
    "plt.plot(result[1])"
   ]
  },
  {
   "cell_type": "code",
   "execution_count": 55,
   "metadata": {
    "collapsed": true
   },
   "outputs": [],
   "source": [
    "rang=np.arange(-10,10,0.01)"
   ]
  },
  {
   "cell_type": "code",
   "execution_count": 70,
   "metadata": {
    "collapsed": false
   },
   "outputs": [],
   "source": [
    "aa=[]\n",
    "for i in range(len(rang)):\n",
    "    aa.append(posterior_dens(y,x,np.mean(np.var(y)+np.var(x)),0,1,2,rang[i]))"
   ]
  },
  {
   "cell_type": "code",
   "execution_count": 71,
   "metadata": {
    "collapsed": false
   },
   "outputs": [
    {
     "data": {
      "text/plain": [
       "[<matplotlib.lines.Line2D at 0x19960a58>]"
      ]
     },
     "execution_count": 71,
     "metadata": {},
     "output_type": "execute_result"
    },
    {
     "data": {
      "image/png": "[encoded data removed]",
      "text/plain": [
       "<matplotlib.figure.Figure at 0x195fb2b0>"
      ]
     },
     "metadata": {},
     "output_type": "display_data"
    }
   ],
   "source": [
    "plt.plot(rang,aa)"
   ]
  },
  {
   "cell_type": "code",
   "execution_count": null,
   "metadata": {
    "collapsed": true
   },
   "outputs": [],
   "source": []
  }
 ],
 "metadata": {
  "kernelspec": {
   "display_name": "Python 2",
   "language": "python",
   "name": "python2"
  },
  "language_info": {
   "codemirror_mode": {
    "name": "ipython",
    "version": 2
   },
   "file_extension": ".py",
   "mimetype": "text/x-python",
   "name": "python",
   "nbconvert_exporter": "python",
   "pygments_lexer": "ipython2",
   "version": "2.7.9"
  }
 },
 "nbformat": 4,
 "nbformat_minor": 0
}
