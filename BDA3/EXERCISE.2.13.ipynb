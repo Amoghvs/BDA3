{
 "metadata": {
  "name": "",
  "signature": "sha256:4a7e8508087d84fffaf67a231b354085212646ecff1d40712c8787d39aaba2bc"
 },
 "nbformat": 3,
 "nbformat_minor": 0,
 "worksheets": [
  {
   "cells": [
    {
     "cell_type": "code",
     "collapsed": false,
     "input": [
      "%matplotlib inline\n",
      "import numpy as np\n",
      "import scipy as sp\n",
      "from scipy import stats\n",
      "import matplotlib.pyplot as plt\n",
      "import sklearn\n",
      "import pandas as pd\n",
      "from pandas import DataFrame, Series\n",
      "from numpy import nan as NA"
     ],
     "language": "python",
     "metadata": {},
     "outputs": [],
     "prompt_number": 1
    },
    {
     "cell_type": "code",
     "collapsed": false,
     "input": [
      "def summ(x):\n",
      "    percentile=np.percentile(x,[2.5,25,50,75,97.5]).tolist()\n",
      "    summ=[np.mean(x),np.std(x)]\n",
      "    summ.extend(percentile)\n",
      "    summ=DataFrame(summ,index=[\"mean\",\"sd\",\"2.5%\",\"25%\",\"50%\",\"75%\",\"97.5%\"],columns=[\"info\"]).T\n",
      "    return summ"
     ],
     "language": "python",
     "metadata": {},
     "outputs": [],
     "prompt_number": 5
    },
    {
     "cell_type": "code",
     "collapsed": false,
     "input": [
      "data=DataFrame([[1976,1977,1978,1979,1980,1981,1982,1983,1984,1985],\n",
      "                [24,25,31,31,22,21,26,20,16,22],\n",
      "                [734,516,754,877,814,362,764,809,223,1066],\n",
      "                [0.19,0.12,0.15,0.16,0.14,0.06,0.13,0.13,0.03,0.15]],\n",
      "               index=[\"Year\",\"Fatal accidents\",\"Pasenger deaths\",\"Deaths rate\"])\n",
      "data=data.T"
     ],
     "language": "python",
     "metadata": {},
     "outputs": [],
     "prompt_number": 6
    },
    {
     "cell_type": "code",
     "collapsed": false,
     "input": [
      "#(a)\n",
      "theta_a=np.random.gamma(np.sum(data.ix[:,1]),size=1000)/len(data)\n",
      "fatal_accidents_pred_a=np.random.poisson(theta_a)\n",
      "print summ(fatal_accidents_pred_a)"
     ],
     "language": "python",
     "metadata": {},
     "outputs": [
      {
       "output_type": "stream",
       "stream": "stdout",
       "text": [
        "        mean        sd  2.5%  25%  50%  75%  97.5%\n",
        "info  23.904  5.174822    14   20   24   27     35\n"
       ]
      }
     ],
     "prompt_number": 22
    },
    {
     "cell_type": "code",
     "collapsed": false,
     "input": [
      "#(b)\n",
      "passenger_miles=data.ix[:,2]/data.ix[:,3]*10**8\n",
      "\n",
      "theta_b=np.random.gamma(np.sum(data.ix[:,1]),size=1000)/np.sum(passenger_miles)\n",
      "fatal_accidents_pred_b=np.random.poisson((8*10**11)*theta_b)\n",
      "\n",
      "print summ(fatal_accidents_pred_b)"
     ],
     "language": "python",
     "metadata": {},
     "outputs": [
      {
       "output_type": "stream",
       "stream": "stdout",
       "text": [
        "        mean        sd  2.5%  25%  50%  75%  97.5%\n",
        "info  33.311  6.317775    21   29   33   38     46\n"
       ]
      }
     ],
     "prompt_number": 23
    },
    {
     "cell_type": "code",
     "collapsed": false,
     "input": [
      "#(c)\n",
      "theta_c=np.random.gamma(np.sum(data.ix[:,2]),size=1000)/len(data)\n",
      "passenger_deaths_pred=np.random.poisson(theta_c)\n",
      "print summ(passenger_deaths_pred)"
     ],
     "language": "python",
     "metadata": {},
     "outputs": [
      {
       "output_type": "stream",
       "stream": "stdout",
       "text": [
        "         mean         sd     2.5%  25%  50%  75%    97.5%\n",
        "info  692.844  28.542279  635.975  674  692  712  750.025\n"
       ]
      }
     ],
     "prompt_number": 26
    },
    {
     "cell_type": "code",
     "collapsed": false,
     "input": [
      "#(d)\n",
      "theta_d=np.random.gamma(np.sum(data.ix[:,2]),size=1000)/np.sum(passenger_miles)\n",
      "passenger_deaths_pred_d=np.random.poisson((8*10**11)*theta_d)\n",
      "\n",
      "print summ(passenger_deaths_pred_d)"
     ],
     "language": "python",
     "metadata": {},
     "outputs": [
      {
       "output_type": "stream",
       "stream": "stdout",
       "text": [
        "         mean         sd  2.5%  25%  50%  75%     97.5%\n",
        "info  968.838  33.644431   902  947  969  990  1032.025\n"
       ]
      }
     ],
     "prompt_number": 27
    },
    {
     "cell_type": "code",
     "collapsed": false,
     "input": [],
     "language": "python",
     "metadata": {},
     "outputs": []
    }
   ],
   "metadata": {}
  }
 ]
}