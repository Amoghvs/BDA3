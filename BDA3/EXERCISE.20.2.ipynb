{
 "cells": [
  {
   "cell_type": "markdown",
   "metadata": {},
   "source": [
    "The under codes are able to be implemented on R with rstan "
   ]
  },
  {
   "cell_type": "code",
   "execution_count": null,
   "metadata": {
    "collapsed": true
   },
   "outputs": [],
   "source": [
    "naes<-read.csv(\"naes04.csv\",header=T)\n",
    "gayKnow<-table(naes$age,naes$gayKnowSomeone)\n",
    "gayKnow<-data.frame(gayKnow)\n",
    "\n",
    "no<-gayKnow[1:80,]\n",
    "yes<-gayKnow[81:160,]\n",
    "\n",
    "age<-as.numeric(as.character(no$Var1))\n",
    "y<-no$Freq\n",
    "n<-yes$Freq+no$Freq\n",
    "\n",
    "phi<-function(x){\n",
    "  phi<-NULL\n",
    "  s<-seq(18,98,10)\n",
    "  for (i in 1:length(s)){\n",
    "    phi[i]<-exp(-(x-s[i])^2/(2*s[i]^2))\n",
    "  }\n",
    "  return(phi)\n",
    "}\n",
    "\n",
    "PHI<-matrix(1:length(age)*length(seq(18,98,10)),nrow=length(age),ncol=length(seq(18,98,10)))\n",
    "for(i in 1:length(age)){\n",
    "  PHI[i,]<-phi(age[i])\n",
    "}\n",
    "\n",
    "naes.dat<-list(N=length(y),M=9,n=n,y=y,X=age,nu=1.0,PHI=PHI)\n",
    "naes.fit<-stan(file=\"naes04.stan\",data=naes.dat,iter=2000,chains=4)\n",
    "\n",
    "\n",
    "naes.ext<-extract(naes.fit,permuted=T)\n",
    "w<-data.frame(naes.ext$beta)\n",
    "\n",
    "p_rep<-matrix(1:dim(w)[1]*length(y),nrow=dim(w)[1],ncol=length(y))\n",
    "y_rep<-matrix(1:dim(w)[1]*length(y),nrow=dim(w)[1],ncol=length(y))\n",
    "for (i in 1:dim(w)[1]){\n",
    "  for (j in 1:length(y)){\n",
    "    p_rep[i,j]<-exp(PHI[j,]%*%as.numeric(w[i,]))/(1+exp(PHI[j,]%*%as.numeric(w[i,])))\n",
    "    y_rep[i,j]<-rbinom(size=n[j],p=p_rep[i,j],n=1)\n",
    "  }\n",
    "  print(i)\n",
    "}\n",
    "\n",
    "\n",
    "\n",
    "g<-ggplot()\n",
    "g<-g+geom_line(data=df,aes(x=df$age,y=df$apply.y_rep..2..quantile..2...))\n",
    "g<-g+geom_line(data=df,aes(x=df$age,y=df$apply.y_rep..2..quantile..3...))\n",
    "g<-g+geom_line(data=df,aes(x=df$age,y=df$apply.y_rep..2..quantile..4...))\n",
    "g<-g+geom_point(data=df,aes(x=df$age,y=df$y))\n",
    "plot(g)\n"
   ]
  },
  {
   "cell_type": "code",
   "execution_count": null,
   "metadata": {
    "collapsed": true
   },
   "outputs": [],
   "source": [
    "data {\n",
    "  int<lower=0> N;\n",
    "  int<lower=0> M;\n",
    "  int<lower=0> n[N];\n",
    "  int<lower=0> y[N];\n",
    "  real<lower=0> X[N];\n",
    "  real<lower=0> nu;\n",
    "  matrix[N,M] PHI;\n",
    "}\n",
    "\n",
    "parameters {\n",
    "  vector[M] beta;\n",
    "  real<lower=0> alpha;\n",
    "}\n",
    "\n",
    "\n",
    "model{\n",
    "  real p[N];\n",
    "  \n",
    "  for (i in 1:N){\n",
    "    p[i] <- inv_logit(dot_product(PHI[i],beta));\n",
    "    y[i] ~ binomial(n[i],p[i]);\n",
    "  }\n",
    "  beta ~ normal(0,sqrt(alpha));\n",
    "  alpha ~ inv_gamma(nu/2,nu/2);\n",
    "}\n",
    "\n"
   ]
  }
 ],
 "metadata": {
  "kernelspec": {
   "display_name": "Python 2",
   "language": "python",
   "name": "python2"
  },
  "language_info": {
   "codemirror_mode": {
    "name": "ipython",
    "version": 2
   },
   "file_extension": ".py",
   "mimetype": "text/x-python",
   "name": "python",
   "nbconvert_exporter": "python",
   "pygments_lexer": "ipython2",
   "version": "2.7.7"
  }
 },
 "nbformat": 4,
 "nbformat_minor": 0
}
