{
 "metadata": {
  "name": "",
  "signature": "sha256:99d38807960df5242648408dba847b07ba84ba5da993063af8ca8df2f2371721"
 },
 "nbformat": 3,
 "nbformat_minor": 0,
 "worksheets": [
  {
   "cells": [
    {
     "cell_type": "code",
     "collapsed": false,
     "input": [
      "%matplotlib inline\n",
      "import numpy as np\n",
      "import scipy as sp\n",
      "from scipy import stats\n",
      "import matplotlib.pyplot as plt\n",
      "import sklearn\n",
      "import pandas as pd\n",
      "from pandas import DataFrame, Series\n",
      "from numpy import nan as NA"
     ],
     "language": "python",
     "metadata": {},
     "outputs": [],
     "prompt_number": 2
    },
    {
     "cell_type": "code",
     "collapsed": false,
     "input": [
      "data=DataFrame(np.array([[-0.86,-0.30,-0.05,0.73],[5,5,5,5],[0,1,3,5]]),index=[\"Dose\",\"Number of animals\",\"Number of deaths\"]).T\n",
      "print data"
     ],
     "language": "python",
     "metadata": {},
     "outputs": [
      {
       "output_type": "stream",
       "stream": "stdout",
       "text": [
        "   Dose  Number of animals  Number of deaths\n",
        "0 -0.86                  5                 0\n",
        "1 -0.30                  5                 1\n",
        "2 -0.05                  5                 3\n",
        "3  0.73                  5                 5\n"
       ]
      }
     ],
     "prompt_number": 3
    },
    {
     "cell_type": "code",
     "collapsed": false,
     "input": [
      "def invlogit(alpha,beta,x):\n",
      "    invlogit=np.exp(alpha+beta*x)/(1+np.exp(alpha+beta*x))\n",
      "    return invlogit\n",
      "    \n",
      "def posterior(alpha,beta,y,n,x):\n",
      "    posterior_dens=[]\n",
      "    for i in range(len(alpha)):\n",
      "        grid=[]\n",
      "        for j in range(len(beta)):\n",
      "            A=1.0\n",
      "            for k in range(len(x)):\n",
      "                A=A*np.power(invlogit(alpha[i],beta[j],x[k]),y[k])*np.power(1-invlogit(alpha[i],beta[j],x[k]),n[k]-y[k])*stats.multivariate_normal.pdf([alpha[i],beta[j]],[0,10],[[4,10],[10,100]])\n",
      "            grid.append(A)\n",
      "        posterior_dens.append(grid)\n",
      "    return posterior_dens\n",
      "\n",
      "def summ(x):\n",
      "    percentile=np.percentile(x,[2.5,25,50,75,97.5]).tolist()\n",
      "    summ=[np.mean(x),np.std(x)]\n",
      "    summ.extend(percentile)\n",
      "    summ=DataFrame(summ,index=[\"mean\",\"sd\",\"2.5%\",\"25%\",\"50%\",\"75%\",\"97.5%\"],columns=[\"info\"]).T\n",
      "    return summ\n",
      "    "
     ],
     "language": "python",
     "metadata": {},
     "outputs": [],
     "prompt_number": 4
    },
    {
     "cell_type": "code",
     "collapsed": false,
     "input": [
      "alphagrid=np.linspace(-4,10,400)\n",
      "betagrid=np.linspace(-10,40,400)\n",
      "contours_1=np.arange(0.05,1.0,0.05)\n",
      "contours_1=contours_1.tolist()\n",
      "contours=[0.0001,0.001,0.01]\n",
      "contours.extend(contours_1)\n",
      "dens=posterior(alphagrid,betagrid,np.array(data.ix[:,2]),np.array(data.ix[:,1]),np.array(data.ix[:,0]))"
     ],
     "language": "python",
     "metadata": {},
     "outputs": [],
     "prompt_number": 5
    },
    {
     "cell_type": "code",
     "collapsed": false,
     "input": [
      "plt.contour(alphagrid,betagrid,DataFrame(dens).T)\n",
      "plt.xlabel(\"alpha\")\n",
      "plt.ylabel(\"beta\")"
     ],
     "language": "python",
     "metadata": {},
     "outputs": [
      {
       "metadata": {},
       "output_type": "pyout",
       "prompt_number": 6,
       "text": [
        "<matplotlib.text.Text at 0xc4e1330>"
       ]
      },
      {
       "metadata": {},
       "output_type": "display_data",
       "png": "[encoded data removed]",
       "text": [
        "<matplotlib.figure.Figure at 0xc46d5d0>"
       ]
      }
     ],
     "prompt_number": 6
    },
    {
     "cell_type": "code",
     "collapsed": false,
     "input": [
      "alpha_dens=DataFrame(dens).T\n",
      "beta_dens=DataFrame(dens,index=alphagrid).T\n",
      "\n",
      "alpha=np.random.choice(np.array(alphagrid),p=np.array(np.sum(alpha_dens))/np.sum(np.sum(alpha_dens)),size=400)\n",
      "beta=[]\n",
      "for i in range(len(alpha)):\n",
      "    beta.append(np.random.choice(np.array(betagrid),p=np.array(beta_dens[alpha[i]])/np.sum(beta_dens[alpha[i]])))\n",
      "    \n",
      "alpha=alpha+np.random.uniform(-0.5,0.5,len(alpha))\n",
      "beta=np.array(beta)+np.random.uniform(-0.5,0.5,len(beta))"
     ],
     "language": "python",
     "metadata": {},
     "outputs": [],
     "prompt_number": 7
    },
    {
     "cell_type": "code",
     "collapsed": false,
     "input": [
      "plt.scatter(alpha,beta)\n",
      "plt.xlabel(\"alpha\")\n",
      "plt.ylabel(\"beta\")\n",
      "plt.xlim([-4,10])\n",
      "plt.ylim([-10,40])"
     ],
     "language": "python",
     "metadata": {},
     "outputs": [
      {
       "metadata": {},
       "output_type": "pyout",
       "prompt_number": 8,
       "text": [
        "(-10, 40)"
       ]
      },
      {
       "metadata": {},
       "output_type": "display_data",
       "png": "[encoded data removed]",
       "text": [
        "<matplotlib.figure.Figure at 0xc4eddb0>"
       ]
      }
     ],
     "prompt_number": 8
    },
    {
     "cell_type": "code",
     "collapsed": false,
     "input": [
      "print summ(alpha)\n",
      "print summ(beta)"
     ],
     "language": "python",
     "metadata": {},
     "outputs": [
      {
       "output_type": "stream",
       "stream": "stdout",
       "text": [
        "          mean        sd      2.5%       25%       50%       75%     97.5%\n",
        "info  0.613587  0.724626 -0.874789  0.118173  0.611987  1.115711  2.132412\n",
        "          mean        sd      2.5%       25%       50%        75%      97.5%\n",
        "info  9.713202  3.683115  3.366462  6.978099  9.417262  12.249067  16.994498\n"
       ]
      }
     ],
     "prompt_number": 9
    },
    {
     "cell_type": "code",
     "collapsed": false,
     "input": [],
     "language": "python",
     "metadata": {},
     "outputs": []
    }
   ],
   "metadata": {}
  }
 ]
}