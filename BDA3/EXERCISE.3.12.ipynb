{
 "cells": [
  {
   "cell_type": "code",
   "execution_count": 1,
   "metadata": {
    "collapsed": false
   },
   "outputs": [],
   "source": [
    "%matplotlib inline\n",
    "import numpy as np\n",
    "import scipy as sp\n",
    "from scipy import stats\n",
    "import matplotlib.pyplot as plt\n",
    "import sklearn\n",
    "import pandas as pd\n",
    "from pandas import DataFrame, Series\n",
    "from numpy import nan as NA"
   ]
  },
  {
   "cell_type": "code",
   "execution_count": 2,
   "metadata": {
    "collapsed": false
   },
   "outputs": [],
   "source": [
    "def summ(x):\n",
    "    percentile=np.percentile(x,[2.5,25,50,75,97.5]).tolist()\n",
    "    summ=[np.mean(x),np.std(x)]\n",
    "    summ.extend(percentile)\n",
    "    summ=DataFrame(summ,index=[\"mean\",\"sd\",\"2.5%\",\"25%\",\"50%\",\"75%\",\"97.5%\"],columns=[\"info\"]).T\n",
    "    return summ"
   ]
  },
  {
   "cell_type": "code",
   "execution_count": 3,
   "metadata": {
    "collapsed": false
   },
   "outputs": [],
   "source": [
    "data=DataFrame([[1976,1977,1978,1979,1980,1981,1982,1983,1984,1985],\n",
    "                [24,25,31,31,22,21,26,20,16,22],\n",
    "                [734,516,754,877,814,362,764,809,223,1066],\n",
    "                [0.19,0.12,0.15,0.16,0.14,0.06,0.13,0.13,0.03,0.15]],\n",
    "               index=[\"Year\",\"Fatal accidents\",\"Pasenger deaths\",\"Deaths rate\"])\n",
    "data=data.T"
   ]
  },
  {
   "cell_type": "code",
   "execution_count": 44,
   "metadata": {
    "collapsed": false
   },
   "outputs": [],
   "source": [
    "def likelihood(alpha,beta,y,t):\n",
    "    likelihood=1.0\n",
    "    num=0\n",
    "    for i in range(len(y)):\n",
    "        if alpha + beta*t[i]>0:\n",
    "            likelihood=likelihood*np.power(alpha+beta*t[i],y[i])*np.exp(-alpha-beta*t[i])\n",
    "            num=num+1\n",
    "    if num == 0:\n",
    "        likelihood=0.0\n",
    "    return likelihood\n",
    "\n",
    "def posterior_dens(alpha,beta,y,t):\n",
    "    posterior_dens=[]\n",
    "    for i in range(len(alpha)):\n",
    "        grid=[]\n",
    "        for j in range(len(beta)):\n",
    "            grid.append(likelihood(alpha[i],beta[j],y,t))\n",
    "        posterior_dens.append(grid)\n",
    "    return posterior_dens"
   ]
  },
  {
   "cell_type": "code",
   "execution_count": 48,
   "metadata": {
    "collapsed": false
   },
   "outputs": [],
   "source": [
    "alphagrid=np.linspace(10,40,400)\n",
    "betagrid=np.linspace(-0.003,1.0,200)\n",
    "contours_1=np.arange(0.05,1.0,0.05)\n",
    "contours_1=contours_1.tolist()\n",
    "contours=[0.0001,0.001,0.01]\n",
    "contours.extend(contours_1)\n",
    "dens=posterior_dens(alphagrid,betagrid,data.ix[:,1],data.ix[:,0])"
   ]
  },
  {
   "cell_type": "code",
   "execution_count": 50,
   "metadata": {
    "collapsed": false
   },
   "outputs": [
    {
     "data": {
      "text/plain": [
       "(-0.1, 0.1)"
      ]
     },
     "execution_count": 50,
     "metadata": {},
     "output_type": "execute_result"
    },
    {
     "data": {
      "image/png": "[encoded data removed]",
      "text/plain": [
       "<matplotlib.figure.Figure at 0xe4ee450>"
      ]
     },
     "metadata": {},
     "output_type": "display_data"
    }
   ],
   "source": [
    "plt.contour(alphagrid,betagrid,DataFrame(dens).T)\n",
    "plt.xlabel(\"alpha\")\n",
    "plt.ylabel(\"beta\")\n",
    "plt.xlim([15,25])\n",
    "plt.ylim([-0.1,0.1])"
   ]
  },
  {
   "cell_type": "code",
   "execution_count": 14,
   "metadata": {
    "collapsed": false
   },
   "outputs": [],
   "source": []
  },
  {
   "cell_type": "code",
   "execution_count": null,
   "metadata": {
    "collapsed": false
   },
   "outputs": [],
   "source": []
  }
 ],
 "metadata": {
  "kernelspec": {
   "display_name": "Python 2",
   "language": "python",
   "name": "python2"
  },
  "language_info": {
   "codemirror_mode": {
    "name": "ipython",
    "version": 2
   },
   "file_extension": ".py",
   "mimetype": "text/x-python",
   "name": "python",
   "nbconvert_exporter": "python",
   "pygments_lexer": "ipython2",
   "version": "2.7.9"
  }
 },
 "nbformat": 4,
 "nbformat_minor": 0
}
