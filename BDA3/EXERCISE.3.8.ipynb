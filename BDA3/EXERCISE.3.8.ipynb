{
 "metadata": {
  "name": "",
  "signature": "sha256:6a60c26ff084b2d2ae8a56f525a2850a292f38989c2d2d8a057145e239efdafe"
 },
 "nbformat": 3,
 "nbformat_minor": 0,
 "worksheets": [
  {
   "cells": [
    {
     "cell_type": "code",
     "collapsed": false,
     "input": [
      "%matplotlib inline\n",
      "import numpy as np\n",
      "import scipy as sp\n",
      "from scipy import stats\n",
      "import matplotlib.pyplot as plt\n",
      "import sklearn\n",
      "import pandas as pd\n",
      "from pandas import DataFrame, Series\n",
      "from numpy import nan as NA"
     ],
     "language": "python",
     "metadata": {},
     "outputs": [],
     "prompt_number": 1
    },
    {
     "cell_type": "code",
     "collapsed": false,
     "input": [
      "data_y=DataFrame()\n",
      "data_z=DataFrame()\n",
      "\n",
      "data_y=data_y.append(Series([16,9,10,13,19,20,18,17,35,55]),ignore_index=True)\n",
      "data_y=data_y.append(Series([58,90,48,57,103,57,86,112,273,64]),ignore_index=True)\n",
      "data_y=data_y.append(data_y.T[0]/(data_y.T[0]+data_y.T[1]),ignore_index=True)\n",
      "data_y=data_y.append(data_y.T[0]+data_y.T[1],ignore_index=True)\n",
      "data_y=data_y.T\n",
      "\n",
      "data_z=data_z.append(Series([12,1,2,4,9,7,9,8]),ignore_index=True)\n",
      "data_z=data_z.append(Series([113,18,14,44,208,67,29,154]),ignore_index=True)\n",
      "data_z=data_z.append(data_z.T[0]/(data_z.T[0]+data_z.T[1]),ignore_index=True)\n",
      "data_z=data_z.append(data_z.T[0]+data_z.T[1],ignore_index=True)\n",
      "data_z=data_z.T"
     ],
     "language": "python",
     "metadata": {},
     "outputs": [],
     "prompt_number": 7
    },
    {
     "cell_type": "code",
     "collapsed": false,
     "input": [
      "theta_y=np.random.gamma(np.sum(data_y[2]*data_y[3]),size=1000)/np.sum(data_y[3])\n",
      "theta_z=np.random.gamma(np.sum(data_z[2]*data_z[3]),size=1000)/np.sum(data_z[3])\n",
      "\n",
      "plt.hist(Series(theta_y-theta_z),bins=50)"
     ],
     "language": "python",
     "metadata": {},
     "outputs": [
      {
       "metadata": {},
       "output_type": "pyout",
       "prompt_number": 13,
       "text": [
        "(array([  1.,   0.,   0.,   0.,   0.,   0.,   2.,   1.,   0.,   1.,   1.,\n",
        "          5.,   3.,   4.,   6.,  10.,  14.,  13.,  20.,  21.,  20.,  25.,\n",
        "         27.,  33.,  42.,  37.,  52.,  53.,  59.,  58.,  57.,  57.,  44.,\n",
        "         51.,  42.,  43.,  31.,  35.,  28.,  21.,  14.,  24.,   8.,  11.,\n",
        "          5.,   7.,   2.,   4.,   7.,   1.]),\n",
        " array([ 0.04279788,  0.04497887,  0.04715985,  0.04934084,  0.05152182,\n",
        "         0.05370281,  0.05588379,  0.05806478,  0.06024576,  0.06242675,\n",
        "         0.06460773,  0.06678872,  0.0689697 ,  0.07115069,  0.07333167,\n",
        "         0.07551266,  0.07769364,  0.07987463,  0.08205561,  0.0842366 ,\n",
        "         0.08641758,  0.08859857,  0.09077955,  0.09296054,  0.09514152,\n",
        "         0.09732251,  0.09950349,  0.10168448,  0.10386546,  0.10604645,\n",
        "         0.10822743,  0.11040842,  0.1125894 ,  0.11477039,  0.11695137,\n",
        "         0.11913236,  0.12131334,  0.12349433,  0.12567531,  0.1278563 ,\n",
        "         0.13003728,  0.13221827,  0.13439925,  0.13658023,  0.13876122,\n",
        "         0.1409422 ,  0.14312319,  0.14530417,  0.14748516,  0.14966614,\n",
        "         0.15184713]),\n",
        " <a list of 50 Patch objects>)"
       ]
      },
      {
       "metadata": {},
       "output_type": "display_data",
       "png": "[encoded data removed]",
       "text": [
        "<matplotlib.figure.Figure at 0xdad8e90>"
       ]
      }
     ],
     "prompt_number": 13
    },
    {
     "cell_type": "code",
     "collapsed": false,
     "input": [
      "def summ(x):\n",
      "    percentile=np.percentile(x,[2.5,25,50,75,97.5]).tolist()\n",
      "    summ=[np.mean(x),np.std(x)]\n",
      "    summ.extend(percentile)\n",
      "    summ=DataFrame(summ,index=[\"mean\",\"sd\",\"2.5%\",\"25%\",\"50%\",\"75%\",\"97.5%\"],columns=[\"info\"]).T\n",
      "    return summ\n",
      "\n",
      "print summ(theta_y)\n",
      "print summ(theta_z)"
     ],
     "language": "python",
     "metadata": {},
     "outputs": [
      {
       "output_type": "stream",
       "stream": "stdout",
       "text": [
        "          mean        sd      2.5%       25%       50%       75%     97.5%\n",
        "info  0.182794  0.012343  0.157653  0.174785  0.182303  0.190907  0.207533\n",
        "          mean        sd      2.5%       25%       50%       75%     97.5%\n",
        "info  0.075002  0.010456  0.056233  0.067768  0.074682  0.081615  0.096537\n"
       ]
      }
     ],
     "prompt_number": 14
    },
    {
     "cell_type": "code",
     "collapsed": false,
     "input": [],
     "language": "python",
     "metadata": {},
     "outputs": []
    }
   ],
   "metadata": {}
  }
 ]
}