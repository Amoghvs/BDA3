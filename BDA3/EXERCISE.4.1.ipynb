{
 "metadata": {
  "name": "",
  "signature": "sha256:460ad61d393157e2733f3de0014a639a4404af6f87cf6db4e94b0993b8cf4974"
 },
 "nbformat": 3,
 "nbformat_minor": 0,
 "worksheets": [
  {
   "cells": [
    {
     "cell_type": "code",
     "collapsed": false,
     "input": [
      "%matplotlib inline\n",
      "import numpy as np\n",
      "import scipy as sp\n",
      "from scipy import stats\n",
      "import matplotlib.pyplot as plt\n",
      "import sklearn\n",
      "import pandas as pd\n",
      "from pandas import DataFrame, Series\n",
      "from numpy import nan as NA"
     ],
     "language": "python",
     "metadata": {},
     "outputs": [],
     "prompt_number": 1
    },
    {
     "cell_type": "code",
     "collapsed": false,
     "input": [
      "def first_derivative(y,theta):\n",
      "    return np.sum(2.0*(y-theta)/(1+(y-theta)**2))\n",
      "\n",
      "def second_derivative(y,theta):\n",
      "    return np.sum((-2.0+2.0*(y-theta)**2)/(1+(y-theta)**2)**2)\n",
      "\n",
      "def newton_method(y,initial,ite):\n",
      "    point=initial\n",
      "    for i in range(ite):\n",
      "        point=point-first_derivative(y,point)/second_derivative(y,point)\n",
      "    return point"
     ],
     "language": "python",
     "metadata": {},
     "outputs": [],
     "prompt_number": 16
    },
    {
     "cell_type": "code",
     "collapsed": false,
     "input": [
      "#(b)\n",
      "y=np.array([-2,-1,0,1.5,2.5])\n",
      "mode=newton_method(y,0.0,1000)\n",
      "print mode"
     ],
     "language": "python",
     "metadata": {},
     "outputs": [
      {
       "output_type": "stream",
       "stream": "stdout",
       "text": [
        "-0.137649277989\n"
       ]
      }
     ],
     "prompt_number": 21
    },
    {
     "cell_type": "code",
     "collapsed": false,
     "input": [
      "#(c)\n",
      "info=-second_derivative(y,mode)\n",
      "print info\n",
      "\n",
      "simu=np.random.normal(mode,1./np.sqrt(info),size=1000)\n",
      "Series(simu).plot(kind=\"kde\")"
     ],
     "language": "python",
     "metadata": {},
     "outputs": [
      {
       "output_type": "stream",
       "stream": "stdout",
       "text": [
        "1.37489000102\n"
       ]
      },
      {
       "metadata": {},
       "output_type": "pyout",
       "prompt_number": 22,
       "text": [
        "<matplotlib.axes.AxesSubplot at 0xc117e10>"
       ]
      },
      {
       "metadata": {},
       "output_type": "display_data",
       "png": "[encoded data removed]",
       "text": [
        "<matplotlib.figure.Figure at 0xc117b10>"
       ]
      }
     ],
     "prompt_number": 22
    },
    {
     "cell_type": "code",
     "collapsed": false,
     "input": [
      "print np.var(y)"
     ],
     "language": "python",
     "metadata": {},
     "outputs": [
      {
       "output_type": "stream",
       "stream": "stdout",
       "text": [
        "2.66\n"
       ]
      }
     ],
     "prompt_number": 23
    },
    {
     "cell_type": "code",
     "collapsed": false,
     "input": [],
     "language": "python",
     "metadata": {},
     "outputs": []
    }
   ],
   "metadata": {}
  }
 ]
}