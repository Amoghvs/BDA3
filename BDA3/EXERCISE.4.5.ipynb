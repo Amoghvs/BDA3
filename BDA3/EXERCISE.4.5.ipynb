{
 "metadata": {
  "name": "",
  "signature": "sha256:3405449555ec471ad9dc8faa69ff28d5799051a6ad5c5fed98bf1287b8044e4d"
 },
 "nbformat": 3,
 "nbformat_minor": 0,
 "worksheets": [
  {
   "cells": [
    {
     "cell_type": "code",
     "collapsed": false,
     "input": [
      "%matplotlib inline\n",
      "import numpy as np\n",
      "import scipy as sp\n",
      "from scipy import stats\n",
      "import matplotlib.pyplot as plt\n",
      "import sklearn\n",
      "import pandas as pd\n",
      "from pandas import DataFrame, Series\n",
      "from numpy import nan as NA"
     ],
     "language": "python",
     "metadata": {},
     "outputs": [],
     "prompt_number": 1
    },
    {
     "cell_type": "code",
     "collapsed": false,
     "input": [
      "#(a)\n",
      "x=np.random.normal(4,1,size=1000)\n",
      "y=np.random.normal(3,2,size=1000)\n",
      "y_over_x=y/x\n",
      "print np.mean(y_over_x)\n",
      "print np.std(y_over_x)"
     ],
     "language": "python",
     "metadata": {},
     "outputs": [
      {
       "output_type": "stream",
       "stream": "stdout",
       "text": [
        "0.825046168006\n",
        "0.615724699393\n"
       ]
      }
     ],
     "prompt_number": 12
    },
    {
     "cell_type": "code",
     "collapsed": false,
     "input": [
      "#(b)\n",
      "E_of_y_over_x=3./4+(3./4**3)*2**2\n",
      "V_of_y_over_x=(1./4**2+2.**2/3**2)*(3./4)**2\n",
      "print E_of_y_over_x\n",
      "print np.sqrt(V_of_y_over_x)"
     ],
     "language": "python",
     "metadata": {},
     "outputs": [
      {
       "output_type": "stream",
       "stream": "stdout",
       "text": [
        "0.9375\n",
        "0.534000234082\n"
       ]
      }
     ],
     "prompt_number": 13
    },
    {
     "cell_type": "code",
     "collapsed": false,
     "input": [],
     "language": "python",
     "metadata": {},
     "outputs": []
    }
   ],
   "metadata": {}
  }
 ]
}