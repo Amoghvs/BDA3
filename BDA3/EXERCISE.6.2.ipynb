{
 "metadata": {
  "name": "",
  "signature": "sha256:31d51a675e5ec16d548aab71a4a104168cea875dd6573f2955e9c57b567e2700"
 },
 "nbformat": 3,
 "nbformat_minor": 0,
 "worksheets": [
  {
   "cells": [
    {
     "cell_type": "code",
     "collapsed": false,
     "input": [
      "%matplotlib inline\n",
      "import numpy as np\n",
      "import scipy as sp\n",
      "from scipy import stats\n",
      "import matplotlib.pyplot as plt\n",
      "import sklearn\n",
      "import pandas as pd\n",
      "from pandas import DataFrame, Series\n",
      "from numpy import nan as NA"
     ],
     "language": "python",
     "metadata": {},
     "outputs": [],
     "prompt_number": 1
    },
    {
     "cell_type": "code",
     "collapsed": false,
     "input": [
      "def summ(x):\n",
      "    percentile=np.percentile(x,[2.5,25,50,75,97.5]).tolist()\n",
      "    summ=[np.mean(x),np.std(x)]\n",
      "    summ.extend(percentile)\n",
      "    summ=DataFrame(summ,index=[\"mean\",\"sd\",\"2.5%\",\"25%\",\"50%\",\"75%\",\"97.5%\"],columns=[\"info\"]).T\n",
      "    return summ"
     ],
     "language": "python",
     "metadata": {},
     "outputs": [],
     "prompt_number": 2
    },
    {
     "cell_type": "code",
     "collapsed": false,
     "input": [
      "data=DataFrame([[1976,1977,1978,1979,1980,1981,1982,1983,1984,1985],\n",
      "                [24,25,31,31,22,21,26,20,16,22],\n",
      "                [734,516,754,877,814,362,764,809,223,1066],\n",
      "                [0.19,0.12,0.15,0.16,0.14,0.06,0.13,0.13,0.03,0.15]],\n",
      "               index=[\"Year\",\"Fatal accidents\",\"Pasenger deaths\",\"Deaths rate\"])\n",
      "data=data.T\n",
      "print data"
     ],
     "language": "python",
     "metadata": {},
     "outputs": [
      {
       "output_type": "stream",
       "stream": "stdout",
       "text": [
        "   Year  Fatal accidents  Pasenger deaths  Deaths rate\n",
        "0  1976               24              734         0.19\n",
        "1  1977               25              516         0.12\n",
        "2  1978               31              754         0.15\n",
        "3  1979               31              877         0.16\n",
        "4  1980               22              814         0.14\n",
        "5  1981               21              362         0.06\n",
        "6  1982               26              764         0.13\n",
        "7  1983               20              809         0.13\n",
        "8  1984               16              223         0.03\n",
        "9  1985               22             1066         0.15\n"
       ]
      }
     ],
     "prompt_number": 3
    },
    {
     "cell_type": "code",
     "collapsed": false,
     "input": [
      "y_bar=np.mean(data.ix[:,1])\n",
      "std_of_y=np.std(data.ix[:,1])\n",
      "Max=np.max(data.ix[:,1])\n",
      "Min=np.min(data.ix[:,1])\n",
      "fifty=np.percentile(data.ix[:,1],50)\n",
      "\n",
      "y_bar2=np.mean(data.ix[:,2])\n",
      "std_of_y2=np.std(data.ix[:,2])\n",
      "Max2=np.max(data.ix[:,2])\n",
      "Min2=np.min(data.ix[:,2])\n",
      "fifty2=np.percentile(data.ix[:,2],50)"
     ],
     "language": "python",
     "metadata": {},
     "outputs": [],
     "prompt_number": 90
    },
    {
     "cell_type": "code",
     "collapsed": false,
     "input": [
      "# (a) (1) I set T=mean and std of this data as a test quantity\n",
      "#     (2) I set T=mean, max, min\n",
      "\n",
      "#(b)\n",
      "\n",
      "#for (a) of 2.13\n",
      "#(1)\n",
      "T_rep_a_1=[]\n",
      "T_rep_a_2=[]\n",
      "T_rep_a_3=[]\n",
      "T_rep_a_4=[]\n",
      "T_rep_a_5=[]\n",
      "for n in range(1000):\n",
      "    theta_a=np.random.gamma(np.sum(data.ix[:,1]),size=1000)/len(data)\n",
      "    fatal_accidents_pred_a=np.random.poisson(theta_a)\n",
      "    T_rep_a_1.append(np.mean(fatal_accidents_pred_a))\n",
      "    T_rep_a_2.append(np.std(fatal_accidents_pred_a))\n",
      "    T_rep_a_3.append(np.max(fatal_accidents_pred_a))\n",
      "    T_rep_a_4.append(np.min(fatal_accidents_pred_a))\n",
      "    T_rep_a_5.append(np.percentile(fatal_accidents_pred_a,50))"
     ],
     "language": "python",
     "metadata": {},
     "outputs": [],
     "prompt_number": 50
    },
    {
     "cell_type": "code",
     "collapsed": false,
     "input": [
      "plt.hist(T_rep_a_1)\n",
      "plt.plot([y_bar,y_bar],[0,300],color=\"r\")\n",
      "\n",
      "p_value_a_1=1.*len(np.array(T_rep_a_1)[np.array(T_rep_a_1)>y_bar])/len(T_rep_a_1)\n",
      "print p_value_a_1"
     ],
     "language": "python",
     "metadata": {},
     "outputs": [
      {
       "output_type": "stream",
       "stream": "stdout",
       "text": [
        "0.519\n"
       ]
      },
      {
       "metadata": {},
       "output_type": "display_data",
       "png": "[encoded data removed]",
       "text": [
        "<matplotlib.figure.Figure at 0x2cb1b30>"
       ]
      }
     ],
     "prompt_number": 51
    },
    {
     "cell_type": "code",
     "collapsed": false,
     "input": [
      "plt.hist(T_rep_a_2)\n",
      "plt.plot([std_of_y,std_of_y],[0,300],color=\"r\")\n",
      "\n",
      "p_value_a_2=1.*len(np.array(T_rep_a_2)[np.array(T_rep_a_2)>std_of_y])/len(T_rep_a_2)\n",
      "print p_value_a_2"
     ],
     "language": "python",
     "metadata": {},
     "outputs": [
      {
       "output_type": "stream",
       "stream": "stdout",
       "text": [
        "1.0\n"
       ]
      },
      {
       "metadata": {},
       "output_type": "display_data",
       "png": "[encoded data removed]",
       "text": [
        "<matplotlib.figure.Figure at 0x107e89f0>"
       ]
      }
     ],
     "prompt_number": 52
    },
    {
     "cell_type": "code",
     "collapsed": false,
     "input": [
      "#(2)\n",
      "plt.hist(T_rep_a_3)\n",
      "plt.plot([Max,Max],[0,350],color=\"r\")\n",
      "\n",
      "p_value_a_3=1.*len(np.array(T_rep_a_3)[np.array(T_rep_a_3)>Max])/len(T_rep_a_3)\n",
      "print p_value_a_3"
     ],
     "language": "python",
     "metadata": {},
     "outputs": [
      {
       "output_type": "stream",
       "stream": "stdout",
       "text": [
        "1.0\n"
       ]
      },
      {
       "metadata": {},
       "output_type": "display_data",
       "png": "[encoded data removed]",
       "text": [
        "<matplotlib.figure.Figure at 0x10a6d5d0>"
       ]
      }
     ],
     "prompt_number": 62
    },
    {
     "cell_type": "code",
     "collapsed": false,
     "input": [
      "plt.hist(T_rep_a_4)\n",
      "plt.plot([Min,Min],[0,350],color=\"r\")\n",
      "plt.xlim([3,17])\n",
      "\n",
      "p_value_a_4=1.*len(np.array(T_rep_a_4)[np.array(T_rep_a_4)>Min])/len(T_rep_a_4)\n",
      "print p_value_a_4"
     ],
     "language": "python",
     "metadata": {},
     "outputs": [
      {
       "output_type": "stream",
       "stream": "stdout",
       "text": [
        "0.0\n"
       ]
      },
      {
       "metadata": {},
       "output_type": "display_data",
       "png": "[encoded data removed]",
       "text": [
        "<matplotlib.figure.Figure at 0x10cc2270>"
       ]
      }
     ],
     "prompt_number": 67
    },
    {
     "cell_type": "code",
     "collapsed": false,
     "input": [
      "plt.hist(T_rep_a_5)\n",
      "plt.plot([fifty,fifty],[0,350],color=\"r\")\n",
      "plt.xlim([22,25])\n",
      "\n",
      "p_value_a_5=1.*len(np.array(T_rep_a_5)[np.array(T_rep_a_5)>fifty])/len(T_rep_a_5)\n",
      "print p_value_a_5"
     ],
     "language": "python",
     "metadata": {},
     "outputs": [
      {
       "output_type": "stream",
       "stream": "stdout",
       "text": [
        "0.712\n"
       ]
      },
      {
       "metadata": {},
       "output_type": "display_data",
       "png": "[encoded data removed]",
       "text": [
        "<matplotlib.figure.Figure at 0x10813bf0>"
       ]
      }
     ],
     "prompt_number": 73
    },
    {
     "cell_type": "code",
     "collapsed": false,
     "input": [
      "#for (b) of 2.13\n",
      "#(1)\n",
      "T_rep_b_1=[]\n",
      "T_rep_b_2=[]\n",
      "T_rep_b_3=[]\n",
      "T_rep_b_4=[]\n",
      "T_rep_b_5=[]\n",
      "for n in range(1000):\n",
      "    theta_b=np.random.gamma(np.sum(data.ix[:,1]),size=1000)/np.sum(passenger_miles)\n",
      "    fatal_accidents_pred_b=np.random.poisson((8*10**11)*theta_b)\n",
      "    T_rep_b_1.append(np.mean(fatal_accidents_pred_b))\n",
      "    T_rep_b_2.append(np.std(fatal_accidents_pred_b))\n",
      "    T_rep_b_3.append(np.max(fatal_accidents_pred_b))\n",
      "    T_rep_b_4.append(np.min(fatal_accidents_pred_b))\n",
      "    T_rep_b_5.append(np.percentile(fatal_accidents_pred_b,50))"
     ],
     "language": "python",
     "metadata": {},
     "outputs": [],
     "prompt_number": 74
    },
    {
     "cell_type": "code",
     "collapsed": false,
     "input": [
      "plt.hist(T_rep_b_1)\n",
      "plt.plot([y_bar,y_bar],[0,300],color=\"r\")\n",
      "\n",
      "p_value_b_1=1.*len(np.array(T_rep_b_1)[np.array(T_rep_b_1)>y_bar])/len(T_rep_b_1)\n",
      "print p_value_b_1"
     ],
     "language": "python",
     "metadata": {},
     "outputs": [
      {
       "output_type": "stream",
       "stream": "stdout",
       "text": [
        "1.0\n"
       ]
      },
      {
       "metadata": {},
       "output_type": "display_data",
       "png": "[encoded data removed]",
       "text": [
        "<matplotlib.figure.Figure at 0x107d0110>"
       ]
      }
     ],
     "prompt_number": 75
    },
    {
     "cell_type": "code",
     "collapsed": false,
     "input": [
      "plt.hist(T_rep_b_2)\n",
      "plt.plot([std_of_y,std_of_y],[0,300],color=\"r\")\n",
      "\n",
      "p_value_b_2=1.*len(np.array(T_rep_b_2)[np.array(T_rep_b_2)>std_of_y])/len(T_rep_b_2)\n",
      "print p_value_b_2"
     ],
     "language": "python",
     "metadata": {},
     "outputs": [
      {
       "output_type": "stream",
       "stream": "stdout",
       "text": [
        "1.0\n"
       ]
      },
      {
       "metadata": {},
       "output_type": "display_data",
       "png": "[encoded data removed]",
       "text": [
        "<matplotlib.figure.Figure at 0x109bad90>"
       ]
      }
     ],
     "prompt_number": 76
    },
    {
     "cell_type": "code",
     "collapsed": false,
     "input": [
      "#(2)\n",
      "plt.hist(T_rep_b_3)\n",
      "plt.plot([Max,Max],[0,350],color=\"r\")\n",
      "\n",
      "p_value_b_3=1.*len(np.array(T_rep_b_3)[np.array(T_rep_b_3)>Max])/len(T_rep_b_3)\n",
      "print p_value_b_3"
     ],
     "language": "python",
     "metadata": {},
     "outputs": [
      {
       "output_type": "stream",
       "stream": "stdout",
       "text": [
        "1.0\n"
       ]
      },
      {
       "metadata": {},
       "output_type": "display_data",
       "png": "[encoded data removed]",
       "text": [
        "<matplotlib.figure.Figure at 0x10a105f0>"
       ]
      }
     ],
     "prompt_number": 77
    },
    {
     "cell_type": "code",
     "collapsed": false,
     "input": [
      "plt.hist(T_rep_b_4)\n",
      "plt.plot([Min,Min],[0,350],color=\"r\")\n",
      "#plt.xlim([3,17])\n",
      "\n",
      "p_value_b_4=1.*len(np.array(T_rep_b_4)[np.array(T_rep_b_4)>Min])/len(T_rep_b_4)\n",
      "print p_value_b_4"
     ],
     "language": "python",
     "metadata": {},
     "outputs": [
      {
       "output_type": "stream",
       "stream": "stdout",
       "text": [
        "0.278\n"
       ]
      },
      {
       "metadata": {},
       "output_type": "display_data",
       "png": "[encoded data removed]",
       "text": [
        "<matplotlib.figure.Figure at 0x107e3cd0>"
       ]
      }
     ],
     "prompt_number": 78
    },
    {
     "cell_type": "code",
     "collapsed": false,
     "input": [
      "plt.hist(T_rep_b_5)\n",
      "plt.plot([fifty,fifty],[0,1000],color=\"r\")\n",
      "\n",
      "p_value_b_5=1.*len(np.array(T_rep_b_5)[np.array(T_rep_b_5)>fifty])/len(T_rep_b_5)\n",
      "print p_value_b_5"
     ],
     "language": "python",
     "metadata": {},
     "outputs": [
      {
       "output_type": "stream",
       "stream": "stdout",
       "text": [
        "1.0\n"
       ]
      },
      {
       "metadata": {},
       "output_type": "display_data",
       "png": "[encoded data removed]",
       "text": [
        "<matplotlib.figure.Figure at 0x10a72ef0>"
       ]
      }
     ],
     "prompt_number": 80
    },
    {
     "cell_type": "code",
     "collapsed": false,
     "input": [
      "#for (c) of 2.13\n",
      "#(1)\n",
      "T_rep_c_1=[]\n",
      "T_rep_c_2=[]\n",
      "T_rep_c_3=[]\n",
      "T_rep_c_4=[]\n",
      "T_rep_c_5=[]\n",
      "for n in range(1000):\n",
      "    theta_c=np.random.gamma(np.sum(data.ix[:,2]),size=1000)/len(data)\n",
      "    passenger_deaths_pred=np.random.poisson(theta_c)\n",
      "    T_rep_c_1.append(np.mean(passenger_deaths_pred))\n",
      "    T_rep_c_2.append(np.std(passenger_deaths_pred))\n",
      "    T_rep_c_3.append(np.max(passenger_deaths_pred))\n",
      "    T_rep_c_4.append(np.min(passenger_deaths_pred))\n",
      "    T_rep_c_5.append(np.percentile(passenger_deaths_pred,50))"
     ],
     "language": "python",
     "metadata": {},
     "outputs": [],
     "prompt_number": 87
    },
    {
     "cell_type": "code",
     "collapsed": false,
     "input": [
      "plt.hist(T_rep_c_1)\n",
      "plt.plot([y_bar2,y_bar2],[0,300],color=\"r\")\n",
      "\n",
      "p_value_c_1=1.*len(np.array(T_rep_c_1)[np.array(T_rep_c_1)>y_bar2])/len(T_rep_c_1)\n",
      "print p_value_c_1"
     ],
     "language": "python",
     "metadata": {},
     "outputs": [
      {
       "output_type": "stream",
       "stream": "stdout",
       "text": [
        "0.502\n"
       ]
      },
      {
       "metadata": {},
       "output_type": "display_data",
       "png": "[encoded data removed]",
       "text": [
        "<matplotlib.figure.Figure at 0x10691ff0>"
       ]
      }
     ],
     "prompt_number": 91
    },
    {
     "cell_type": "code",
     "collapsed": false,
     "input": [
      "plt.hist(T_rep_c_2)\n",
      "plt.plot([std_of_y2,std_of_y2],[0,300],color=\"r\")\n",
      "\n",
      "p_value_c_2=1.*len(np.array(T_rep_c_2)[np.array(T_rep_c_2)>std_of_y2])/len(T_rep_c_2)\n",
      "print p_value_c_2"
     ],
     "language": "python",
     "metadata": {},
     "outputs": [
      {
       "output_type": "stream",
       "stream": "stdout",
       "text": [
        "0.0\n"
       ]
      },
      {
       "metadata": {},
       "output_type": "display_data",
       "png": "[encoded data removed]",
       "text": [
        "<matplotlib.figure.Figure at 0x10a0e690>"
       ]
      }
     ],
     "prompt_number": 92
    },
    {
     "cell_type": "code",
     "collapsed": false,
     "input": [
      "#(2)\n",
      "plt.hist(T_rep_c_3)\n",
      "plt.plot([Max2,Max2],[0,350],color=\"r\")\n",
      "\n",
      "p_value_c_3=1.*len(np.array(T_rep_c_3)[np.array(T_rep_c_3)>Max2])/len(T_rep_c_3)\n",
      "print p_value_c_3"
     ],
     "language": "python",
     "metadata": {},
     "outputs": [
      {
       "output_type": "stream",
       "stream": "stdout",
       "text": [
        "0.0\n"
       ]
      },
      {
       "metadata": {},
       "output_type": "display_data",
       "png": "[encoded data removed]",
       "text": [
        "<matplotlib.figure.Figure at 0x109c5af0>"
       ]
      }
     ],
     "prompt_number": 93
    },
    {
     "cell_type": "code",
     "collapsed": false,
     "input": [
      "plt.hist(T_rep_c_4)\n",
      "plt.plot([Min2,Min2],[0,350],color=\"r\")\n",
      "#plt.xlim([3,17])\n",
      "\n",
      "p_value_c_4=1.*len(np.array(T_rep_c_4)[np.array(T_rep_c_4)>Min2])/len(T_rep_c_4)\n",
      "print p_value_c_4"
     ],
     "language": "python",
     "metadata": {},
     "outputs": [
      {
       "output_type": "stream",
       "stream": "stdout",
       "text": [
        "1.0\n"
       ]
      },
      {
       "metadata": {},
       "output_type": "display_data",
       "png": "[encoded data removed]",
       "text": [
        "<matplotlib.figure.Figure at 0x10e86e90>"
       ]
      }
     ],
     "prompt_number": 94
    },
    {
     "cell_type": "code",
     "collapsed": false,
     "input": [
      "plt.hist(T_rep_c_5)\n",
      "plt.plot([fifty2,fifty2],[0,400],color=\"r\")\n",
      "\n",
      "p_value_c_5=1.*len(np.array(T_rep_c_5)[np.array(T_rep_c_5)>fifty2])/len(T_rep_c_5)\n",
      "print p_value_c_5"
     ],
     "language": "python",
     "metadata": {},
     "outputs": [
      {
       "output_type": "stream",
       "stream": "stdout",
       "text": [
        "0.0\n"
       ]
      },
      {
       "metadata": {},
       "output_type": "display_data",
       "png": "[encoded data removed]",
       "text": [
        "<matplotlib.figure.Figure at 0x10d3df30>"
       ]
      }
     ],
     "prompt_number": 96
    },
    {
     "cell_type": "code",
     "collapsed": false,
     "input": [
      "#for (d) of 2.13\n",
      "#(1)\n",
      "T_rep_d_1=[]\n",
      "T_rep_d_2=[]\n",
      "T_rep_d_3=[]\n",
      "T_rep_d_4=[]\n",
      "T_rep_d_5=[]\n",
      "for n in range(1000):\n",
      "    theta_d=np.random.gamma(np.sum(data.ix[:,2]),size=1000)/np.sum(passenger_miles)\n",
      "    passenger_deaths_pred_d=np.random.poisson((8*10**11)*theta_d)\n",
      "    T_rep_d_1.append(np.mean(passenger_deaths_pred_d))\n",
      "    T_rep_d_2.append(np.std(passenger_deaths_pred_d))\n",
      "    T_rep_d_3.append(np.max(passenger_deaths_pred_d))\n",
      "    T_rep_d_4.append(np.min(passenger_deaths_pred_d))\n",
      "    T_rep_d_5.append(np.percentile(passenger_deaths_pred_d,50))"
     ],
     "language": "python",
     "metadata": {},
     "outputs": [],
     "prompt_number": 97
    },
    {
     "cell_type": "code",
     "collapsed": false,
     "input": [
      "plt.hist(T_rep_d_1)\n",
      "plt.plot([y_bar2,y_bar2],[0,300],color=\"r\")\n",
      "\n",
      "p_value_d_1=1.*len(np.array(T_rep_d_1)[np.array(T_rep_d_1)>y_bar2])/len(T_rep_d_1)\n",
      "print p_value_d_1"
     ],
     "language": "python",
     "metadata": {},
     "outputs": [
      {
       "output_type": "stream",
       "stream": "stdout",
       "text": [
        "1.0\n"
       ]
      },
      {
       "metadata": {},
       "output_type": "display_data",
       "png": "[encoded data removed]",
       "text": [
        "<matplotlib.figure.Figure at 0x106b1e70>"
       ]
      }
     ],
     "prompt_number": 98
    },
    {
     "cell_type": "code",
     "collapsed": false,
     "input": [
      "plt.hist(T_rep_d_2)\n",
      "plt.plot([std_of_y2,std_of_y2],[0,300],color=\"r\")\n",
      "\n",
      "p_value_d_2=1.*len(np.array(T_rep_d_2)[np.array(T_rep_d_2)>std_of_y2])/len(T_rep_d_2)\n",
      "print p_value_d_2"
     ],
     "language": "python",
     "metadata": {},
     "outputs": [
      {
       "output_type": "stream",
       "stream": "stdout",
       "text": [
        "0.0\n"
       ]
      },
      {
       "metadata": {},
       "output_type": "display_data",
       "png": "[encoded data removed]",
       "text": [
        "<matplotlib.figure.Figure at 0x10a10390>"
       ]
      }
     ],
     "prompt_number": 99
    },
    {
     "cell_type": "code",
     "collapsed": false,
     "input": [
      "#(2)\n",
      "plt.hist(T_rep_d_3)\n",
      "plt.plot([Max2,Max2],[0,350],color=\"r\")\n",
      "\n",
      "p_value_d_3=1.*len(np.array(T_rep_d_3)[np.array(T_rep_d_3)>Max2])/len(T_rep_d_3)\n",
      "print p_value_d_3"
     ],
     "language": "python",
     "metadata": {},
     "outputs": [
      {
       "output_type": "stream",
       "stream": "stdout",
       "text": [
        "0.844\n"
       ]
      },
      {
       "metadata": {},
       "output_type": "display_data",
       "png": "[encoded data removed]",
       "text": [
        "<matplotlib.figure.Figure at 0x10a65270>"
       ]
      }
     ],
     "prompt_number": 100
    },
    {
     "cell_type": "code",
     "collapsed": false,
     "input": [
      "plt.hist(T_rep_d_4)\n",
      "plt.plot([Min2,Min2],[0,350],color=\"r\")\n",
      "#plt.xlim([3,17])\n",
      "\n",
      "p_value_d_4=1.*len(np.array(T_rep_d_4)[np.array(T_rep_d_4)>Min2])/len(T_rep_d_4)\n",
      "print p_value_d_4"
     ],
     "language": "python",
     "metadata": {},
     "outputs": [
      {
       "output_type": "stream",
       "stream": "stdout",
       "text": [
        "1.0\n"
       ]
      },
      {
       "metadata": {},
       "output_type": "display_data",
       "png": "[encoded data removed]",
       "text": [
        "<matplotlib.figure.Figure at 0x109950b0>"
       ]
      }
     ],
     "prompt_number": 101
    },
    {
     "cell_type": "code",
     "collapsed": false,
     "input": [
      "plt.hist(T_rep_d_5)\n",
      "plt.plot([fifty2,fifty2],[0,400],color=\"r\")\n",
      "\n",
      "p_value_d_5=1.*len(np.array(T_rep_d_5)[np.array(T_rep_d_5)>fifty2])/len(T_rep_d_5)\n",
      "print p_value_d_5"
     ],
     "language": "python",
     "metadata": {},
     "outputs": [
      {
       "output_type": "stream",
       "stream": "stdout",
       "text": [
        "1.0\n"
       ]
      },
      {
       "metadata": {},
       "output_type": "display_data",
       "png": "[encoded data removed]",
       "text": [
        "<matplotlib.figure.Figure at 0x109e38d0>"
       ]
      }
     ],
     "prompt_number": 102
    },
    {
     "cell_type": "code",
     "collapsed": false,
     "input": [
      "#Because of above, the conclusion that I did in Exercise 2.13(e) may be wrong, that is, this Poisson model is \"partialy fit to data\" but different from\n",
      "# the observed data."
     ],
     "language": "python",
     "metadata": {},
     "outputs": []
    }
   ],
   "metadata": {}
  }
 ]
}