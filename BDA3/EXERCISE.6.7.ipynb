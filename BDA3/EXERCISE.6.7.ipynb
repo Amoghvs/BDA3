{
 "metadata": {
  "name": "",
  "signature": "sha256:42a69cc96299379e7a93751021ea9354eb23a534883f2a5f7d7448b276e4d397"
 },
 "nbformat": 3,
 "nbformat_minor": 0,
 "worksheets": [
  {
   "cells": [
    {
     "cell_type": "code",
     "collapsed": false,
     "input": [
      "%matplotlib inline\n",
      "import numpy as np\n",
      "import scipy as sp\n",
      "from scipy import stats\n",
      "import matplotlib.pyplot as plt\n",
      "import sklearn\n",
      "import pandas as pd\n",
      "from pandas import DataFrame, Series\n",
      "from numpy import nan as NA"
     ],
     "language": "python",
     "metadata": {},
     "outputs": [],
     "prompt_number": 1
    },
    {
     "cell_type": "code",
     "collapsed": false,
     "input": [
      "#(a)\n",
      "T_y=[]\n",
      "for i in range(1000):\n",
      "    theta=np.random.normal(5.1,np.sqrt(1./100))\n",
      "    y_rep=np.random.normal(theta,1,100)\n",
      "    T_y.append(np.max(np.abs(y_rep)))"
     ],
     "language": "python",
     "metadata": {},
     "outputs": [],
     "prompt_number": 6
    },
    {
     "cell_type": "code",
     "collapsed": false,
     "input": [
      "plt.hist(T_y)\n",
      "plt.plot([8.1,8.1],[0,300],color=\"r\")\n",
      "\n",
      "p_value=1.*len(np.array(T_y)[np.array(T_y)>8.1])/len(T_y)\n",
      "print p_value "
     ],
     "language": "python",
     "metadata": {},
     "outputs": [
      {
       "output_type": "stream",
       "stream": "stdout",
       "text": [
        "0.129\n"
       ]
      },
      {
       "metadata": {},
       "output_type": "display_data",
       "png": "[encoded data removed]",
       "text": [
        "<matplotlib.figure.Figure at 0xc1be7b0>"
       ]
      }
     ],
     "prompt_number": 15
    },
    {
     "cell_type": "code",
     "collapsed": false,
     "input": [
      "#(b)\n",
      "T_y_b=[]\n",
      "for i in range(1000):\n",
      "    theta_b=np.random.uniform(-10**5,10**5)\n",
      "    y_rep_b=np.random.normal(theta_b,1,size=100)\n",
      "    T_y_b.append(np.max(np.abs(y_rep_b)))\n",
      "\n",
      "plt.hist(T_y_b)\n",
      "p_value_b=1.*len(np.array(T_y_b)[np.array(T_y_b)>8.1])/len(T_y_b)\n",
      "print p_value_b "
     ],
     "language": "python",
     "metadata": {},
     "outputs": [
      {
       "output_type": "stream",
       "stream": "stdout",
       "text": [
        "1.0\n"
       ]
      },
      {
       "metadata": {},
       "output_type": "display_data",
       "png": "[encoded data removed]",
       "text": [
        "<matplotlib.figure.Figure at 0xc079630>"
       ]
      }
     ],
     "prompt_number": 16
    },
    {
     "cell_type": "code",
     "collapsed": false,
     "input": [],
     "language": "python",
     "metadata": {},
     "outputs": []
    }
   ],
   "metadata": {}
  }
 ]
}