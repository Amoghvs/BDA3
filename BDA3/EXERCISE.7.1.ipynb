{
 "metadata": {
  "name": "",
  "signature": "sha256:9c25c2b032536fef6744556e07619af2b853e59af93ebe5a6c55d992aec808e2"
 },
 "nbformat": 3,
 "nbformat_minor": 0,
 "worksheets": [
  {
   "cells": [
    {
     "cell_type": "code",
     "collapsed": false,
     "input": [
      "%matplotlib inline\n",
      "import numpy as np\n",
      "import scipy as sp\n",
      "from scipy import stats\n",
      "import matplotlib.pyplot as plt\n",
      "import sklearn\n",
      "import pandas as pd\n",
      "from pandas import DataFrame, Series\n",
      "from numpy import nan as NA"
     ],
     "language": "python",
     "metadata": {},
     "outputs": [],
     "prompt_number": 1
    },
    {
     "cell_type": "code",
     "collapsed": false,
     "input": [
      "data=DataFrame(np.array([[-0.86,-0.30,-0.05,0.73],[5,5,5,5],[0,1,3,5]]),index=[\"Dose\",\"Number of animals\",\"Number of deaths\"]).T\n",
      "print data"
     ],
     "language": "python",
     "metadata": {},
     "outputs": [
      {
       "output_type": "stream",
       "stream": "stdout",
       "text": [
        "   Dose  Number of animals  Number of deaths\n",
        "0 -0.86                  5                 0\n",
        "1 -0.30                  5                 1\n",
        "2 -0.05                  5                 3\n",
        "3  0.73                  5                 5\n"
       ]
      }
     ],
     "prompt_number": 2
    },
    {
     "cell_type": "code",
     "collapsed": false,
     "input": [
      "def invlogit(alpha,beta,x):\n",
      "    invlogit=np.exp(alpha+beta*x)/(1+np.exp(alpha+beta*x))\n",
      "    return invlogit\n",
      "    \n",
      "def posterior(alpha,beta,y,n,x):\n",
      "    posterior_dens=[]\n",
      "    for i in range(len(alpha)):\n",
      "        grid=[]\n",
      "        for j in range(len(beta)):\n",
      "            A=1.0\n",
      "            for k in range(len(x)):\n",
      "                A=A*np.power(invlogit(alpha[i],beta[j],x[k]),y[k])*np.power(1-invlogit(alpha[i],beta[j],x[k]),n[k]-y[k])\n",
      "            grid.append(A)\n",
      "        posterior_dens.append(grid)\n",
      "    return posterior_dens\n",
      "    \n",
      "def summ(x):\n",
      "    percentile=np.percentile(x,[2.5,25,50,75,97.5]).tolist()\n",
      "    summ=[np.mean(x),np.std(x)]\n",
      "    summ.extend(percentile)\n",
      "    summ=DataFrame(summ,index=[\"mean\",\"sd\",\"2.5%\",\"25%\",\"50%\",\"75%\",\"97.5%\"],columns=[\"info\"]).T\n",
      "    return summ"
     ],
     "language": "python",
     "metadata": {},
     "outputs": [],
     "prompt_number": 3
    },
    {
     "cell_type": "code",
     "collapsed": false,
     "input": [
      "alphagrid=np.linspace(-4,10,400)\n",
      "betagrid=np.linspace(-10,40,400)\n",
      "contours_1=np.arange(0.05,1.0,0.05)\n",
      "contours_1=contours_1.tolist()\n",
      "contours=[0.0001,0.001,0.01]\n",
      "contours.extend(contours_1)\n",
      "dens=posterior(alphagrid,betagrid,np.array(data.ix[:,2]),np.array(data.ix[:,1]),np.array(data.ix[:,0]))"
     ],
     "language": "python",
     "metadata": {},
     "outputs": [],
     "prompt_number": 4
    },
    {
     "cell_type": "code",
     "collapsed": false,
     "input": [
      "plt.contour(alphagrid,betagrid,DataFrame(dens).T)\n",
      "plt.xlabel(\"alpha\")\n",
      "plt.ylabel(\"beta\")"
     ],
     "language": "python",
     "metadata": {},
     "outputs": [
      {
       "metadata": {},
       "output_type": "pyout",
       "prompt_number": 5,
       "text": [
        "<matplotlib.text.Text at 0xc412d10>"
       ]
      },
      {
       "metadata": {},
       "output_type": "display_data",
       "png": "[encoded data removed]",
       "text": [
        "<matplotlib.figure.Figure at 0xc400550>"
       ]
      }
     ],
     "prompt_number": 5
    },
    {
     "cell_type": "code",
     "collapsed": false,
     "input": [
      "alpha_dens=DataFrame(dens).T\n",
      "beta_dens=DataFrame(dens,index=alphagrid).T\n",
      "\n",
      "alpha=np.random.choice(np.array(alphagrid),p=np.array(np.sum(alpha_dens))/np.sum(np.sum(alpha_dens)),size=400)\n",
      "beta=[]\n",
      "for i in range(len(alpha)):\n",
      "    beta.append(np.random.choice(np.array(betagrid),p=np.array(beta_dens[alpha[i]])/np.sum(beta_dens[alpha[i]])))\n",
      "    \n",
      "alpha=alpha+np.random.uniform(-0.5,0.5,len(alpha))\n",
      "beta=np.array(beta)+np.random.uniform(-0.5,0.5,len(beta))"
     ],
     "language": "python",
     "metadata": {},
     "outputs": [],
     "prompt_number": 6
    },
    {
     "cell_type": "code",
     "collapsed": false,
     "input": [
      "plt.scatter(alpha,beta)\n",
      "plt.xlabel(\"alpha\")\n",
      "plt.ylabel(\"beta\")\n",
      "plt.xlim([-4,10])\n",
      "plt.ylim([-10,40])"
     ],
     "language": "python",
     "metadata": {},
     "outputs": [
      {
       "metadata": {},
       "output_type": "pyout",
       "prompt_number": 7,
       "text": [
        "(-10, 40)"
       ]
      },
      {
       "metadata": {},
       "output_type": "display_data",
       "png": "[encoded data removed]",
       "text": [
        "<matplotlib.figure.Figure at 0xc412870>"
       ]
      }
     ],
     "prompt_number": 7
    },
    {
     "cell_type": "code",
     "collapsed": false,
     "input": [
      "print summ(alpha)\n",
      "print summ(beta)"
     ],
     "language": "python",
     "metadata": {},
     "outputs": [
      {
       "output_type": "stream",
       "stream": "stdout",
       "text": [
        "          mean        sd     2.5%       25%       50%       75%    97.5%\n",
        "info  1.251487  1.229507 -0.84674  0.534034  1.146549  1.913337  3.69376\n",
        "           mean        sd      2.5%       25%        50%        75%     97.5%\n",
        "info  11.196432  5.834217  2.964178  7.093661  10.084999  14.121652  25.50363\n"
       ]
      }
     ],
     "prompt_number": 8
    },
    {
     "cell_type": "code",
     "collapsed": false,
     "input": [
      "maximum=np.max(np.max(dens))\n",
      "for i in range(len(dens)):\n",
      "    for j in range(len(dens)):\n",
      "        if dens[i][j]==maximum:\n",
      "            num=[i,j]\n",
      "            break"
     ],
     "language": "python",
     "metadata": {},
     "outputs": [],
     "prompt_number": 25
    },
    {
     "cell_type": "code",
     "collapsed": false,
     "input": [
      "print alphagrid[num[0]]\n",
      "print betagrid[num[1]]"
     ],
     "language": "python",
     "metadata": {},
     "outputs": [
      {
       "output_type": "stream",
       "stream": "stdout",
       "text": [
        "0.842105263158\n",
        "7.79448621554\n"
       ]
      }
     ],
     "prompt_number": 26
    },
    {
     "cell_type": "code",
     "collapsed": false,
     "input": [
      "y=data.ix[:,2]\n",
      "n=data.ix[:,1]\n",
      "x=data.ix[:,0]\n",
      "\n",
      "def AIC(alpha,beta,y,n,x):\n",
      "    A=0.0\n",
      "    for k in range(len(x)):\n",
      "        A=A+sp.stats.binom.logpmf(y[k],n[k],invlogit(alpha,beta,x[k]))\n",
      "    A=-2*(A-2)\n",
      "    return A\n",
      "\n",
      "def DIC(alpha,beta,y,n,x):\n",
      "    A=0.0\n",
      "    B=0.0\n",
      "    for k in range(len(x)):\n",
      "        A=A+sp.stats.binom.logpmf(y[k],n[k],invlogit(np.mean(alpha),np.mean(beta),x[k]))\n",
      "        B=B+np.mean(sp.stats.binom.logpmf(y[k],n[k],invlogit(alpha,beta,x[k])))\n",
      "    p_dic=2*(A-B)\n",
      "    DIC=-2*(A-p_dic)\n",
      "    return [DIC,p_dic]\n",
      "\n",
      "def WAIC(alpha,beta,y,n,x):\n",
      "    lppd=0.0\n",
      "    B=0.0\n",
      "    p_waic2=0.0\n",
      "    for k in range(len(x)):\n",
      "        lppd=lppd+np.log(np.mean(sp.stats.binom.pmf(y[k],n[k],invlogit(alpha,beta,x[k]))))\n",
      "        B=B+np.mean(sp.stats.binom.logpmf(y[k],n[k],invlogit(alpha,beta,x[k])))\n",
      "        p_waic2=p_waic2+np.var(sp.stats.binom.logpmf(y[k],n[k],invlogit(alpha,beta,x[k])))\n",
      "    p_waic1=2*(lppd-B)\n",
      "    WAIC1=-2*(lppd-p_waic1)\n",
      "    WAIC2=-2*(lppd-p_waic2)\n",
      "    return [[WAIC1,p_waic1],[WAIC2,p_waic2,]]\n",
      "\n",
      "def LOO_CV(alphagrid,betagrid,y,n,x):\n",
      "    lppd_loo_cv=0.0\n",
      "    for k in range(len(x)):\n",
      "        y=np.array(y)\n",
      "        n=np.array(n)\n",
      "        x=np.array(x)\n",
      "        y_i=y\n",
      "        n_i=n\n",
      "        x_i=x\n",
      "        y_i=np.delete(y,k)\n",
      "        n_i=np.delete(n,k)\n",
      "        x_i=np.delete(x,k)\n",
      "\n",
      "        dens=posterior(alphagrid,betagrid,np.array(y_i),np.array(n_i),np.array(x_i))\n",
      "        \n",
      "        alpha_dens=DataFrame(dens).T\n",
      "        beta_dens=DataFrame(dens,index=alphagrid).T\n",
      "\n",
      "        alpha=np.random.choice(np.array(alphagrid),p=np.array(np.sum(alpha_dens))/np.sum(np.sum(alpha_dens)),size=400)\n",
      "        beta=[]\n",
      "        for i in range(len(alpha)):\n",
      "            beta.append(np.random.choice(np.array(betagrid),p=np.array(beta_dens[alpha[i]])/np.sum(beta_dens[alpha[i]])))\n",
      "        \n",
      "        alpha=alpha+np.random.uniform(-0.5,0.5,len(alpha))\n",
      "        beta=np.array(beta)+np.random.uniform(-0.5,0.5,len(beta))\n",
      "        \n",
      "        lppd_loo_cv=lppd_loo_cv+np.log(np.mean(sp.stats.binom.pmf(y[k],n[k],invlogit(alpha,beta,x[k]))))\n",
      "        \n",
      "    return -2*lppd_loo_cv"
     ],
     "language": "python",
     "metadata": {},
     "outputs": [],
     "prompt_number": 122
    },
    {
     "cell_type": "code",
     "collapsed": false,
     "input": [
      "print AIC(alphagrid[num[0]],betagrid[num[1]],y,n,x)\n",
      "print DIC(alpha,beta,y,n,x)\n",
      "print WAIC(alpha,beta,y,n,x)\n",
      "print LOO_CV(alphagrid,betagrid,y,n,x)"
     ],
     "language": "python",
     "metadata": {},
     "outputs": [
      {
       "output_type": "stream",
       "stream": "stdout",
       "text": [
        "7.9651743929\n",
        "[8.4289368589990019, 2.0308171705255749]\n",
        "[[7.289650691307874, 0.89153100283444608], [9.1149260446103426, 1.8041686794856806]]\n",
        "10.0318060268"
       ]
      },
      {
       "output_type": "stream",
       "stream": "stdout",
       "text": [
        "\n"
       ]
      }
     ],
     "prompt_number": 123
    },
    {
     "cell_type": "code",
     "collapsed": false,
     "input": [],
     "language": "python",
     "metadata": {},
     "outputs": []
    }
   ],
   "metadata": {}
  }
 ]
}