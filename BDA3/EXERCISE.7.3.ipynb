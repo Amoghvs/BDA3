{
 "metadata": {
  "name": "",
  "signature": "sha256:50db61e38e65ca608e3e06446b19550cd113b3f99fe0aa15857cc712dd5ea46e"
 },
 "nbformat": 3,
 "nbformat_minor": 0,
 "worksheets": [
  {
   "cells": [
    {
     "cell_type": "code",
     "collapsed": false,
     "input": [
      "%matplotlib inline\n",
      "import numpy as np\n",
      "import scipy as sp\n",
      "from scipy import stats\n",
      "import matplotlib.pyplot as plt\n",
      "import sklearn\n",
      "import pandas as pd\n",
      "from pandas import DataFrame, Series\n",
      "from numpy import nan as NA"
     ],
     "language": "python",
     "metadata": {},
     "outputs": [],
     "prompt_number": 1
    },
    {
     "cell_type": "code",
     "collapsed": false,
     "input": [
      "data=DataFrame([[1,2,3,4,5,6,7,8,9,10,11,12,13,14,15,16,17,18,19,20,21,22],\n",
      "                [3,14,11,127,27,6,152,48,37,188,52,47,16,45,31,38,12,6,3,40,43,39],\n",
      "                [39,116,93,1520,365,52,939,471,282,1921,583,266,293,883,147,213,122,154,134,218,364,674],\n",
      "                [3,7,5,102,28,4,98,60,25,138,64,45,9,57,25,33,28,8,6,32,27,22],\n",
      "                [38,114,69,1533,355,59,945,632,278,1916,873,263,291,858,154,207,251,151,174,209,391,680]],\n",
      "               index=[\"Study j\",\"Control(deaths)\",\"Control(total)\",\"Treated(deaths)\",\"Treated(total)\"]).T"
     ],
     "language": "python",
     "metadata": {},
     "outputs": [],
     "prompt_number": 2
    },
    {
     "cell_type": "code",
     "collapsed": false,
     "input": [
      "data=DataFrame.append(data.T,Series(np.log(data.ix[:,3]/(data.ix[:,4]-data.ix[:,3]))-np.log(data.ix[:,1]/(data.ix[:,2]-data.ix[:,1])),name=\"Log odds, y_j\")).T\n",
      "data=DataFrame.append(data.T,np.sqrt(Series(1./data.ix[:,3]+1./(data.ix[:,4]-data.ix[:,3])+1./data.ix[:,1]+1./(data.ix[:,2]-data.ix[:,1]),name=\"sd, sigma_j\"))).T"
     ],
     "language": "python",
     "metadata": {},
     "outputs": [],
     "prompt_number": 3
    },
    {
     "cell_type": "code",
     "collapsed": false,
     "input": [
      "print data"
     ],
     "language": "python",
     "metadata": {},
     "outputs": [
      {
       "output_type": "stream",
       "stream": "stdout",
       "text": [
        "    Study j  Control(deaths)  Control(total)  Treated(deaths)  Treated(total)  \\\n",
        "0         1                3              39                3              38   \n",
        "1         2               14             116                7             114   \n",
        "2         3               11              93                5              69   \n",
        "3         4              127            1520              102            1533   \n",
        "4         5               27             365               28             355   \n",
        "5         6                6              52                4              59   \n",
        "6         7              152             939               98             945   \n",
        "7         8               48             471               60             632   \n",
        "8         9               37             282               25             278   \n",
        "9        10              188            1921              138            1916   \n",
        "10       11               52             583               64             873   \n",
        "11       12               47             266               45             263   \n",
        "12       13               16             293                9             291   \n",
        "13       14               45             883               57             858   \n",
        "14       15               31             147               25             154   \n",
        "15       16               38             213               33             207   \n",
        "16       17               12             122               28             251   \n",
        "17       18                6             154                8             151   \n",
        "18       19                3             134                6             174   \n",
        "19       20               40             218               32             209   \n",
        "20       21               43             364               27             391   \n",
        "21       22               39             674               22             680   \n",
        "\n",
        "    Log odds, y_j  sd, sigma_j  \n",
        "0        0.028171     0.850303  \n",
        "1       -0.741003     0.483152  \n",
        "2       -0.540621     0.564561  \n",
        "3       -0.246128     0.138183  \n",
        "4        0.069453     0.280656  \n",
        "5       -0.584157     0.675713  \n",
        "6       -0.512385     0.138688  \n",
        "7       -0.078623     0.203991  \n",
        "8       -0.424173     0.273973  \n",
        "9       -0.334823     0.117068  \n",
        "10      -0.213398     0.194872  \n",
        "11      -0.038908     0.229461  \n",
        "12      -0.593254     0.425167  \n",
        "13       0.281546     0.205445  \n",
        "14      -0.321334     0.297709  \n",
        "15      -0.135348     0.260922  \n",
        "16       0.140606     0.364174  \n",
        "17       0.322050     0.552645  \n",
        "18       0.444381     0.716649  \n",
        "19      -0.217510     0.259842  \n",
        "20      -0.591076     0.257207  \n",
        "21      -0.608099     0.272379  \n"
       ]
      }
     ],
     "prompt_number": 4
    },
    {
     "cell_type": "code",
     "collapsed": false,
     "input": [
      "y=data.ix[:,5]\n",
      "sigma=data.ix[:,6]"
     ],
     "language": "python",
     "metadata": {},
     "outputs": [],
     "prompt_number": 34
    },
    {
     "cell_type": "code",
     "collapsed": false,
     "input": [
      "def mu_hat(y,sigma,tau):\n",
      "    J=len(y)\n",
      "    value1=0.0\n",
      "    value2=0.0\n",
      "    for j in range(J):\n",
      "        value1=value1+1./(sigma[j]**2+tau**2)*y[j]\n",
      "        value2=value2+1./(sigma[j]**2+tau**2)\n",
      "    return value1/value2\n",
      "        \n",
      "def V_mu(sigma,tau):\n",
      "    J=len(sigma)\n",
      "    value=0.0\n",
      "    for j in range(J):\n",
      "        value=value+1./(sigma[j]**2+tau**2)\n",
      "    return 1./value\n",
      "\n",
      "def p_of_tau(y,sigma,tau):\n",
      "    J=len(y)\n",
      "    value=1.0\n",
      "    for j in range(J):\n",
      "        value=value*np.power(sigma[j]**2+tau**2,-0.5)*np.exp(-((y[j]-mu_hat(y,sigma,tau))**2)/(2*(sigma[j]**2+tau**2)))\n",
      "    return np.sqrt(V_mu(sigma,tau))*value\n",
      "\n",
      "def MH(y,sigma,N):\n",
      "    mcmc=[]\n",
      "    para2=np.random.uniform(0.1,0.2)\n",
      "    for n in range(N):\n",
      "        para1=para2+np.random.uniform(-0.2,0.2)\n",
      "        u=np.random.uniform()\n",
      "        ratio=p_of_tau(y,sigma,para1)/p_of_tau(y,sigma,para2)\n",
      "        if ratio>1:\n",
      "            mcmc.append(para1)\n",
      "        elif ratio>u:\n",
      "            mcmc.append(para1)\n",
      "    return np.array(mcmc)[np.array(mcmc)>=0]\n",
      "            "
     ],
     "language": "python",
     "metadata": {},
     "outputs": [],
     "prompt_number": 6
    },
    {
     "cell_type": "code",
     "collapsed": false,
     "input": [
      "tau=MH(y,sigma,2000)"
     ],
     "language": "python",
     "metadata": {},
     "outputs": [],
     "prompt_number": 7
    },
    {
     "cell_type": "code",
     "collapsed": false,
     "input": [
      "plt.plot(tau)"
     ],
     "language": "python",
     "metadata": {},
     "outputs": [
      {
       "metadata": {},
       "output_type": "pyout",
       "prompt_number": 8,
       "text": [
        "[<matplotlib.lines.Line2D at 0xca9cc30>]"
       ]
      },
      {
       "metadata": {},
       "output_type": "display_data",
       "png": "[encoded data removed]",
       "text": [
        "<matplotlib.figure.Figure at 0xca0a4b0>"
       ]
      }
     ],
     "prompt_number": 8
    },
    {
     "cell_type": "code",
     "collapsed": false,
     "input": [
      "plt.hist(tau,bins=50)"
     ],
     "language": "python",
     "metadata": {},
     "outputs": [
      {
       "metadata": {},
       "output_type": "pyout",
       "prompt_number": 9,
       "text": [
        "(array([ 15.,  19.,  20.,  24.,  20.,  28.,  32.,  23.,  37.,  17.,  24.,\n",
        "         26.,  40.,  35.,  25.,  48.,  26.,  38.,  26.,  33.,  38.,  36.,\n",
        "         41.,  24.,  37.,  27.,  24.,  28.,  24.,  15.,  23.,  21.,  13.,\n",
        "         18.,  15.,  18.,  20.,  13.,  11.,   6.,   6.,   7.,   5.,   6.,\n",
        "          7.,   5.,   9.,   6.,   3.,   2.]),\n",
        " array([  4.60130389e-05,   6.58988048e-03,   1.31337479e-02,\n",
        "          1.96776154e-02,   2.62214828e-02,   3.27653502e-02,\n",
        "          3.93092177e-02,   4.58530851e-02,   5.23969525e-02,\n",
        "          5.89408200e-02,   6.54846874e-02,   7.20285549e-02,\n",
        "          7.85724223e-02,   8.51162897e-02,   9.16601572e-02,\n",
        "          9.82040246e-02,   1.04747892e-01,   1.11291759e-01,\n",
        "          1.17835627e-01,   1.24379494e-01,   1.30923362e-01,\n",
        "          1.37467229e-01,   1.44011097e-01,   1.50554964e-01,\n",
        "          1.57098832e-01,   1.63642699e-01,   1.70186566e-01,\n",
        "          1.76730434e-01,   1.83274301e-01,   1.89818169e-01,\n",
        "          1.96362036e-01,   2.02905904e-01,   2.09449771e-01,\n",
        "          2.15993639e-01,   2.22537506e-01,   2.29081373e-01,\n",
        "          2.35625241e-01,   2.42169108e-01,   2.48712976e-01,\n",
        "          2.55256843e-01,   2.61800711e-01,   2.68344578e-01,\n",
        "          2.74888445e-01,   2.81432313e-01,   2.87976180e-01,\n",
        "          2.94520048e-01,   3.01063915e-01,   3.07607783e-01,\n",
        "          3.14151650e-01,   3.20695518e-01,   3.27239385e-01]),\n",
        " <a list of 50 Patch objects>)"
       ]
      },
      {
       "metadata": {},
       "output_type": "display_data",
       "png": "[encoded data removed]",
       "text": [
        "<matplotlib.figure.Figure at 0xca82670>"
       ]
      }
     ],
     "prompt_number": 9
    },
    {
     "cell_type": "code",
     "collapsed": false,
     "input": [
      "mu=np.random.normal(mu_hat(y,sigma,tau),np.sqrt(V_mu(sigma,tau)))"
     ],
     "language": "python",
     "metadata": {},
     "outputs": [],
     "prompt_number": 11
    },
    {
     "cell_type": "code",
     "collapsed": false,
     "input": [
      "def Expectation_of_theta_j(y,sigma,tau):\n",
      "    J=len(y)\n",
      "    value=[]\n",
      "    for j in range(J):\n",
      "        value.append((tau**2*y[j]+sigma[j]**2*mu_hat(y,sigma,tau))/(sigma[j]**2+tau**2))\n",
      "    return value\n",
      "\n",
      "def std_of_theta_j(y,sigma,tau):\n",
      "    J=len(y)\n",
      "    value=[]\n",
      "    for j in range(J):\n",
      "        value.append(sigma[j]**2*tau**2/(sigma[j]**2+tau**2)+(sigma[j]**2/(sigma[j]**2+tau**2))**2*V_mu(sigma,tau))\n",
      "    return np.sqrt(value)"
     ],
     "language": "python",
     "metadata": {},
     "outputs": [],
     "prompt_number": 12
    },
    {
     "cell_type": "code",
     "collapsed": false,
     "input": [
      "E_of_theta_j=Expectation_of_theta_j(y,sigma,rang)\n",
      "std_of_theta_j=std_of_theta_j(y,sigma,rang)"
     ],
     "language": "python",
     "metadata": {},
     "outputs": [],
     "prompt_number": 13
    },
    {
     "cell_type": "code",
     "collapsed": false,
     "input": [
      "def theta_j_hat(y,sigma,mu,tau):\n",
      "    return (tau**2*y+sigma**2*mu)/(tau**2+sigma**2)\n",
      "\n",
      "def V_j(sigma,tau):\n",
      "    J=len(sigma)\n",
      "    value=[]\n",
      "    for j in range(J):\n",
      "        value.append(sigma[j]**2*tau**2/(sigma[j]**2+tau**2))\n",
      "    return value\n",
      "        \n",
      "\n",
      "def sampling_theta_j(y,sigma,mu,tau):\n",
      "    theta_j_sim=[]\n",
      "    for j in range(len(y)):\n",
      "        value=[]\n",
      "        for i in range(len(tau)):\n",
      "            value.append(np.random.normal(theta_j_hat(y[j],sigma[j],mu,tau)[i],np.sqrt(V_j(sigma,tau)[j][i])))\n",
      "        theta_j_sim.append(value)\n",
      "    return theta_j_sim\n",
      "\n",
      "theta_j_sim=sampling_theta_j(y,sigma,mu,tau)"
     ],
     "language": "python",
     "metadata": {},
     "outputs": [],
     "prompt_number": 79
    },
    {
     "cell_type": "code",
     "collapsed": false,
     "input": [
      "def summ(x,label):\n",
      "    percentile=np.percentile(x,[2.5,25,50,75,97.5]).tolist()\n",
      "    summ=[np.mean(x),np.std(x)]\n",
      "    summ.extend(percentile)\n",
      "    summ=DataFrame(summ,index=[\"mean\",\"sd\",\"2.5%\",\"25%\",\"50%\",\"75%\",\"97.5%\"],columns=[label]).T\n",
      "    return summ\n",
      "\n",
      "for j in range(len(data)):\n",
      "    print summ(theta_j_sim[j],data.ix[j,0])"
     ],
     "language": "python",
     "metadata": {},
     "outputs": [
      {
       "output_type": "stream",
       "stream": "stdout",
       "text": [
        "       mean        sd      2.5%       25%       50%       75%     97.5%\n",
        "1 -0.239174  0.157236 -0.547335 -0.326101 -0.241944 -0.163583  0.093317\n",
        "       mean        sd      2.5%       25%       50%       75%     97.5%\n",
        "2 -0.285071  0.148707 -0.605156 -0.365481 -0.273546 -0.207139  0.027633\n",
        "       mean        sd      2.5%       25%       50%       75%     97.5%\n",
        "3 -0.271387  0.144041 -0.593241 -0.347717 -0.261893 -0.191978  0.002363\n",
        "       mean        sd      2.5%       25%       50%       75%     97.5%\n",
        "4 -0.251265  0.099654 -0.449346 -0.311754 -0.252974 -0.191161 -0.049016\n",
        "       mean        sd      2.5%       25%       50%      75%     97.5%\n",
        "5 -0.184027  0.141472 -0.410436 -0.276344 -0.205144 -0.11164  0.155302\n",
        "       mean        sd      2.5%       25%       50%       75%     97.5%\n",
        "6 -0.262251  0.152829 -0.585875 -0.344703 -0.258989 -0.180256  0.047365\n",
        "      mean        sd     2.5%       25%       50%       75%     97.5%\n",
        "7 -0.36097  0.106705 -0.58057 -0.432877 -0.356075 -0.278815 -0.177638\n",
        "       mean        sd      2.5%      25%       50%       75%     97.5%\n",
        "8 -0.198323  0.123425 -0.419756 -0.27565 -0.208341 -0.130121  0.091698\n",
        "       mean        sd      2.5%       25%       50%       75%     97.5%\n",
        "9 -0.282381  0.135788 -0.572311 -0.356777 -0.269608 -0.203213 -0.019747\n",
        "        mean        sd      2.5%       25%       50%       75%     97.5%\n",
        "10 -0.287462  0.087223 -0.467116 -0.346111 -0.280518 -0.227873 -0.122895\n",
        "        mean        sd      2.5%       25%       50%       75%     97.5%\n",
        "11 -0.243681  0.112695 -0.470165 -0.307508 -0.245621 -0.177593 -0.011894\n",
        "        mean        sd      2.5%       25%       50%       75%     97.5%\n",
        "12 -0.195922  0.126691 -0.418213 -0.277564 -0.210759 -0.123206  0.101306"
       ]
      },
      {
       "output_type": "stream",
       "stream": "stdout",
       "text": [
        "\n",
        "        mean        sd     2.5%       25%       50%      75%    97.5%\n",
        "13 -0.285435  0.145104 -0.58765 -0.365474 -0.274213 -0.20414 -0.01027\n",
        "        mean        sd      2.5%       25%       50%       75%     97.5%\n",
        "14 -0.094222  0.164458 -0.339409 -0.216623 -0.120243  0.008836  0.274191\n",
        "        mean        sd    2.5%       25%       50%       75%     97.5%\n",
        "15 -0.263092  0.130519 -0.5632 -0.332748 -0.261692 -0.184792  0.005125\n",
        "        mean        sd      2.5%       25%      50%       75%     97.5%\n",
        "16 -0.230752  0.125484 -0.470949 -0.306017 -0.23617 -0.158316  0.029179\n",
        "        mean        sd      2.5%       25%       50%      75%     97.5%\n",
        "17 -0.194867  0.151976 -0.444209 -0.289111 -0.218141 -0.12619  0.179976\n",
        "        mean        sd      2.5%       25%       50%       75%     97.5%\n",
        "18 -0.199009  0.169572 -0.474316 -0.297297 -0.218691 -0.124734  0.227651\n",
        "        mean        sd      2.5%       25%       50%       75%     97.5%\n",
        "19 -0.219338  0.164954 -0.543447 -0.309952 -0.233695 -0.139395  0.161215\n",
        "        mean       sd      2.5%       25%       50%       75%     97.5%\n",
        "20 -0.244735  0.12554 -0.497698 -0.320614 -0.247069 -0.175024  0.039092\n",
        "        mean        sd      2.5%       25%       50%       75%     97.5%\n",
        "21 -0.325188  0.138544 -0.656791 -0.395531 -0.311249 -0.237864 -0.088137"
       ]
      },
      {
       "output_type": "stream",
       "stream": "stdout",
       "text": [
        "\n",
        "        mean        sd    2.5%       25%       50%       75%     97.5%\n",
        "22 -0.311814  0.132348 -0.6199 -0.385836 -0.300035 -0.228414 -0.073094\n"
       ]
      }
     ],
     "prompt_number": 18
    },
    {
     "cell_type": "code",
     "collapsed": false,
     "input": [
      "print summ(mu,\"mu\")\n",
      "print summ(tau,\"tau\")"
     ],
     "language": "python",
     "metadata": {},
     "outputs": [
      {
       "output_type": "stream",
       "stream": "stdout",
       "text": [
        "        mean        sd      2.5%       25%      50%       75%     97.5%\n",
        "mu -0.246404  0.062908 -0.369255 -0.287804 -0.24599 -0.207646 -0.115809\n",
        "        mean        sd     2.5%       25%       50%       75%     97.5%\n",
        "tau  0.13049  0.074264  0.01068  0.073944  0.126206  0.179866  0.291809\n"
       ]
      }
     ],
     "prompt_number": 19
    },
    {
     "cell_type": "code",
     "collapsed": false,
     "input": [
      "def AIC(y,theta,sigma,param):\n",
      "    A=0.0\n",
      "    for k in range(len(y)):\n",
      "        A=A+sp.stats.norm.logpdf(y[k],theta[k],sigma[k])\n",
      "    A=-2*(A-param)\n",
      "    return A\n",
      "\n",
      "def DIC(y,theta,sigma):\n",
      "    A=0.0\n",
      "    B=0.0\n",
      "    for k in range(len(x)):\n",
      "        A=A+sp.stats.norm.logpdf(y[k],np.mean(theta[k]),sigma[k])\n",
      "        B=B+np.mean(sp.stats.norm.logpdf(y[k],theta[k],sigma[k]))\n",
      "    p_dic=2*(A-B)\n",
      "    DIC=-2*(A-p_dic)\n",
      "    return [DIC,p_dic]\n",
      "\n",
      "def WAIC(y,theta,sigma):\n",
      "    lppd=0.0\n",
      "    B=0.0\n",
      "    p_waic2=0.0\n",
      "    for k in range(len(x)):\n",
      "        lppd=lppd+np.log(np.mean(sp.stats.norm.pdf(y[k],theta[k],sigma[k])))\n",
      "        B=B+np.mean(sp.stats.norm.logpdf(y[k],theta[k],sigma[k]))\n",
      "        p_waic2=p_waic2+np.var(sp.stats.norm.logpdf(y[k],theta[k],sigma[k]))\n",
      "    p_waic1=2*(lppd-B)\n",
      "    WAIC1=-2*(lppd-p_waic1)\n",
      "    WAIC2=-2*(lppd-p_waic2)\n",
      "    return [[WAIC1,p_waic1],[WAIC2,p_waic2,]]\n",
      "\n",
      "def LOO_CV_pooling(y,sigma):\n",
      "    lppd_loo_cv=0.0\n",
      "    for k in range(len(y)):\n",
      "        y=np.array(y)\n",
      "        sigma=np.array(sigma)\n",
      "        y_i=y\n",
      "        sigma_i=sigma\n",
      "        y_i=np.delete(y,k)\n",
      "        sigma_i=np.delete(sigma,k)\n",
      "        \n",
      "        theta=np.random.normal(np.mean(y_i),1.*np.sqrt(np.sum(sigma_i))/len(sigma_i),size=400)\n",
      "        \n",
      "        lppd_loo_cv=lppd_loo_cv+np.log(np.mean(sp.stats.norm.pdf(y[k],theta,sigma[k])))\n",
      "        \n",
      "    return -2*lppd_loo_cv\n",
      "\n",
      "def LOO_CV_hierarchical(y,sigma):\n",
      "    lppd_loo_cv=0.0\n",
      "    for k in range(len(y)):\n",
      "        y=np.array(y)\n",
      "        sigma=np.array(sigma)\n",
      "        y_i=y\n",
      "        sigma_i=sigma\n",
      "        y_i=np.delete(y_i,k)\n",
      "        sigma_i=np.delete(sigma_i,k)\n",
      "        \n",
      "        tau=MH(y_i,sigma_i,2000)\n",
      "        mu=np.random.normal(mu_hat(y_i,sigma_i,tau),np.sqrt(V_mu(sigma_i,tau)))\n",
      "        theta=sampling_theta_j(y_i,sigma_i,mu,tau)\n",
      "        \n",
      "        lppd_loo_cv=lppd_loo_cv+np.log(np.mean(sp.stats.norm.pdf(y[k],theta,sigma[k])))\n",
      "        \n",
      "    return -2*lppd_loo_cv"
     ],
     "language": "python",
     "metadata": {},
     "outputs": [],
     "prompt_number": 77
    },
    {
     "cell_type": "code",
     "collapsed": false,
     "input": [
      "theta_mle=[]\n",
      "theta_pooling=[]\n",
      "theta_pooling_i=np.random.normal(np.mean(y),1.*np.sqrt(np.sum(sigma))/len(sigma),size=400).tolist()\n",
      "for j in range(len(y)):\n",
      "    theta_mle.append(np.mean(y))\n",
      "    theta_pooling.append(theta_pooling_i)\n",
      "    \n",
      "theta_no_pooling=[]\n",
      "for j in range(len(y)):\n",
      "    theta_no_pooling.append(np.random.normal(y[j],sigma[j],size=400).tolist())"
     ],
     "language": "python",
     "metadata": {},
     "outputs": [],
     "prompt_number": 68
    },
    {
     "cell_type": "code",
     "collapsed": false,
     "input": [
      "#pooling\n",
      "print AIC(y,theta_mle,sigma,1)\n",
      "print AIC(y,theta_mle,sigma,1)\n",
      "print WAIC(y,theta_pooling,sigma)\n",
      "print LOO_CV_pooling(y,sigma)"
     ],
     "language": "python",
     "metadata": {},
     "outputs": [
      {
       "output_type": "stream",
       "stream": "stdout",
       "text": [
        "13.9475430696\n",
        "13.9475430696\n",
        "[[26.405184007434254, 7.5722945413535534], [35.426853969767848, 12.083129522520352]]\n",
        "12.8854238478"
       ]
      },
      {
       "output_type": "stream",
       "stream": "stdout",
       "text": [
        "\n"
       ]
      }
     ],
     "prompt_number": 69
    },
    {
     "cell_type": "code",
     "collapsed": false,
     "input": [
      "#no pooling\n",
      "print AIC(y,y,sigma,len(y))\n",
      "print AIC(y,y,sigma,len(y))\n",
      "print WAIC(y,theta_no_pooling,sigma)"
     ],
     "language": "python",
     "metadata": {},
     "outputs": [
      {
       "output_type": "stream",
       "stream": "stdout",
       "text": [
        "32.1314584811\n",
        "32.1314584811\n",
        "[[17.436003085336907, 6.9196854495072184], [26.058919932351717, 11.231143873014624]]\n"
       ]
      }
     ],
     "prompt_number": 70
    },
    {
     "cell_type": "code",
     "collapsed": false,
     "input": [
      "#hierarchical\n",
      "print DIC(y,theta_j_sim,sigma)\n",
      "print WAIC(y,theta_j_sim,sigma)\n",
      "print LOO_CV_hierarchical(y,sigma)"
     ],
     "language": "python",
     "metadata": {},
     "outputs": [
      {
       "output_type": "stream",
       "stream": "stdout",
       "text": [
        "[13.29086151306055, 5.7371219218295524]\n",
        "[[11.215912829111399, 3.6621732378804026], [13.219626407045558, 4.6640300268474819]]\n",
        "13.8769667597"
       ]
      },
      {
       "output_type": "stream",
       "stream": "stdout",
       "text": [
        "\n"
       ]
      }
     ],
     "prompt_number": 80
    },
    {
     "cell_type": "code",
     "collapsed": false,
     "input": [],
     "language": "python",
     "metadata": {},
     "outputs": []
    }
   ],
   "metadata": {}
  }
 ]
}