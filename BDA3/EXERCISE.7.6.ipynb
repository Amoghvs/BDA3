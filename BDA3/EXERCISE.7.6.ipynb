{
 "metadata": {
  "name": "",
  "signature": "sha256:c7163755ce0f5e8be637cb6e927a0aab81a79347bc25edb91a11949719e3422f"
 },
 "nbformat": 3,
 "nbformat_minor": 0,
 "worksheets": [
  {
   "cells": [
    {
     "cell_type": "code",
     "collapsed": false,
     "input": [
      "%matplotlib inline\n",
      "import numpy as np\n",
      "import scipy as sp\n",
      "from scipy import stats\n",
      "import matplotlib.pyplot as plt\n",
      "import sklearn\n",
      "import pandas as pd\n",
      "from pandas import DataFrame, Series\n",
      "from numpy import nan as NA"
     ],
     "language": "python",
     "metadata": {},
     "outputs": [],
     "prompt_number": 1
    },
    {
     "cell_type": "code",
     "collapsed": false,
     "input": [
      "data=DataFrame([[5.0,13.0,7.2,6.8,12.8,5.8,9.5,6.0,3.8,14.3,1.8,6.9,4.7,9.5],\n",
      "                [0.9,12.9,2.6,3.5,26.6,1.5,13.0,8.8,19.5,2.5,9.0,13.1,3.6,6.9],\n",
      "                [14.3,6.9,7.6,9.8,2.6,43.5,4.9,3.5,4.8,5.6,3.5,3.9,6.7]],\n",
      "                index=[\"Blue Earth\",\"Clay\",\"Goodhue\"]).T"
     ],
     "language": "python",
     "metadata": {},
     "outputs": [],
     "prompt_number": 7
    },
    {
     "cell_type": "code",
     "collapsed": false,
     "input": [
      "y=data.ix[:,0]\n",
      "\n",
      "def summ(x):\n",
      "    percentile=np.percentile(x,[2.5,25,50,75,97.5]).tolist()\n",
      "    summ=[np.mean(x),np.std(x),np.min(x),np.max(x)]\n",
      "    summ.extend(percentile)\n",
      "    summ=DataFrame(summ,index=[\"mean\",\"sd\",\"min\",\"max\",\"2.5%\",\"25%\",\"50%\",\"75%\",\"97.5%\"],columns=[\"info\"]).T\n",
      "    return summ"
     ],
     "language": "python",
     "metadata": {},
     "outputs": [],
     "prompt_number": 231
    },
    {
     "cell_type": "code",
     "collapsed": false,
     "input": [
      "def p_phy(y,phy):\n",
      "    n=len(y)\n",
      "    if phy==0.0:\n",
      "        y_phy=np.log(y)\n",
      "        return np.power(1./2*(np.sum(np.square(y_phy))-n*np.square(np.mean(y_phy))),-1.*(n-1)/2)*np.power(np.prod(y),-1.*(n-1)/n)\n",
      "    else:\n",
      "        y_phy=1.*(np.power(y,phy)-1)/phy\n",
      "        return np.power(1./2*(np.sum(np.square(y_phy))-n*np.square(np.mean(y_phy))),-1.*(n-1)/2)*np.power(np.prod(y),1.*(phy-1)*(n-1)/n)\n",
      "    \n",
      "def IG(y,phy):\n",
      "    n=len(y)\n",
      "    if phy==0.0:\n",
      "        y_phy=np.log(y)\n",
      "#        return sp.stats.invgamma.rvs(a=1.*(n-1)/2,scale=1./2*(np.sum(np.square(y_phy))-n*np.square(np.mean(y_phy))))\n",
      "        return sp.stats.invgamma.rvs(a=1.*(n-1)/2)/(1./2*(np.sum(np.square(y_phy))-n*np.square(np.mean(y_phy))))\n",
      "    else:\n",
      "        y_phy=1.*(np.power(y,phy)-1)/phy\n",
      "#        return sp.stats.invgamma.rvs(a=1.*(n-1)/2,scale=1./2*(np.sum(np.square(y_phy))-n*np.square(np.mean(y_phy))))\n",
      "        return sp.stats.invgamma.rvs(a=1.*(n-1)/2)/(1./2*(np.sum(np.square(y_phy))-n*np.square(np.mean(y_phy))))\n",
      "\n",
      "def Norm(y,phy,sigma2):\n",
      "    n=len(y)\n",
      "    if phy==0.0:\n",
      "        y_phy=np.log(y)\n",
      "        return np.random.normal(np.mean(y_phy),np.sqrt(1.*sigma2/n))\n",
      "    else:\n",
      "        y_phy=1.*(np.power(y,phy)-1)/phy\n",
      "        return np.random.normal(np.mean(y_phy),np.sqrt(1.*sigma2/n))"
     ],
     "language": "python",
     "metadata": {},
     "outputs": [],
     "prompt_number": 178
    },
    {
     "cell_type": "code",
     "collapsed": false,
     "input": [
      "rang=np.round(np.arange(-5,5,00.1),3)\n",
      "a=[]\n",
      "for i in range(len(rang)):\n",
      "    a.append(p_phy(y,rang[i]))\n",
      "plt.plot(rang,a)"
     ],
     "language": "python",
     "metadata": {},
     "outputs": [
      {
       "metadata": {},
       "output_type": "pyout",
       "prompt_number": 179,
       "text": [
        "[<matplotlib.lines.Line2D at 0x120ae830>]"
       ]
      },
      {
       "metadata": {},
       "output_type": "display_data",
       "png": "[encoded data removed]",
       "text": [
        "<matplotlib.figure.Figure at 0x12085350>"
       ]
      }
     ],
     "prompt_number": 179
    },
    {
     "cell_type": "code",
     "collapsed": false,
     "input": [
      "prod=[]\n",
      "for i in range(len(rang)):\n",
      "    prod.append(p_phy(y,rang[i]))\n",
      "prod=prod/np.sum(prod)\n",
      "\n",
      "phy_sim=np.random.choice(rang,p=prod,size=1000)"
     ],
     "language": "python",
     "metadata": {},
     "outputs": [],
     "prompt_number": 180
    },
    {
     "cell_type": "code",
     "collapsed": false,
     "input": [
      "summ(phy_sim)"
     ],
     "language": "python",
     "metadata": {},
     "outputs": [
      {
       "html": [
        "<div style=\"max-height:1000px;max-width:1500px;overflow:auto;\">\n",
        "<table border=\"1\" class=\"dataframe\">\n",
        "  <thead>\n",
        "    <tr style=\"text-align: right;\">\n",
        "      <th></th>\n",
        "      <th>mean</th>\n",
        "      <th>sd</th>\n",
        "      <th>2.5%</th>\n",
        "      <th>25%</th>\n",
        "      <th>50%</th>\n",
        "      <th>75%</th>\n",
        "      <th>97.5%</th>\n",
        "    </tr>\n",
        "  </thead>\n",
        "  <tbody>\n",
        "    <tr>\n",
        "      <th>info</th>\n",
        "      <td> 0.5512</td>\n",
        "      <td> 0.508703</td>\n",
        "      <td>-0.4</td>\n",
        "      <td> 0.2</td>\n",
        "      <td> 0.5</td>\n",
        "      <td> 0.9</td>\n",
        "      <td> 1.7</td>\n",
        "    </tr>\n",
        "  </tbody>\n",
        "</table>\n",
        "</div>"
       ],
       "metadata": {},
       "output_type": "pyout",
       "prompt_number": 181,
       "text": [
        "        mean        sd  2.5%  25%  50%  75%  97.5%\n",
        "info  0.5512  0.508703  -0.4  0.2  0.5  0.9    1.7"
       ]
      }
     ],
     "prompt_number": 181
    },
    {
     "cell_type": "code",
     "collapsed": false,
     "input": [
      "1.*len(phy_sim[phy_sim==0])/1000"
     ],
     "language": "python",
     "metadata": {},
     "outputs": [
      {
       "metadata": {},
       "output_type": "pyout",
       "prompt_number": 182,
       "text": [
        "0.056"
       ]
      }
     ],
     "prompt_number": 182
    },
    {
     "cell_type": "code",
     "collapsed": false,
     "input": [
      "sigma2=[]\n",
      "mu=[]\n",
      "for i in range(len(phy_sim)):\n",
      "    sigma2.append(IG(y,phy_sim[i]))\n",
      "    mu.append(Norm(y,phy_sim[i],sigma2[i]))"
     ],
     "language": "python",
     "metadata": {},
     "outputs": [],
     "prompt_number": 183
    },
    {
     "cell_type": "code",
     "collapsed": false,
     "input": [
      "summ(sigma2)"
     ],
     "language": "python",
     "metadata": {},
     "outputs": [
      {
       "html": [
        "<div style=\"max-height:1000px;max-width:1500px;overflow:auto;\">\n",
        "<table border=\"1\" class=\"dataframe\">\n",
        "  <thead>\n",
        "    <tr style=\"text-align: right;\">\n",
        "      <th></th>\n",
        "      <th>mean</th>\n",
        "      <th>sd</th>\n",
        "      <th>2.5%</th>\n",
        "      <th>25%</th>\n",
        "      <th>50%</th>\n",
        "      <th>75%</th>\n",
        "      <th>97.5%</th>\n",
        "    </tr>\n",
        "  </thead>\n",
        "  <tbody>\n",
        "    <tr>\n",
        "      <th>info</th>\n",
        "      <td> 0.054067</td>\n",
        "      <td> 0.280679</td>\n",
        "      <td> 0.000086</td>\n",
        "      <td> 0.003148</td>\n",
        "      <td> 0.01153</td>\n",
        "      <td> 0.04072</td>\n",
        "      <td> 0.299217</td>\n",
        "    </tr>\n",
        "  </tbody>\n",
        "</table>\n",
        "</div>"
       ],
       "metadata": {},
       "output_type": "pyout",
       "prompt_number": 184,
       "text": [
        "          mean        sd      2.5%       25%      50%      75%     97.5%\n",
        "info  0.054067  0.280679  0.000086  0.003148  0.01153  0.04072  0.299217"
       ]
      }
     ],
     "prompt_number": 184
    },
    {
     "cell_type": "code",
     "collapsed": false,
     "input": [
      "summ(mu)"
     ],
     "language": "python",
     "metadata": {},
     "outputs": [
      {
       "html": [
        "<div style=\"max-height:1000px;max-width:1500px;overflow:auto;\">\n",
        "<table border=\"1\" class=\"dataframe\">\n",
        "  <thead>\n",
        "    <tr style=\"text-align: right;\">\n",
        "      <th></th>\n",
        "      <th>mean</th>\n",
        "      <th>sd</th>\n",
        "      <th>2.5%</th>\n",
        "      <th>25%</th>\n",
        "      <th>50%</th>\n",
        "      <th>75%</th>\n",
        "      <th>97.5%</th>\n",
        "    </tr>\n",
        "  </thead>\n",
        "  <tbody>\n",
        "    <tr>\n",
        "      <th>info</th>\n",
        "      <td> 5.000092</td>\n",
        "      <td> 5.382082</td>\n",
        "      <td> 1.284039</td>\n",
        "      <td> 2.37122</td>\n",
        "      <td> 3.393293</td>\n",
        "      <td> 5.74568</td>\n",
        "      <td> 20.521409</td>\n",
        "    </tr>\n",
        "  </tbody>\n",
        "</table>\n",
        "</div>"
       ],
       "metadata": {},
       "output_type": "pyout",
       "prompt_number": 185,
       "text": [
        "          mean        sd      2.5%      25%       50%      75%      97.5%\n",
        "info  5.000092  5.382082  1.284039  2.37122  3.393293  5.74568  20.521409"
       ]
      }
     ],
     "prompt_number": 185
    },
    {
     "cell_type": "code",
     "collapsed": false,
     "input": [
      "y_rep=np.random.normal(mu,np.sqrt(sigma2))"
     ],
     "language": "python",
     "metadata": {},
     "outputs": [],
     "prompt_number": 186
    },
    {
     "cell_type": "code",
     "collapsed": false,
     "input": [
      "summ(y_rep)"
     ],
     "language": "python",
     "metadata": {},
     "outputs": [
      {
       "html": [
        "<div style=\"max-height:1000px;max-width:1500px;overflow:auto;\">\n",
        "<table border=\"1\" class=\"dataframe\">\n",
        "  <thead>\n",
        "    <tr style=\"text-align: right;\">\n",
        "      <th></th>\n",
        "      <th>mean</th>\n",
        "      <th>sd</th>\n",
        "      <th>2.5%</th>\n",
        "      <th>25%</th>\n",
        "      <th>50%</th>\n",
        "      <th>75%</th>\n",
        "      <th>97.5%</th>\n",
        "    </tr>\n",
        "  </thead>\n",
        "  <tbody>\n",
        "    <tr>\n",
        "      <th>info</th>\n",
        "      <td> 5.012678</td>\n",
        "      <td> 5.377098</td>\n",
        "      <td> 1.197811</td>\n",
        "      <td> 2.449184</td>\n",
        "      <td> 3.432753</td>\n",
        "      <td> 5.700712</td>\n",
        "      <td> 20.513968</td>\n",
        "    </tr>\n",
        "  </tbody>\n",
        "</table>\n",
        "</div>"
       ],
       "metadata": {},
       "output_type": "pyout",
       "prompt_number": 187,
       "text": [
        "          mean        sd      2.5%       25%       50%       75%      97.5%\n",
        "info  5.012678  5.377098  1.197811  2.449184  3.432753  5.700712  20.513968"
       ]
      }
     ],
     "prompt_number": 187
    },
    {
     "cell_type": "code",
     "collapsed": false,
     "input": [
      "plt.hist(y_rep,bins=50)"
     ],
     "language": "python",
     "metadata": {},
     "outputs": [
      {
       "metadata": {},
       "output_type": "pyout",
       "prompt_number": 188,
       "text": [
        "(array([ 104.,  371.,  187.,  140.,   77.,   34.,   24.,    0.,   13.,\n",
        "          14.,    0.,    7.,    0.,   11.,    0.,    0.,    6.,    0.,\n",
        "           0.,    5.,    0.,    0.,    0.,    3.,    0.,    0.,    0.,\n",
        "           0.,    2.,    0.,    0.,    0.,    0.,    1.,    0.,    0.,\n",
        "           0.,    0.,    0.,    0.,    0.,    0.,    0.,    0.,    0.,\n",
        "           0.,    0.,    0.,    0.,    1.]),\n",
        " array([  0.35253025,   1.84812752,   3.34372479,   4.83932206,\n",
        "          6.33491933,   7.83051659,   9.32611386,  10.82171113,\n",
        "         12.3173084 ,  13.81290567,  15.30850294,  16.80410021,\n",
        "         18.29969748,  19.79529474,  21.29089201,  22.78648928,\n",
        "         24.28208655,  25.77768382,  27.27328109,  28.76887836,\n",
        "         30.26447563,  31.76007289,  33.25567016,  34.75126743,\n",
        "         36.2468647 ,  37.74246197,  39.23805924,  40.73365651,\n",
        "         42.22925378,  43.72485104,  45.22044831,  46.71604558,\n",
        "         48.21164285,  49.70724012,  51.20283739,  52.69843466,\n",
        "         54.19403193,  55.68962919,  57.18522646,  58.68082373,\n",
        "         60.176421  ,  61.67201827,  63.16761554,  64.66321281,\n",
        "         66.15881008,  67.65440735,  69.15000461,  70.64560188,\n",
        "         72.14119915,  73.63679642,  75.13239369]),\n",
        " <a list of 50 Patch objects>)"
       ]
      },
      {
       "metadata": {},
       "output_type": "display_data",
       "png": "[encoded data removed]",
       "text": [
        "<matplotlib.figure.Figure at 0x12186170>"
       ]
      }
     ],
     "prompt_number": 188
    },
    {
     "cell_type": "code",
     "collapsed": false,
     "input": [
      "#fitting to three country\n",
      "y_three=[5.0,13.0,7.2,6.8,12.8,5.8,9.5,6.0,3.8,14.3,1.8,6.9,4.7,9.5,\n",
      "         0.9,12.9,2.6,3.5,26.6,1.5,13.0,8.8,19.5,2.5,9.0,13.1,3.6,6.9,\n",
      "         14.3,6.9,7.6,9.8,2.6,43.5,4.9,3.5,4.8,5.6,3.5,3.9,6.7]\n",
      "\n",
      "y1=data.ix[:,0]\n",
      "y2=data.ix[:,1]\n",
      "y3=data.ix[:,2][:-1]"
     ],
     "language": "python",
     "metadata": {},
     "outputs": [],
     "prompt_number": 259
    },
    {
     "cell_type": "code",
     "collapsed": false,
     "input": [
      "rang=np.round(np.arange(-5,5,00.1),3)\n",
      "dens=[]\n",
      "for i in range(len(rang)):\n",
      "    dens.append(p_phy(y_three,rang[i]))\n",
      "plt.plot(rang,dens)"
     ],
     "language": "python",
     "metadata": {},
     "outputs": [
      {
       "metadata": {},
       "output_type": "pyout",
       "prompt_number": 260,
       "text": [
        "[<matplotlib.lines.Line2D at 0x1292c710>]"
       ]
      },
      {
       "metadata": {},
       "output_type": "display_data",
       "png": "[encoded data removed]",
       "text": [
        "<matplotlib.figure.Figure at 0x12793290>"
       ]
      }
     ],
     "prompt_number": 260
    },
    {
     "cell_type": "code",
     "collapsed": false,
     "input": [
      "prod_three=[]\n",
      "for i in range(len(rang)):\n",
      "    prod_three.append(p_phy(y_three,rang[i]))\n",
      "prod_three=prod_three/np.sum(prod_three)\n",
      "\n",
      "phy_three=np.random.choice(rang,p=prod_three,size=1000)"
     ],
     "language": "python",
     "metadata": {},
     "outputs": [],
     "prompt_number": 262
    },
    {
     "cell_type": "code",
     "collapsed": false,
     "input": [
      "summ(phy_three)"
     ],
     "language": "python",
     "metadata": {},
     "outputs": [
      {
       "html": [
        "<div style=\"max-height:1000px;max-width:1500px;overflow:auto;\">\n",
        "<table border=\"1\" class=\"dataframe\">\n",
        "  <thead>\n",
        "    <tr style=\"text-align: right;\">\n",
        "      <th></th>\n",
        "      <th>mean</th>\n",
        "      <th>sd</th>\n",
        "      <th>min</th>\n",
        "      <th>max</th>\n",
        "      <th>2.5%</th>\n",
        "      <th>25%</th>\n",
        "      <th>50%</th>\n",
        "      <th>75%</th>\n",
        "      <th>97.5%</th>\n",
        "    </tr>\n",
        "  </thead>\n",
        "  <tbody>\n",
        "    <tr>\n",
        "      <th>info</th>\n",
        "      <td> 0.0275</td>\n",
        "      <td> 0.15727</td>\n",
        "      <td>-0.5</td>\n",
        "      <td> 0.5</td>\n",
        "      <td>-0.3</td>\n",
        "      <td>-0.1</td>\n",
        "      <td> 0</td>\n",
        "      <td> 0.1</td>\n",
        "      <td> 0.3</td>\n",
        "    </tr>\n",
        "  </tbody>\n",
        "</table>\n",
        "</div>"
       ],
       "metadata": {},
       "output_type": "pyout",
       "prompt_number": 263,
       "text": [
        "        mean       sd  min  max  2.5%  25%  50%  75%  97.5%\n",
        "info  0.0275  0.15727 -0.5  0.5  -0.3 -0.1    0  0.1    0.3"
       ]
      }
     ],
     "prompt_number": 263
    },
    {
     "cell_type": "code",
     "collapsed": false,
     "input": [
      "1.*len(phy_three[phy_three==0])/len(phy_three)"
     ],
     "language": "python",
     "metadata": {},
     "outputs": [
      {
       "metadata": {},
       "output_type": "pyout",
       "prompt_number": 265,
       "text": [
        "0.23"
       ]
      }
     ],
     "prompt_number": 265
    },
    {
     "cell_type": "code",
     "collapsed": false,
     "input": [
      "sigma2_1=[]\n",
      "sigma2_2=[]\n",
      "sigma2_3=[]\n",
      "mu_1=[]\n",
      "mu_2=[]\n",
      "mu_3=[]\n",
      "for i in range(len(phy_three)):\n",
      "    sigma2_1.append(IG(y1,phy_three[i]))\n",
      "    sigma2_2.append(IG(y2,phy_three[i]))\n",
      "    sigma2_3.append(IG(y3,phy_three[i]))\n",
      "    mu_1.append(Norm(y1,phy_three[i],sigma2_1[i]))\n",
      "    mu_2.append(Norm(y2,phy_three[i],sigma2_2[i]))\n",
      "    mu_3.append(Norm(y3,phy_three[i],sigma2_3[i]))"
     ],
     "language": "python",
     "metadata": {},
     "outputs": [],
     "prompt_number": 266
    },
    {
     "cell_type": "code",
     "collapsed": false,
     "input": [
      "y_phy_rep_1=np.random.normal(mu_1,np.sqrt(sigma2_1))\n",
      "y_phy_rep_2=np.random.normal(mu_2,np.sqrt(sigma2_2))\n",
      "y_phy_rep_3=np.random.normal(mu_3,np.sqrt(sigma2_3))\n",
      "\n",
      "y_rep_1=[]\n",
      "y_rep_2=[]\n",
      "y_rep_3=[]\n",
      "\n",
      "for i in range(len(phy_three)):\n",
      "    if phy_three[i]==0.0:\n",
      "        y_rep_1.append(np.exp(y_phy_rep_1[i]))\n",
      "        y_rep_2.append(np.exp(y_phy_rep_2[i]))\n",
      "        y_rep_3.append(np.exp(y_phy_rep_3[i]))\n",
      "        \n",
      "    else:\n",
      "        y_rep_1.append(np.power(y_phy_rep_1[i]*phy_three[i]+1,1./phy_three[i]))\n",
      "        y_rep_2.append(np.power(y_phy_rep_2[i]*phy_three[i]+1,1./phy_three[i]))\n",
      "        y_rep_3.append(np.power(y_phy_rep_3[i]*phy_three[i]+1,1./phy_three[i]))"
     ],
     "language": "python",
     "metadata": {},
     "outputs": [],
     "prompt_number": 270
    },
    {
     "cell_type": "code",
     "collapsed": false,
     "input": [
      "print summ(y_rep_1)\n",
      "print summ(y_rep_2)\n",
      "print summ(y_rep_3)"
     ],
     "language": "python",
     "metadata": {},
     "outputs": [
      {
       "output_type": "stream",
       "stream": "stdout",
       "text": [
        "          mean        sd       min         max      2.5%       25%       50%  \\\n",
        "info  7.418451  4.655266  0.880026  103.337442  3.023611  5.756969  6.888242   \n",
        "\n",
        "           75%      97.5%  \n",
        "info  8.122996  14.323438  \n",
        "          mean        sd       min       max      2.5%      25%       50%  \\\n",
        "info  6.161696  1.392148  1.858821  19.69916  3.527767  5.47572  6.143705   \n",
        "\n",
        "           75%     97.5%  \n",
        "info  6.789735  9.012166  \n",
        "          mean        sd       min        max      2.5%       25%       50%  \\\n",
        "info  6.995788  3.864949  1.340988  92.692521  3.366528  5.711548  6.704285   \n",
        "\n",
        "           75%      97.5%  \n",
        "info  7.527363  12.776757  \n"
       ]
      }
     ],
     "prompt_number": 271
    },
    {
     "cell_type": "code",
     "collapsed": false,
     "input": [
      "print summ(y1)\n",
      "print summ(y2)\n",
      "print summ(y3)"
     ],
     "language": "python",
     "metadata": {},
     "outputs": [
      {
       "output_type": "stream",
       "stream": "stdout",
       "text": [
        "      mean        sd  min   max  2.5%  25%   50%  75%    97.5%\n",
        "info  7.65  3.571864  1.8  14.3  2.45  5.2  6.85  9.5  13.8775\n",
        "          mean        sd  min   max   2.5%    25%   50%     75%    97.5%\n",
        "info  8.885714  7.254443  0.9  26.6  1.095  2.825  7.85  12.975  24.2925\n",
        "          mean         sd  min   max  2.5%  25%  50%  75%  97.5%\n",
        "info  9.046154  10.392646  2.6  43.5  2.87  3.9  5.6  7.6  34.74\n"
       ]
      }
     ],
     "prompt_number": 272
    },
    {
     "cell_type": "code",
     "collapsed": false,
     "input": [
      "#(d) fitting a lognormal model\n",
      "sigma2_lognorm=[]\n",
      "mu_lognorm=[]\n",
      "for i in range(1000):\n",
      "    sigma2_lognorm.append(IG(y_three,0))\n",
      "    mu_lognorm.append(Norm(y_three,0,sigma2[i]))"
     ],
     "language": "python",
     "metadata": {},
     "outputs": [],
     "prompt_number": 235
    },
    {
     "cell_type": "code",
     "collapsed": false,
     "input": [
      "y_rep_lognorm=np.random.normal(mu_lognorm,np.sqrt(sigma2_lognorm))\n",
      "y_rep_three=np.exp(y_rep_lognorm)"
     ],
     "language": "python",
     "metadata": {},
     "outputs": [],
     "prompt_number": 240
    },
    {
     "cell_type": "code",
     "collapsed": false,
     "input": [
      "summ(y_rep_three)"
     ],
     "language": "python",
     "metadata": {},
     "outputs": [
      {
       "html": [
        "<div style=\"max-height:1000px;max-width:1500px;overflow:auto;\">\n",
        "<table border=\"1\" class=\"dataframe\">\n",
        "  <thead>\n",
        "    <tr style=\"text-align: right;\">\n",
        "      <th></th>\n",
        "      <th>mean</th>\n",
        "      <th>sd</th>\n",
        "      <th>min</th>\n",
        "      <th>max</th>\n",
        "      <th>2.5%</th>\n",
        "      <th>25%</th>\n",
        "      <th>50%</th>\n",
        "      <th>75%</th>\n",
        "      <th>97.5%</th>\n",
        "    </tr>\n",
        "  </thead>\n",
        "  <tbody>\n",
        "    <tr>\n",
        "      <th>info</th>\n",
        "      <td> 6.400184</td>\n",
        "      <td> 0.486953</td>\n",
        "      <td> 4.591656</td>\n",
        "      <td> 8.764514</td>\n",
        "      <td> 5.485772</td>\n",
        "      <td> 6.072601</td>\n",
        "      <td> 6.396141</td>\n",
        "      <td> 6.704007</td>\n",
        "      <td> 7.381874</td>\n",
        "    </tr>\n",
        "  </tbody>\n",
        "</table>\n",
        "</div>"
       ],
       "metadata": {},
       "output_type": "pyout",
       "prompt_number": 241,
       "text": [
        "          mean        sd       min       max      2.5%       25%       50%  \\\n",
        "info  6.400184  0.486953  4.591656  8.764514  5.485772  6.072601  6.396141   \n",
        "\n",
        "           75%     97.5%  \n",
        "info  6.704007  7.381874  "
       ]
      }
     ],
     "prompt_number": 241
    },
    {
     "cell_type": "code",
     "collapsed": false,
     "input": [
      "summ(y_three)"
     ],
     "language": "python",
     "metadata": {},
     "outputs": [
      {
       "html": [
        "<div style=\"max-height:1000px;max-width:1500px;overflow:auto;\">\n",
        "<table border=\"1\" class=\"dataframe\">\n",
        "  <thead>\n",
        "    <tr style=\"text-align: right;\">\n",
        "      <th></th>\n",
        "      <th>mean</th>\n",
        "      <th>sd</th>\n",
        "      <th>min</th>\n",
        "      <th>max</th>\n",
        "      <th>2.5%</th>\n",
        "      <th>25%</th>\n",
        "      <th>50%</th>\n",
        "      <th>75%</th>\n",
        "      <th>97.5%</th>\n",
        "    </tr>\n",
        "  </thead>\n",
        "  <tbody>\n",
        "    <tr>\n",
        "      <th>info</th>\n",
        "      <td> 8.514634</td>\n",
        "      <td> 7.547494</td>\n",
        "      <td> 0.9</td>\n",
        "      <td> 43.5</td>\n",
        "      <td> 1.5</td>\n",
        "      <td> 3.8</td>\n",
        "      <td> 6.8</td>\n",
        "      <td> 9.8</td>\n",
        "      <td> 26.6</td>\n",
        "    </tr>\n",
        "  </tbody>\n",
        "</table>\n",
        "</div>"
       ],
       "metadata": {},
       "output_type": "pyout",
       "prompt_number": 242,
       "text": [
        "          mean        sd  min   max  2.5%  25%  50%  75%  97.5%\n",
        "info  8.514634  7.547494  0.9  43.5   1.5  3.8  6.8  9.8   26.6"
       ]
      }
     ],
     "prompt_number": 242
    },
    {
     "cell_type": "code",
     "collapsed": false,
     "input": [],
     "language": "python",
     "metadata": {},
     "outputs": []
    }
   ],
   "metadata": {}
  }
 ]
}