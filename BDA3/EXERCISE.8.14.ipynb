{
 "metadata": {
  "name": "",
  "signature": "sha256:4411f77ece2a78b83680f39eb472e8841cc03723ac3d65ab866ca55658ea0439"
 },
 "nbformat": 3,
 "nbformat_minor": 0,
 "worksheets": [
  {
   "cells": [
    {
     "cell_type": "code",
     "collapsed": false,
     "input": [
      "%matplotlib inline\n",
      "import numpy as np\n",
      "import scipy as sp\n",
      "from scipy import stats\n",
      "import matplotlib.pyplot as plt\n",
      "import sklearn\n",
      "import pandas as pd\n",
      "from pandas import DataFrame, Series\n",
      "from numpy import nan as NA"
     ],
     "language": "python",
     "metadata": {},
     "outputs": [],
     "prompt_number": 1
    },
    {
     "cell_type": "code",
     "collapsed": false,
     "input": [
      "def summ(x):\n",
      "    percentile=np.percentile(x,[2.5,25,50,75,97.5]).tolist()\n",
      "    summ=[np.mean(x),np.std(x)]\n",
      "    summ.extend(percentile)\n",
      "    summ=DataFrame(summ,index=[\"mean\",\"sd\",\"2.5%\",\"25%\",\"50%\",\"75%\",\"97.5%\"],columns=[\"info\"]).T\n",
      "    return summ"
     ],
     "language": "python",
     "metadata": {},
     "outputs": [],
     "prompt_number": 29
    },
    {
     "cell_type": "code",
     "collapsed": false,
     "input": [
      "data=DataFrame([[1976,1977,1978,1979,1980,1981,1982,1983,1984,1985],\n",
      "                [24,25,31,31,22,21,26,20,16,22],\n",
      "                [734,516,754,877,814,362,764,809,223,1066],\n",
      "                [0.19,0.12,0.15,0.16,0.14,0.06,0.13,0.13,0.03,0.15]],\n",
      "               index=[\"Year\",\"Fatal accidents\",\"Pasenger deaths\",\"Deaths rate\"])\n",
      "data=data.T"
     ],
     "language": "python",
     "metadata": {},
     "outputs": [],
     "prompt_number": 2
    },
    {
     "cell_type": "code",
     "collapsed": false,
     "input": [
      "data"
     ],
     "language": "python",
     "metadata": {},
     "outputs": [
      {
       "html": [
        "<div style=\"max-height:1000px;max-width:1500px;overflow:auto;\">\n",
        "<table border=\"1\" class=\"dataframe\">\n",
        "  <thead>\n",
        "    <tr style=\"text-align: right;\">\n",
        "      <th></th>\n",
        "      <th>Year</th>\n",
        "      <th>Fatal accidents</th>\n",
        "      <th>Pasenger deaths</th>\n",
        "      <th>Deaths rate</th>\n",
        "    </tr>\n",
        "  </thead>\n",
        "  <tbody>\n",
        "    <tr>\n",
        "      <th>0</th>\n",
        "      <td> 1976</td>\n",
        "      <td> 24</td>\n",
        "      <td>  734</td>\n",
        "      <td> 0.19</td>\n",
        "    </tr>\n",
        "    <tr>\n",
        "      <th>1</th>\n",
        "      <td> 1977</td>\n",
        "      <td> 25</td>\n",
        "      <td>  516</td>\n",
        "      <td> 0.12</td>\n",
        "    </tr>\n",
        "    <tr>\n",
        "      <th>2</th>\n",
        "      <td> 1978</td>\n",
        "      <td> 31</td>\n",
        "      <td>  754</td>\n",
        "      <td> 0.15</td>\n",
        "    </tr>\n",
        "    <tr>\n",
        "      <th>3</th>\n",
        "      <td> 1979</td>\n",
        "      <td> 31</td>\n",
        "      <td>  877</td>\n",
        "      <td> 0.16</td>\n",
        "    </tr>\n",
        "    <tr>\n",
        "      <th>4</th>\n",
        "      <td> 1980</td>\n",
        "      <td> 22</td>\n",
        "      <td>  814</td>\n",
        "      <td> 0.14</td>\n",
        "    </tr>\n",
        "    <tr>\n",
        "      <th>5</th>\n",
        "      <td> 1981</td>\n",
        "      <td> 21</td>\n",
        "      <td>  362</td>\n",
        "      <td> 0.06</td>\n",
        "    </tr>\n",
        "    <tr>\n",
        "      <th>6</th>\n",
        "      <td> 1982</td>\n",
        "      <td> 26</td>\n",
        "      <td>  764</td>\n",
        "      <td> 0.13</td>\n",
        "    </tr>\n",
        "    <tr>\n",
        "      <th>7</th>\n",
        "      <td> 1983</td>\n",
        "      <td> 20</td>\n",
        "      <td>  809</td>\n",
        "      <td> 0.13</td>\n",
        "    </tr>\n",
        "    <tr>\n",
        "      <th>8</th>\n",
        "      <td> 1984</td>\n",
        "      <td> 16</td>\n",
        "      <td>  223</td>\n",
        "      <td> 0.03</td>\n",
        "    </tr>\n",
        "    <tr>\n",
        "      <th>9</th>\n",
        "      <td> 1985</td>\n",
        "      <td> 22</td>\n",
        "      <td> 1066</td>\n",
        "      <td> 0.15</td>\n",
        "    </tr>\n",
        "  </tbody>\n",
        "</table>\n",
        "</div>"
       ],
       "metadata": {},
       "output_type": "pyout",
       "prompt_number": 3,
       "text": [
        "   Year  Fatal accidents  Pasenger deaths  Deaths rate\n",
        "0  1976               24              734         0.19\n",
        "1  1977               25              516         0.12\n",
        "2  1978               31              754         0.15\n",
        "3  1979               31              877         0.16\n",
        "4  1980               22              814         0.14\n",
        "5  1981               21              362         0.06\n",
        "6  1982               26              764         0.13\n",
        "7  1983               20              809         0.13\n",
        "8  1984               16              223         0.03\n",
        "9  1985               22             1066         0.15"
       ]
      }
     ],
     "prompt_number": 3
    },
    {
     "cell_type": "code",
     "collapsed": false,
     "input": [
      "theta=np.arange(-0.005,0.005,0.0001)\n",
      "theta_dens=sp.stats.gamma.pdf(1.*data.ix[:,2][0]/(1000000*(data.ix[:,3][0]+theta)),a=1)"
     ],
     "language": "python",
     "metadata": {},
     "outputs": [],
     "prompt_number": 65
    },
    {
     "cell_type": "code",
     "collapsed": false,
     "input": [
      "theta_sim=np.random.choice(theta,p=1.*theta_dens/np.sum(theta_dens),size=10000)"
     ],
     "language": "python",
     "metadata": {},
     "outputs": [],
     "prompt_number": 66
    },
    {
     "cell_type": "code",
     "collapsed": false,
     "input": [
      "plt.hist(theta_sim,bins=50)"
     ],
     "language": "python",
     "metadata": {},
     "outputs": [
      {
       "metadata": {},
       "output_type": "pyout",
       "prompt_number": 67,
       "text": [
        "(array([ 179.,  196.,  181.,  201.,  200.,  195.,  174.,  208.,  205.,\n",
        "         210.,  195.,  190.,  174.,  195.,  202.,  227.,  180.,  197.,\n",
        "         193.,  198.,  189.,  176.,  208.,  202.,  195.,  211.,  209.,\n",
        "         178.,  229.,  221.,  215.,  193.,  201.,  199.,  224.,  213.,\n",
        "         195.,  180.,  190.,  211.,  208.,  223.,  199.,  208.,  183.,\n",
        "         208.,  211.,  224.,  200.,  197.]),\n",
        " array([ -5.00000000e-03,  -4.80200000e-03,  -4.60400000e-03,\n",
        "         -4.40600000e-03,  -4.20800000e-03,  -4.01000000e-03,\n",
        "         -3.81200000e-03,  -3.61400000e-03,  -3.41600000e-03,\n",
        "         -3.21800000e-03,  -3.02000000e-03,  -2.82200000e-03,\n",
        "         -2.62400000e-03,  -2.42600000e-03,  -2.22800000e-03,\n",
        "         -2.03000000e-03,  -1.83200000e-03,  -1.63400000e-03,\n",
        "         -1.43600000e-03,  -1.23800000e-03,  -1.04000000e-03,\n",
        "         -8.42000000e-04,  -6.44000000e-04,  -4.46000000e-04,\n",
        "         -2.48000000e-04,  -5.00000000e-05,   1.48000000e-04,\n",
        "          3.46000000e-04,   5.44000000e-04,   7.42000000e-04,\n",
        "          9.40000000e-04,   1.13800000e-03,   1.33600000e-03,\n",
        "          1.53400000e-03,   1.73200000e-03,   1.93000000e-03,\n",
        "          2.12800000e-03,   2.32600000e-03,   2.52400000e-03,\n",
        "          2.72200000e-03,   2.92000000e-03,   3.11800000e-03,\n",
        "          3.31600000e-03,   3.51400000e-03,   3.71200000e-03,\n",
        "          3.91000000e-03,   4.10800000e-03,   4.30600000e-03,\n",
        "          4.50400000e-03,   4.70200000e-03,   4.90000000e-03]),\n",
        " <a list of 50 Patch objects>)"
       ]
      },
      {
       "metadata": {},
       "output_type": "display_data",
       "png": "[encoded data removed]",
       "text": [
        "<matplotlib.figure.Figure at 0xe80ca10>"
       ]
      }
     ],
     "prompt_number": 67
    },
    {
     "cell_type": "code",
     "collapsed": false,
     "input": [
      "summ(theta_sim)"
     ],
     "language": "python",
     "metadata": {},
     "outputs": [
      {
       "html": [
        "<div style=\"max-height:1000px;max-width:1500px;overflow:auto;\">\n",
        "<table border=\"1\" class=\"dataframe\">\n",
        "  <thead>\n",
        "    <tr style=\"text-align: right;\">\n",
        "      <th></th>\n",
        "      <th>mean</th>\n",
        "      <th>sd</th>\n",
        "      <th>2.5%</th>\n",
        "      <th>25%</th>\n",
        "      <th>50%</th>\n",
        "      <th>75%</th>\n",
        "      <th>97.5%</th>\n",
        "    </tr>\n",
        "  </thead>\n",
        "  <tbody>\n",
        "    <tr>\n",
        "      <th>info</th>\n",
        "      <td> 0.000017</td>\n",
        "      <td> 0.002878</td>\n",
        "      <td>-0.0048</td>\n",
        "      <td>-0.0025</td>\n",
        "      <td> 0.0001</td>\n",
        "      <td> 0.0025</td>\n",
        "      <td> 0.0047</td>\n",
        "    </tr>\n",
        "  </tbody>\n",
        "</table>\n",
        "</div>"
       ],
       "metadata": {},
       "output_type": "pyout",
       "prompt_number": 68,
       "text": [
        "          mean        sd    2.5%     25%     50%     75%   97.5%\n",
        "info  0.000017  0.002878 -0.0048 -0.0025  0.0001  0.0025  0.0047"
       ]
      }
     ],
     "prompt_number": 68
    },
    {
     "cell_type": "code",
     "collapsed": false,
     "input": [
      "x_i=1.*data.ix[:,2][0]/(data.ix[:,3][0]+theta_sim)\n",
      "x_i=x_i*1000000"
     ],
     "language": "python",
     "metadata": {},
     "outputs": [],
     "prompt_number": 69
    },
    {
     "cell_type": "code",
     "collapsed": false,
     "input": [
      "plt.hist(x_i,bins=50)"
     ],
     "language": "python",
     "metadata": {},
     "outputs": [
      {
       "metadata": {},
       "output_type": "pyout",
       "prompt_number": 70,
       "text": [
        "(array([ 288.,  224.,  228.,  185.,  207.,  187.,  216.,  202.,  222.,\n",
        "         218.,  187.,  182.,  194.,  195.,  232.,  207.,  208.,  201.,\n",
        "         189.,  223.,  224.,  204.,  198.,  200.,  214.,  193.,  211.,\n",
        "         188.,  174.,  192.,  191.,  205.,  175.,  213.,  213.,  219.,\n",
        "         171.,  182.,  197.,  185.,  117.,  205.,  208.,  174.,  195.,\n",
        "         200.,  201.,  181.,  196.,  179.]),\n",
        " array([  3.76603386e+09,   3.77006454e+09,   3.77409521e+09,\n",
        "          3.77812589e+09,   3.78215656e+09,   3.78618723e+09,\n",
        "          3.79021791e+09,   3.79424858e+09,   3.79827926e+09,\n",
        "          3.80230993e+09,   3.80634060e+09,   3.81037128e+09,\n",
        "          3.81440195e+09,   3.81843263e+09,   3.82246330e+09,\n",
        "          3.82649397e+09,   3.83052465e+09,   3.83455532e+09,\n",
        "          3.83858600e+09,   3.84261667e+09,   3.84664735e+09,\n",
        "          3.85067802e+09,   3.85470869e+09,   3.85873937e+09,\n",
        "          3.86277004e+09,   3.86680072e+09,   3.87083139e+09,\n",
        "          3.87486206e+09,   3.87889274e+09,   3.88292341e+09,\n",
        "          3.88695409e+09,   3.89098476e+09,   3.89501543e+09,\n",
        "          3.89904611e+09,   3.90307678e+09,   3.90710746e+09,\n",
        "          3.91113813e+09,   3.91516880e+09,   3.91919948e+09,\n",
        "          3.92323015e+09,   3.92726083e+09,   3.93129150e+09,\n",
        "          3.93532217e+09,   3.93935285e+09,   3.94338352e+09,\n",
        "          3.94741420e+09,   3.95144487e+09,   3.95547555e+09,\n",
        "          3.95950622e+09,   3.96353689e+09,   3.96756757e+09]),\n",
        " <a list of 50 Patch objects>)"
       ]
      },
      {
       "metadata": {},
       "output_type": "display_data",
       "png": "[encoded data removed]",
       "text": [
        "<matplotlib.figure.Figure at 0xee1c950>"
       ]
      }
     ],
     "prompt_number": 70
    },
    {
     "cell_type": "code",
     "collapsed": false,
     "input": [
      "summ(x_i)"
     ],
     "language": "python",
     "metadata": {},
     "outputs": [
      {
       "html": [
        "<div style=\"max-height:1000px;max-width:1500px;overflow:auto;\">\n",
        "<table border=\"1\" class=\"dataframe\">\n",
        "  <thead>\n",
        "    <tr style=\"text-align: right;\">\n",
        "      <th></th>\n",
        "      <th>mean</th>\n",
        "      <th>sd</th>\n",
        "      <th>2.5%</th>\n",
        "      <th>25%</th>\n",
        "      <th>50%</th>\n",
        "      <th>75%</th>\n",
        "      <th>97.5%</th>\n",
        "    </tr>\n",
        "  </thead>\n",
        "  <tbody>\n",
        "    <tr>\n",
        "      <th>info</th>\n",
        "      <td> 3.863702e+09</td>\n",
        "      <td> 58555142.975867</td>\n",
        "      <td> 3.769902e+09</td>\n",
        "      <td> 3.812987e+09</td>\n",
        "      <td> 3.861126e+09</td>\n",
        "      <td> 3.914667e+09</td>\n",
        "      <td> 3.963283e+09</td>\n",
        "    </tr>\n",
        "  </tbody>\n",
        "</table>\n",
        "</div>"
       ],
       "metadata": {},
       "output_type": "pyout",
       "prompt_number": 71,
       "text": [
        "              mean               sd          2.5%           25%           50%  \\\n",
        "info  3.863702e+09  58555142.975867  3.769902e+09  3.812987e+09  3.861126e+09   \n",
        "\n",
        "               75%         97.5%  \n",
        "info  3.914667e+09  3.963283e+09  "
       ]
      }
     ],
     "prompt_number": 71
    },
    {
     "cell_type": "code",
     "collapsed": false,
     "input": [
      "1.*736/0.19*1000000"
     ],
     "language": "python",
     "metadata": {},
     "outputs": [
      {
       "metadata": {},
       "output_type": "pyout",
       "prompt_number": 72,
       "text": [
        "3873684210.5263157"
       ]
      }
     ],
     "prompt_number": 72
    },
    {
     "cell_type": "code",
     "collapsed": false,
     "input": [
      "summ(data.ix[:,3][0]+theta_sim)"
     ],
     "language": "python",
     "metadata": {},
     "outputs": [
      {
       "html": [
        "<div style=\"max-height:1000px;max-width:1500px;overflow:auto;\">\n",
        "<table border=\"1\" class=\"dataframe\">\n",
        "  <thead>\n",
        "    <tr style=\"text-align: right;\">\n",
        "      <th></th>\n",
        "      <th>mean</th>\n",
        "      <th>sd</th>\n",
        "      <th>2.5%</th>\n",
        "      <th>25%</th>\n",
        "      <th>50%</th>\n",
        "      <th>75%</th>\n",
        "      <th>97.5%</th>\n",
        "    </tr>\n",
        "  </thead>\n",
        "  <tbody>\n",
        "    <tr>\n",
        "      <th>info</th>\n",
        "      <td> 0.190017</td>\n",
        "      <td> 0.002878</td>\n",
        "      <td> 0.1852</td>\n",
        "      <td> 0.1875</td>\n",
        "      <td> 0.1901</td>\n",
        "      <td> 0.1925</td>\n",
        "      <td> 0.1947</td>\n",
        "    </tr>\n",
        "  </tbody>\n",
        "</table>\n",
        "</div>"
       ],
       "metadata": {},
       "output_type": "pyout",
       "prompt_number": 73,
       "text": [
        "          mean        sd    2.5%     25%     50%     75%   97.5%\n",
        "info  0.190017  0.002878  0.1852  0.1875  0.1901  0.1925  0.1947"
       ]
      }
     ],
     "prompt_number": 73
    },
    {
     "cell_type": "code",
     "collapsed": false,
     "input": [
      "plt.plot(theta,theta_dens)"
     ],
     "language": "python",
     "metadata": {},
     "outputs": [
      {
       "metadata": {},
       "output_type": "pyout",
       "prompt_number": 74,
       "text": [
        "[<matplotlib.lines.Line2D at 0xf189230>]"
       ]
      },
      {
       "metadata": {},
       "output_type": "display_data",
       "png": "[encoded data removed]",
       "text": [
        "<matplotlib.figure.Figure at 0xc5f00d0>"
       ]
      }
     ],
     "prompt_number": 74
    },
    {
     "cell_type": "code",
     "collapsed": false,
     "input": [],
     "language": "python",
     "metadata": {},
     "outputs": []
    }
   ],
   "metadata": {}
  }
 ]
}